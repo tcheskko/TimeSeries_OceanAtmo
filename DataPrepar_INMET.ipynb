{
  "nbformat": 4,
  "nbformat_minor": 0,
  "metadata": {
    "colab": {
      "provenance": [],
      "authorship_tag": "ABX9TyOhpoHicsFdT1cY4blXEFTH",
      "include_colab_link": true
    },
    "kernelspec": {
      "name": "python3",
      "display_name": "Python 3"
    },
    "language_info": {
      "name": "python"
    }
  },
  "cells": [
    {
      "cell_type": "markdown",
      "metadata": {
        "id": "view-in-github",
        "colab_type": "text"
      },
      "source": [
        "<a href=\"https://colab.research.google.com/github/tcheskko/TimeSeries_OceanAtmo/blob/main/DataPrepar_INMET.ipynb\" target=\"_parent\"><img src=\"https://colab.research.google.com/assets/colab-badge.svg\" alt=\"Open In Colab\"/></a>"
      ]
    },
    {
      "cell_type": "code",
      "execution_count": 1,
      "metadata": {
        "id": "aeehu7MVjujI"
      },
      "outputs": [],
      "source": [
        "import numpy as np\n",
        "import pandas as pd\n",
        "import matplotlib.pyplot as plt"
      ]
    },
    {
      "cell_type": "code",
      "source": [
        "from google.colab import files\n",
        "uploaded = files.upload()"
      ],
      "metadata": {
        "colab": {
          "base_uri": "https://localhost:8080/",
          "height": 216
        },
        "id": "u-NmC8eJhhSU",
        "outputId": "2af3f3de-6d5a-4b81-d00a-aa7ad3e53222"
      },
      "execution_count": 2,
      "outputs": [
        {
          "output_type": "display_data",
          "data": {
            "text/plain": [
              "<IPython.core.display.HTML object>"
            ],
            "text/html": [
              "\n",
              "     <input type=\"file\" id=\"files-32cea18d-517b-4f0e-8d67-58d8ea39c1bf\" name=\"files[]\" multiple disabled\n",
              "        style=\"border:none\" />\n",
              "     <output id=\"result-32cea18d-517b-4f0e-8d67-58d8ea39c1bf\">\n",
              "      Upload widget is only available when the cell has been executed in the\n",
              "      current browser session. Please rerun this cell to enable.\n",
              "      </output>\n",
              "      <script>// Copyright 2017 Google LLC\n",
              "//\n",
              "// Licensed under the Apache License, Version 2.0 (the \"License\");\n",
              "// you may not use this file except in compliance with the License.\n",
              "// You may obtain a copy of the License at\n",
              "//\n",
              "//      http://www.apache.org/licenses/LICENSE-2.0\n",
              "//\n",
              "// Unless required by applicable law or agreed to in writing, software\n",
              "// distributed under the License is distributed on an \"AS IS\" BASIS,\n",
              "// WITHOUT WARRANTIES OR CONDITIONS OF ANY KIND, either express or implied.\n",
              "// See the License for the specific language governing permissions and\n",
              "// limitations under the License.\n",
              "\n",
              "/**\n",
              " * @fileoverview Helpers for google.colab Python module.\n",
              " */\n",
              "(function(scope) {\n",
              "function span(text, styleAttributes = {}) {\n",
              "  const element = document.createElement('span');\n",
              "  element.textContent = text;\n",
              "  for (const key of Object.keys(styleAttributes)) {\n",
              "    element.style[key] = styleAttributes[key];\n",
              "  }\n",
              "  return element;\n",
              "}\n",
              "\n",
              "// Max number of bytes which will be uploaded at a time.\n",
              "const MAX_PAYLOAD_SIZE = 100 * 1024;\n",
              "\n",
              "function _uploadFiles(inputId, outputId) {\n",
              "  const steps = uploadFilesStep(inputId, outputId);\n",
              "  const outputElement = document.getElementById(outputId);\n",
              "  // Cache steps on the outputElement to make it available for the next call\n",
              "  // to uploadFilesContinue from Python.\n",
              "  outputElement.steps = steps;\n",
              "\n",
              "  return _uploadFilesContinue(outputId);\n",
              "}\n",
              "\n",
              "// This is roughly an async generator (not supported in the browser yet),\n",
              "// where there are multiple asynchronous steps and the Python side is going\n",
              "// to poll for completion of each step.\n",
              "// This uses a Promise to block the python side on completion of each step,\n",
              "// then passes the result of the previous step as the input to the next step.\n",
              "function _uploadFilesContinue(outputId) {\n",
              "  const outputElement = document.getElementById(outputId);\n",
              "  const steps = outputElement.steps;\n",
              "\n",
              "  const next = steps.next(outputElement.lastPromiseValue);\n",
              "  return Promise.resolve(next.value.promise).then((value) => {\n",
              "    // Cache the last promise value to make it available to the next\n",
              "    // step of the generator.\n",
              "    outputElement.lastPromiseValue = value;\n",
              "    return next.value.response;\n",
              "  });\n",
              "}\n",
              "\n",
              "/**\n",
              " * Generator function which is called between each async step of the upload\n",
              " * process.\n",
              " * @param {string} inputId Element ID of the input file picker element.\n",
              " * @param {string} outputId Element ID of the output display.\n",
              " * @return {!Iterable<!Object>} Iterable of next steps.\n",
              " */\n",
              "function* uploadFilesStep(inputId, outputId) {\n",
              "  const inputElement = document.getElementById(inputId);\n",
              "  inputElement.disabled = false;\n",
              "\n",
              "  const outputElement = document.getElementById(outputId);\n",
              "  outputElement.innerHTML = '';\n",
              "\n",
              "  const pickedPromise = new Promise((resolve) => {\n",
              "    inputElement.addEventListener('change', (e) => {\n",
              "      resolve(e.target.files);\n",
              "    });\n",
              "  });\n",
              "\n",
              "  const cancel = document.createElement('button');\n",
              "  inputElement.parentElement.appendChild(cancel);\n",
              "  cancel.textContent = 'Cancel upload';\n",
              "  const cancelPromise = new Promise((resolve) => {\n",
              "    cancel.onclick = () => {\n",
              "      resolve(null);\n",
              "    };\n",
              "  });\n",
              "\n",
              "  // Wait for the user to pick the files.\n",
              "  const files = yield {\n",
              "    promise: Promise.race([pickedPromise, cancelPromise]),\n",
              "    response: {\n",
              "      action: 'starting',\n",
              "    }\n",
              "  };\n",
              "\n",
              "  cancel.remove();\n",
              "\n",
              "  // Disable the input element since further picks are not allowed.\n",
              "  inputElement.disabled = true;\n",
              "\n",
              "  if (!files) {\n",
              "    return {\n",
              "      response: {\n",
              "        action: 'complete',\n",
              "      }\n",
              "    };\n",
              "  }\n",
              "\n",
              "  for (const file of files) {\n",
              "    const li = document.createElement('li');\n",
              "    li.append(span(file.name, {fontWeight: 'bold'}));\n",
              "    li.append(span(\n",
              "        `(${file.type || 'n/a'}) - ${file.size} bytes, ` +\n",
              "        `last modified: ${\n",
              "            file.lastModifiedDate ? file.lastModifiedDate.toLocaleDateString() :\n",
              "                                    'n/a'} - `));\n",
              "    const percent = span('0% done');\n",
              "    li.appendChild(percent);\n",
              "\n",
              "    outputElement.appendChild(li);\n",
              "\n",
              "    const fileDataPromise = new Promise((resolve) => {\n",
              "      const reader = new FileReader();\n",
              "      reader.onload = (e) => {\n",
              "        resolve(e.target.result);\n",
              "      };\n",
              "      reader.readAsArrayBuffer(file);\n",
              "    });\n",
              "    // Wait for the data to be ready.\n",
              "    let fileData = yield {\n",
              "      promise: fileDataPromise,\n",
              "      response: {\n",
              "        action: 'continue',\n",
              "      }\n",
              "    };\n",
              "\n",
              "    // Use a chunked sending to avoid message size limits. See b/62115660.\n",
              "    let position = 0;\n",
              "    do {\n",
              "      const length = Math.min(fileData.byteLength - position, MAX_PAYLOAD_SIZE);\n",
              "      const chunk = new Uint8Array(fileData, position, length);\n",
              "      position += length;\n",
              "\n",
              "      const base64 = btoa(String.fromCharCode.apply(null, chunk));\n",
              "      yield {\n",
              "        response: {\n",
              "          action: 'append',\n",
              "          file: file.name,\n",
              "          data: base64,\n",
              "        },\n",
              "      };\n",
              "\n",
              "      let percentDone = fileData.byteLength === 0 ?\n",
              "          100 :\n",
              "          Math.round((position / fileData.byteLength) * 100);\n",
              "      percent.textContent = `${percentDone}% done`;\n",
              "\n",
              "    } while (position < fileData.byteLength);\n",
              "  }\n",
              "\n",
              "  // All done.\n",
              "  yield {\n",
              "    response: {\n",
              "      action: 'complete',\n",
              "    }\n",
              "  };\n",
              "}\n",
              "\n",
              "scope.google = scope.google || {};\n",
              "scope.google.colab = scope.google.colab || {};\n",
              "scope.google.colab._files = {\n",
              "  _uploadFiles,\n",
              "  _uploadFilesContinue,\n",
              "};\n",
              "})(self);\n",
              "</script> "
            ]
          },
          "metadata": {}
        },
        {
          "output_type": "stream",
          "name": "stdout",
          "text": [
            "Saving INMET_A806_FLORIANOPOLIS_2018.CSV to INMET_A806_FLORIANOPOLIS_2018.CSV\n",
            "Saving INMET_A806_FLORIANOPOLIS_2019.CSV to INMET_A806_FLORIANOPOLIS_2019.CSV\n",
            "Saving INMET_A806_FLORIANOPOLIS_2020.CSV to INMET_A806_FLORIANOPOLIS_2020.CSV\n",
            "Saving INMET_A806_FLORIANOPOLIS_2021.CSV to INMET_A806_FLORIANOPOLIS_2021.CSV\n",
            "Saving INMET_A806_FLORIANOPOLIS_2022.CSV to INMET_A806_FLORIANOPOLIS_2022.CSV\n"
          ]
        }
      ]
    },
    {
      "cell_type": "code",
      "source": [
        "met2018 = pd.read_csv(\"INMET_A806_FLORIANOPOLIS_2018.CSV\", encoding='ISO-8859-1', sep=';')\n",
        "met2019 = pd.read_csv(\"INMET_A806_FLORIANOPOLIS_2019.CSV\", encoding='ISO-8859-1', sep=';')\n",
        "met2020 = pd.read_csv(\"INMET_A806_FLORIANOPOLIS_2020.CSV\", encoding='ISO-8859-1', sep=';')\n",
        "met2021 = pd.read_csv(\"INMET_A806_FLORIANOPOLIS_2021.CSV\", encoding='ISO-8859-1', sep=';')\n",
        "met2022 = pd.read_csv(\"INMET_A806_FLORIANOPOLIS_2022.CSV\", encoding='ISO-8859-1', sep=';')"
      ],
      "metadata": {
        "id": "TTHk4CSSj6QD"
      },
      "execution_count": 3,
      "outputs": []
    },
    {
      "cell_type": "code",
      "source": [
        "framesINM = [met2018,met2019,met2020,met2021,met2022]\n",
        "metFULL = pd.concat(framesINM)"
      ],
      "metadata": {
        "id": "MOj9iqU3qJS6"
      },
      "execution_count": 4,
      "outputs": []
    },
    {
      "cell_type": "code",
      "source": [
        "print(metFULL.shape)\n",
        "print( metFULL.columns)"
      ],
      "metadata": {
        "id": "H60gMEue2ogY",
        "colab": {
          "base_uri": "https://localhost:8080/"
        },
        "outputId": "3d53bbbd-4eaf-4db1-cc92-a609648355c5"
      },
      "execution_count": 5,
      "outputs": [
        {
          "output_type": "stream",
          "name": "stdout",
          "text": [
            "(43824, 19)\n",
            "Index(['DATA (YYYY-MM-DD)', 'HORA', 'PREC_TOTAL', 'PATM_EST', 'PATM_MAX',\n",
            "       'PATM_MIN', 'RAD', 'TEMP_BSE', 'TEMP_ORV', 'TEMP_MAX', 'TEMP_MIN',\n",
            "       'TEMP_ORV_MAX', 'TEMP_ORV_MIN', 'UMID_MAX', 'UMID_MIN', 'UMID_AR',\n",
            "       'VENT_DIR', 'VENT_RAJ', 'VENT_VEL'],\n",
            "      dtype='object')\n"
          ]
        }
      ]
    },
    {
      "cell_type": "markdown",
      "source": [
        "## Remoção de colunas que não serão úteis"
      ],
      "metadata": {
        "id": "F9umZ8zmCqt2"
      }
    },
    {
      "cell_type": "code",
      "source": [
        "#Removendo colunas que nao serão usadas\n",
        "\n",
        "del metFULL[\"PATM_MAX\"]\n",
        "del metFULL[\"PATM_MIN\"]\n",
        "del metFULL[\"RAD\"]\n",
        "del metFULL[\"TEMP_MAX\"]\n",
        "del metFULL[\"TEMP_MIN\"]\n",
        "del metFULL[\"TEMP_ORV_MAX\"]\n",
        "del metFULL[\"TEMP_ORV_MIN\"]\n",
        "del metFULL[\"UMID_MAX\"]\n",
        "del metFULL[\"UMID_MIN\"]\n",
        "del metFULL[\"PATM_EST\"]\n",
        "del metFULL[\"TEMP_ORV\"]\n",
        "del metFULL[\"VENT_RAJ\"]\n"
      ],
      "metadata": {
        "id": "gtU8JV3u2uMa"
      },
      "execution_count": 6,
      "outputs": []
    },
    {
      "cell_type": "code",
      "source": [
        "print(metFULL.shape)\n",
        "print( metFULL.columns)"
      ],
      "metadata": {
        "id": "Mk2xDElJ9YX8",
        "colab": {
          "base_uri": "https://localhost:8080/"
        },
        "outputId": "ae597f48-3bf3-4948-a3de-689ee854317c"
      },
      "execution_count": 7,
      "outputs": [
        {
          "output_type": "stream",
          "name": "stdout",
          "text": [
            "(43824, 7)\n",
            "Index(['DATA (YYYY-MM-DD)', 'HORA', 'PREC_TOTAL', 'TEMP_BSE', 'UMID_AR',\n",
            "       'VENT_DIR', 'VENT_VEL'],\n",
            "      dtype='object')\n"
          ]
        }
      ]
    },
    {
      "cell_type": "code",
      "source": [
        "metFULL.dtypes"
      ],
      "metadata": {
        "id": "9peQNyQZkqIw",
        "colab": {
          "base_uri": "https://localhost:8080/"
        },
        "outputId": "1cbeaeae-0d29-4c42-ee03-284106f1ce1b"
      },
      "execution_count": 8,
      "outputs": [
        {
          "output_type": "execute_result",
          "data": {
            "text/plain": [
              "DATA (YYYY-MM-DD)     object\n",
              "HORA                  object\n",
              "PREC_TOTAL            object\n",
              "TEMP_BSE              object\n",
              "UMID_AR              float64\n",
              "VENT_DIR             float64\n",
              "VENT_VEL              object\n",
              "dtype: object"
            ]
          },
          "metadata": {},
          "execution_count": 8
        }
      ]
    },
    {
      "cell_type": "markdown",
      "source": [
        "## Ajuste da coluna 'DATA'"
      ],
      "metadata": {
        "id": "sUbf2G2ICz3a"
      }
    },
    {
      "cell_type": "code",
      "source": [
        "#Renomeando a coluna 'data'\n",
        "\n",
        "metFULL.rename(columns={'DATA (YYYY-MM-DD)': 'DATE'}, inplace=True)\n",
        "\n",
        "#Modificando para DateTime a coluna 'Data'\n",
        "\n",
        "metFULL['DATE'] = pd.to_datetime(metFULL['DATE'])"
      ],
      "metadata": {
        "id": "8IMuQw4LlnQ5",
        "colab": {
          "base_uri": "https://localhost:8080/"
        },
        "outputId": "add26a67-bbc9-40d0-f808-c9ce39eb7f06"
      },
      "execution_count": 9,
      "outputs": [
        {
          "output_type": "stream",
          "name": "stderr",
          "text": [
            "<ipython-input-9-28fcc9c131ef>:7: UserWarning: Parsing dates in DD/MM/YYYY format when dayfirst=False (the default) was specified. This may lead to inconsistently parsed dates! Specify a format to ensure consistent parsing.\n",
            "  metFULL['DATE'] = pd.to_datetime(metFULL['DATE'])\n"
          ]
        }
      ]
    },
    {
      "cell_type": "code",
      "source": [
        "metFULL.dtypes"
      ],
      "metadata": {
        "id": "LL08cSDYtQcs",
        "colab": {
          "base_uri": "https://localhost:8080/"
        },
        "outputId": "1d6e6404-a795-4342-acee-30bfdf3bc73e"
      },
      "execution_count": 10,
      "outputs": [
        {
          "output_type": "execute_result",
          "data": {
            "text/plain": [
              "DATE          datetime64[ns]\n",
              "HORA                  object\n",
              "PREC_TOTAL            object\n",
              "TEMP_BSE              object\n",
              "UMID_AR              float64\n",
              "VENT_DIR             float64\n",
              "VENT_VEL              object\n",
              "dtype: object"
            ]
          },
          "metadata": {},
          "execution_count": 10
        }
      ]
    },
    {
      "cell_type": "markdown",
      "source": [
        "## Tratamento de valores inconsistentes\n",
        "- Ajuste do separador de milhar para float\n",
        "- Busca por dados nulos\n",
        "- Calculo de média de dados de dias anteriores para gerar novo valor"
      ],
      "metadata": {
        "id": "_Tc4Ajp-C5AV"
      }
    },
    {
      "cell_type": "code",
      "source": [
        "#Buscando valores nulos\n",
        "\n",
        "print(metFULL.isnull().sum())"
      ],
      "metadata": {
        "id": "M29VKeCPuWLt",
        "colab": {
          "base_uri": "https://localhost:8080/"
        },
        "outputId": "f8ed0db3-7752-4dc4-d352-1e7d1341143b"
      },
      "execution_count": 11,
      "outputs": [
        {
          "output_type": "stream",
          "name": "stdout",
          "text": [
            "DATE            0\n",
            "HORA            0\n",
            "PREC_TOTAL    750\n",
            "TEMP_BSE       29\n",
            "UMID_AR        29\n",
            "VENT_DIR       29\n",
            "VENT_VEL       29\n",
            "dtype: int64\n"
          ]
        }
      ]
    },
    {
      "cell_type": "code",
      "source": [
        "#Transformando dados para float (somente objects) e trocando a virgula por ponto\n",
        "\n",
        "metFULL['PREC_TOTAL'] = pd.to_numeric(metFULL['PREC_TOTAL'].str.replace(',','.'), errors='ignore').astype(pd.Float64Dtype())\n",
        "metFULL['TEMP_BSE'] = pd.to_numeric(metFULL['TEMP_BSE'].str.replace(',','.'), errors='ignore').astype(pd.Float64Dtype())\n",
        "metFULL['VENT_VEL'] = pd.to_numeric(metFULL['VENT_VEL'].str.replace(',','.'), errors='ignore').astype(pd.Float64Dtype())"
      ],
      "metadata": {
        "id": "mKvvQ8oCutA_"
      },
      "execution_count": 12,
      "outputs": []
    },
    {
      "cell_type": "code",
      "source": [
        "metFULL.dtypes"
      ],
      "metadata": {
        "id": "-e5eE4H6vahW",
        "colab": {
          "base_uri": "https://localhost:8080/"
        },
        "outputId": "5322aef7-a9b3-4964-8e9f-2c08b8feb3cd"
      },
      "execution_count": 13,
      "outputs": [
        {
          "output_type": "execute_result",
          "data": {
            "text/plain": [
              "DATE          datetime64[ns]\n",
              "HORA                  object\n",
              "PREC_TOTAL           Float64\n",
              "TEMP_BSE             Float64\n",
              "UMID_AR              float64\n",
              "VENT_DIR             float64\n",
              "VENT_VEL             Float64\n",
              "dtype: object"
            ]
          },
          "metadata": {},
          "execution_count": 13
        }
      ]
    },
    {
      "cell_type": "code",
      "source": [
        "#Encontrando valores nulos\n",
        "\n",
        "print(metFULL.isnull().sum())"
      ],
      "metadata": {
        "id": "Y1I8IPy6xzcH",
        "colab": {
          "base_uri": "https://localhost:8080/"
        },
        "outputId": "e37bd1d8-6451-4ece-bb86-3d26811dfbb1"
      },
      "execution_count": 14,
      "outputs": [
        {
          "output_type": "stream",
          "name": "stdout",
          "text": [
            "DATE            0\n",
            "HORA            0\n",
            "PREC_TOTAL    750\n",
            "TEMP_BSE       29\n",
            "UMID_AR        29\n",
            "VENT_DIR       29\n",
            "VENT_VEL       29\n",
            "dtype: int64\n"
          ]
        }
      ]
    },
    {
      "cell_type": "code",
      "source": [
        "metFULL[\"VENT_VEL\"]"
      ],
      "metadata": {
        "id": "v75ZQI-4QlYT",
        "colab": {
          "base_uri": "https://localhost:8080/"
        },
        "outputId": "be389197-620b-482a-b073-ba361ee1c750"
      },
      "execution_count": 15,
      "outputs": [
        {
          "output_type": "execute_result",
          "data": {
            "text/plain": [
              "0        1.2\n",
              "1        0.9\n",
              "2        0.5\n",
              "3        0.2\n",
              "4        0.7\n",
              "        ... \n",
              "8755    <NA>\n",
              "8756    <NA>\n",
              "8757    <NA>\n",
              "8758    <NA>\n",
              "8759    <NA>\n",
              "Name: VENT_VEL, Length: 43824, dtype: Float64"
            ]
          },
          "metadata": {},
          "execution_count": 15
        }
      ]
    },
    {
      "cell_type": "code",
      "source": [
        "#Em cada linha onde a coluna 'N' é nula, calculo a média dos valores das 10 linhas anteriores a essa linha nula\n",
        "\n",
        "for idx, row in metFULL.iterrows():\n",
        "  if pd.isnull(row[\"VENT_VEL\"]):\n",
        "    valuesAVG = metFULL.loc[idx, \"VENT_VEL\"].head(10)\n",
        "    valuesNOT_NULL = valuesAVG.dropna()\n",
        "    avr_VENT_VEL = np.median(valuesNOT_NULL)\n",
        "    metFULL.at[idx, \"VENT_VEL\"] = avr_VENT_VEL"
      ],
      "metadata": {
        "id": "UCBWpseIgzJ3"
      },
      "execution_count": 16,
      "outputs": []
    },
    {
      "cell_type": "code",
      "source": [
        "print(metFULL.isnull().sum())"
      ],
      "metadata": {
        "id": "oqjQVaeznQD0",
        "colab": {
          "base_uri": "https://localhost:8080/"
        },
        "outputId": "7113ee52-008c-4f4c-ad0c-c65f39dfcd78"
      },
      "execution_count": 17,
      "outputs": [
        {
          "output_type": "stream",
          "name": "stdout",
          "text": [
            "DATE            0\n",
            "HORA            0\n",
            "PREC_TOTAL    750\n",
            "TEMP_BSE       29\n",
            "UMID_AR        29\n",
            "VENT_DIR       29\n",
            "VENT_VEL        0\n",
            "dtype: int64\n"
          ]
        }
      ]
    },
    {
      "cell_type": "code",
      "source": [
        "for idx, row in metFULL.iterrows():\n",
        "  if pd.isnull(row[\"VENT_DIR\"]):\n",
        "    valuesToAVG = metFULL.loc[idx, \"VENT_DIR\"].head(10).dropna()\n",
        "    newAVG = np.median(valuesToAVG)\n",
        "    metFULL.at[idx, \"VENT_DIR\"] = newAVG"
      ],
      "metadata": {
        "id": "s8Fbza3L7-CR"
      },
      "execution_count": 18,
      "outputs": []
    },
    {
      "cell_type": "code",
      "source": [
        "for idx, row in metFULL.iterrows():\n",
        "  if pd.isnull(row[\"UMID_AR\"]):\n",
        "    valuesToAVG = metFULL.loc[idx, \"UMID_AR\"].head(10).dropna()\n",
        "    newAVG = np.median(valuesToAVG)\n",
        "    metFULL.at[idx, \"UMID_AR\"] = newAVG"
      ],
      "metadata": {
        "id": "3SQBisCn9cPG"
      },
      "execution_count": 19,
      "outputs": []
    },
    {
      "cell_type": "code",
      "source": [
        "for idx, row in metFULL.iterrows():\n",
        "  if pd.isnull(row[\"TEMP_BSE\"]):\n",
        "    valuesToAVG = metFULL.loc[idx, \"TEMP_BSE\"].head(10).dropna()\n",
        "    newAVG = np.median(valuesToAVG)\n",
        "    metFULL.at[idx, \"TEMP_BSE\"] = newAVG"
      ],
      "metadata": {
        "id": "ChNZCrU_9eFR"
      },
      "execution_count": 20,
      "outputs": []
    },
    {
      "cell_type": "code",
      "source": [
        "for idx, row in metFULL.iterrows():\n",
        "  if pd.isnull(row[\"PREC_TOTAL\"]):\n",
        "    valuesToAVG = metFULL.loc[idx, \"PREC_TOTAL\"].head(10).dropna()\n",
        "    newAVG = np.median(valuesToAVG)\n",
        "    metFULL.at[idx, \"PREC_TOTAL\"] = newAVG"
      ],
      "metadata": {
        "id": "gJee4cP79fGw"
      },
      "execution_count": 21,
      "outputs": []
    },
    {
      "cell_type": "code",
      "source": [
        "print(metFULL.isnull().sum())"
      ],
      "metadata": {
        "id": "gqHx0UprPMpJ",
        "colab": {
          "base_uri": "https://localhost:8080/"
        },
        "outputId": "6bec90f5-c441-40a5-ca07-99d7eef67b27"
      },
      "execution_count": 22,
      "outputs": [
        {
          "output_type": "stream",
          "name": "stdout",
          "text": [
            "DATE          0\n",
            "HORA          0\n",
            "PREC_TOTAL    0\n",
            "TEMP_BSE      0\n",
            "UMID_AR       0\n",
            "VENT_DIR      0\n",
            "VENT_VEL      0\n",
            "dtype: int64\n"
          ]
        }
      ]
    },
    {
      "cell_type": "code",
      "source": [
        "metFULL.shape"
      ],
      "metadata": {
        "id": "l_FC_5AyWljH",
        "colab": {
          "base_uri": "https://localhost:8080/"
        },
        "outputId": "98b7e21a-ca7a-47ab-a8f8-b1894ec8de84"
      },
      "execution_count": 23,
      "outputs": [
        {
          "output_type": "execute_result",
          "data": {
            "text/plain": [
              "(43824, 7)"
            ]
          },
          "metadata": {},
          "execution_count": 23
        }
      ]
    },
    {
      "cell_type": "code",
      "source": [
        "metFULL.dtypes"
      ],
      "metadata": {
        "id": "V-scsmxsWIvL",
        "colab": {
          "base_uri": "https://localhost:8080/"
        },
        "outputId": "dfe681ab-e32a-43b0-f08a-234179afa42b"
      },
      "execution_count": 24,
      "outputs": [
        {
          "output_type": "execute_result",
          "data": {
            "text/plain": [
              "DATE          datetime64[ns]\n",
              "HORA                  object\n",
              "PREC_TOTAL           Float64\n",
              "TEMP_BSE             Float64\n",
              "UMID_AR              float64\n",
              "VENT_DIR             float64\n",
              "VENT_VEL             Float64\n",
              "dtype: object"
            ]
          },
          "metadata": {},
          "execution_count": 24
        }
      ]
    },
    {
      "cell_type": "markdown",
      "source": [
        "## Ajuste das colunas 'DATA' e 'HORA'\n",
        "- Formatação da data;\n",
        "- Ajuste do tipo de dado para 'HORA'\n",
        "- Remoção de linhas não úteis a partir do dado 'HORA'\n",
        "- Remoção da coluna 'HORA'"
      ],
      "metadata": {
        "id": "_1T3hEMjDa5v"
      }
    },
    {
      "cell_type": "code",
      "source": [
        "from datetime import datetime, timezone"
      ],
      "metadata": {
        "id": "7DMc6LUWWfoM"
      },
      "execution_count": 25,
      "outputs": []
    },
    {
      "cell_type": "code",
      "source": [
        "#Remove todas as letras da coluna\n",
        "metFULL['HORA'] = metFULL['HORA'].str.replace('\\D', '', regex=True)"
      ],
      "metadata": {
        "id": "pa6su9AAYwR9"
      },
      "execution_count": 26,
      "outputs": []
    },
    {
      "cell_type": "code",
      "source": [
        "print(metFULL.isnull().sum())"
      ],
      "metadata": {
        "id": "DUALiMcMaCNa",
        "colab": {
          "base_uri": "https://localhost:8080/"
        },
        "outputId": "910fd058-9614-45d0-9bf5-e4e75d346792"
      },
      "execution_count": 27,
      "outputs": [
        {
          "output_type": "stream",
          "name": "stdout",
          "text": [
            "DATE          0\n",
            "HORA          0\n",
            "PREC_TOTAL    0\n",
            "TEMP_BSE      0\n",
            "UMID_AR       0\n",
            "VENT_DIR      0\n",
            "VENT_VEL      0\n",
            "dtype: int64\n"
          ]
        }
      ]
    },
    {
      "cell_type": "code",
      "source": [
        "metFULL['HORA'] = pd.to_numeric(metFULL['HORA'])"
      ],
      "metadata": {
        "id": "vTx6-ZDDaqkv"
      },
      "execution_count": 28,
      "outputs": []
    },
    {
      "cell_type": "code",
      "source": [
        "metFULL[\"HORA\"]"
      ],
      "metadata": {
        "id": "jZTBQPO0e0S9",
        "colab": {
          "base_uri": "https://localhost:8080/"
        },
        "outputId": "cbc65af3-adeb-421d-f426-8e08691c6b68"
      },
      "execution_count": 29,
      "outputs": [
        {
          "output_type": "execute_result",
          "data": {
            "text/plain": [
              "0          0\n",
              "1        100\n",
              "2        200\n",
              "3        300\n",
              "4        400\n",
              "        ... \n",
              "8755    1900\n",
              "8756    2000\n",
              "8757    2100\n",
              "8758    2200\n",
              "8759    2300\n",
              "Name: HORA, Length: 43824, dtype: int64"
            ]
          },
          "metadata": {},
          "execution_count": 29
        }
      ]
    },
    {
      "cell_type": "code",
      "source": [
        "metFULL.shape"
      ],
      "metadata": {
        "id": "cueea-I4gk23",
        "colab": {
          "base_uri": "https://localhost:8080/"
        },
        "outputId": "4cb82acd-b4d6-4902-c6db-15dbccd4c56b"
      },
      "execution_count": 30,
      "outputs": [
        {
          "output_type": "execute_result",
          "data": {
            "text/plain": [
              "(43824, 7)"
            ]
          },
          "metadata": {},
          "execution_count": 30
        }
      ]
    },
    {
      "cell_type": "code",
      "source": [
        "print(metFULL.isnull().sum())"
      ],
      "metadata": {
        "id": "lO70rAixiAvf",
        "colab": {
          "base_uri": "https://localhost:8080/"
        },
        "outputId": "67f1e621-aa63-49f9-b22b-089c9ae65037"
      },
      "execution_count": 31,
      "outputs": [
        {
          "output_type": "stream",
          "name": "stdout",
          "text": [
            "DATE          0\n",
            "HORA          0\n",
            "PREC_TOTAL    0\n",
            "TEMP_BSE      0\n",
            "UMID_AR       0\n",
            "VENT_DIR      0\n",
            "VENT_VEL      0\n",
            "dtype: int64\n"
          ]
        }
      ]
    },
    {
      "cell_type": "code",
      "source": [
        "metFULL.drop(metFULL[(metFULL['HORA'] >1200)].index, inplace=True)"
      ],
      "metadata": {
        "id": "TFWZh_juiT1v"
      },
      "execution_count": 32,
      "outputs": []
    },
    {
      "cell_type": "code",
      "source": [
        "metFULL.shape"
      ],
      "metadata": {
        "id": "nFtezHULi4nf",
        "colab": {
          "base_uri": "https://localhost:8080/"
        },
        "outputId": "1ec118fd-fec0-4f7d-e6b9-8c9d35fc36dc"
      },
      "execution_count": 33,
      "outputs": [
        {
          "output_type": "execute_result",
          "data": {
            "text/plain": [
              "(23738, 7)"
            ]
          },
          "metadata": {},
          "execution_count": 33
        }
      ]
    },
    {
      "cell_type": "code",
      "source": [
        "metFULL.drop(metFULL[(metFULL['HORA'] <1200)].index, inplace=True)"
      ],
      "metadata": {
        "id": "GL1UYB5kjiQU"
      },
      "execution_count": 34,
      "outputs": []
    },
    {
      "cell_type": "code",
      "source": [
        "metFULL.shape"
      ],
      "metadata": {
        "id": "Xs0Uiod0ky34",
        "colab": {
          "base_uri": "https://localhost:8080/"
        },
        "outputId": "0f49b76c-82af-40e5-a024-e48ea3247cea"
      },
      "execution_count": 35,
      "outputs": [
        {
          "output_type": "execute_result",
          "data": {
            "text/plain": [
              "(1826, 7)"
            ]
          },
          "metadata": {},
          "execution_count": 35
        }
      ]
    },
    {
      "cell_type": "code",
      "source": [
        "metFULL[\"HORA\"]"
      ],
      "metadata": {
        "id": "NL371Mnfmmwj",
        "colab": {
          "base_uri": "https://localhost:8080/"
        },
        "outputId": "445dabd5-69a6-492a-e3e1-4612ac08a415"
      },
      "execution_count": 36,
      "outputs": [
        {
          "output_type": "execute_result",
          "data": {
            "text/plain": [
              "12      1200\n",
              "36      1200\n",
              "60      1200\n",
              "84      1200\n",
              "108     1200\n",
              "        ... \n",
              "8652    1200\n",
              "8676    1200\n",
              "8700    1200\n",
              "8724    1200\n",
              "8748    1200\n",
              "Name: HORA, Length: 1826, dtype: int64"
            ]
          },
          "metadata": {},
          "execution_count": 36
        }
      ]
    },
    {
      "cell_type": "code",
      "source": [
        "metFULL['DATE'] = pd.to_datetime(metFULL[\"DATE\"].dt.strftime('%d-%m-%y'))"
      ],
      "metadata": {
        "id": "NbMJiosTntvV"
      },
      "execution_count": 37,
      "outputs": []
    },
    {
      "cell_type": "code",
      "source": [
        "del metFULL[\"HORA\"]"
      ],
      "metadata": {
        "id": "SPoAgHmX2goZ"
      },
      "execution_count": 38,
      "outputs": []
    },
    {
      "cell_type": "markdown",
      "source": [
        "## Nova coluna 'VENT_DROS'\n",
        "Direção do vento convertida de angulos (coluna 'VENT_DIR') para texto (Rosa dos ventos)"
      ],
      "metadata": {
        "id": "c8DqcWXJFDJH"
      }
    },
    {
      "cell_type": "code",
      "source": [
        "for idx, row in metFULL.iterrows():\n",
        "  if pd.isnull(row[\"VENT_DIR\"]) == False:\n",
        "    ang_VDIR = row[\"VENT_DIR\"]\n",
        "    new_VDIR_CR = int((ang_VDIR/22.5)+.5)\n",
        "    arr_CR = [\"N\",\"NNE\",\"NE\",\"ENE\",\"E\",\"ESE\", \"SE\", \"SSE\",\"S\",\"SSW\",\"SW\",\"WSW\",\"W\",\"WNW\",\"NW\",\"NNW\"]\n",
        "    metFULL.loc[idx,\"VENT_DROS\"] = arr_CR[(new_VDIR_CR % 16)]"
      ],
      "metadata": {
        "id": "kZec0DuPFCHE"
      },
      "execution_count": 39,
      "outputs": []
    },
    {
      "cell_type": "code",
      "source": [
        "print(metFULL.isnull().sum())"
      ],
      "metadata": {
        "id": "liqozSKfF6mg",
        "colab": {
          "base_uri": "https://localhost:8080/"
        },
        "outputId": "c3fd6db1-ecf6-4360-c5be-4636a6808f4e"
      },
      "execution_count": 40,
      "outputs": [
        {
          "output_type": "stream",
          "name": "stdout",
          "text": [
            "DATE          0\n",
            "PREC_TOTAL    0\n",
            "TEMP_BSE      0\n",
            "UMID_AR       0\n",
            "VENT_DIR      0\n",
            "VENT_VEL      0\n",
            "VENT_DROS     0\n",
            "dtype: int64\n"
          ]
        }
      ]
    },
    {
      "cell_type": "markdown",
      "source": [
        "## Alteração do nome das colunas para inserir prefixo 'INM_'"
      ],
      "metadata": {
        "id": "6kIykl-CEAgi"
      }
    },
    {
      "cell_type": "code",
      "source": [
        "metFULL.rename(columns={'PREC_TOTAL': 'INM_PREC_TOTAL'}, inplace=True)\n",
        "metFULL.rename(columns={'TEMP_BSE': 'INM_TEMP_BSE'}, inplace=True)\n",
        "metFULL.rename(columns={'UMID_AR': 'INM_UMID_AR'}, inplace=True)\n",
        "metFULL.rename(columns={'VENT_DIR': 'INM_VENT_DIR'}, inplace=True)\n",
        "metFULL.rename(columns={'VENT_VEL': 'INM_VENT_VEL'}, inplace=True)\n",
        "metFULL.rename(columns={'VENT_DROS': 'INM_VENT_DROS'}, inplace=True)"
      ],
      "metadata": {
        "id": "1yqZbiM7sPWx"
      },
      "execution_count": 41,
      "outputs": []
    },
    {
      "cell_type": "code",
      "source": [
        "metFULL.columns"
      ],
      "metadata": {
        "id": "ZIfMdsu5F9uw",
        "colab": {
          "base_uri": "https://localhost:8080/"
        },
        "outputId": "5147ca15-2ced-4a95-c7e5-0592e56e2773"
      },
      "execution_count": 42,
      "outputs": [
        {
          "output_type": "execute_result",
          "data": {
            "text/plain": [
              "Index(['DATE', 'INM_PREC_TOTAL', 'INM_TEMP_BSE', 'INM_UMID_AR', 'INM_VENT_DIR',\n",
              "       'INM_VENT_VEL', 'INM_VENT_DROS'],\n",
              "      dtype='object')"
            ]
          },
          "metadata": {},
          "execution_count": 42
        }
      ]
    },
    {
      "cell_type": "code",
      "source": [],
      "metadata": {
        "id": "befJOGFdHvSz"
      },
      "execution_count": 42,
      "outputs": []
    }
  ]
}