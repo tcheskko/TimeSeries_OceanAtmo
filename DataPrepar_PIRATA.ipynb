{
  "nbformat": 4,
  "nbformat_minor": 0,
  "metadata": {
    "colab": {
      "provenance": [],
      "authorship_tag": "ABX9TyOTiioFM3tdeFZqh8C3iVLk",
      "include_colab_link": true
    },
    "kernelspec": {
      "name": "python3",
      "display_name": "Python 3"
    },
    "language_info": {
      "name": "python"
    }
  },
  "cells": [
    {
      "cell_type": "markdown",
      "metadata": {
        "id": "view-in-github",
        "colab_type": "text"
      },
      "source": [
        "<a href=\"https://colab.research.google.com/github/tcheskko/TimeSeries_OceanAtmo/blob/main/DataPrepar_PIRATA.ipynb\" target=\"_parent\"><img src=\"https://colab.research.google.com/assets/colab-badge.svg\" alt=\"Open In Colab\"/></a>"
      ]
    },
    {
      "cell_type": "code",
      "execution_count": 1,
      "metadata": {
        "id": "AaykWaGDJQjL"
      },
      "outputs": [],
      "source": [
        "import numpy as np\n",
        "import pandas as pd\n",
        "import matplotlib.pyplot as plt\n",
        "from sklearn.impute import KNNImputer\n",
        "from sklearn.pipeline import Pipeline\n",
        "from sklearn.ensemble import RandomForestClassifier"
      ]
    },
    {
      "cell_type": "code",
      "source": [
        "from google.colab import files\n",
        "uploaded = files.upload()"
      ],
      "metadata": {
        "colab": {
          "base_uri": "https://localhost:8080/",
          "height": 252
        },
        "id": "iOMSfAd2hThw",
        "outputId": "98115bb6-486c-46f3-e63c-29bd65a7f088"
      },
      "execution_count": 2,
      "outputs": [
        {
          "output_type": "display_data",
          "data": {
            "text/plain": [
              "<IPython.core.display.HTML object>"
            ],
            "text/html": [
              "\n",
              "     <input type=\"file\" id=\"files-3abe3614-0a6e-4fd2-b388-d4be9c9daef8\" name=\"files[]\" multiple disabled\n",
              "        style=\"border:none\" />\n",
              "     <output id=\"result-3abe3614-0a6e-4fd2-b388-d4be9c9daef8\">\n",
              "      Upload widget is only available when the cell has been executed in the\n",
              "      current browser session. Please rerun this cell to enable.\n",
              "      </output>\n",
              "      <script>// Copyright 2017 Google LLC\n",
              "//\n",
              "// Licensed under the Apache License, Version 2.0 (the \"License\");\n",
              "// you may not use this file except in compliance with the License.\n",
              "// You may obtain a copy of the License at\n",
              "//\n",
              "//      http://www.apache.org/licenses/LICENSE-2.0\n",
              "//\n",
              "// Unless required by applicable law or agreed to in writing, software\n",
              "// distributed under the License is distributed on an \"AS IS\" BASIS,\n",
              "// WITHOUT WARRANTIES OR CONDITIONS OF ANY KIND, either express or implied.\n",
              "// See the License for the specific language governing permissions and\n",
              "// limitations under the License.\n",
              "\n",
              "/**\n",
              " * @fileoverview Helpers for google.colab Python module.\n",
              " */\n",
              "(function(scope) {\n",
              "function span(text, styleAttributes = {}) {\n",
              "  const element = document.createElement('span');\n",
              "  element.textContent = text;\n",
              "  for (const key of Object.keys(styleAttributes)) {\n",
              "    element.style[key] = styleAttributes[key];\n",
              "  }\n",
              "  return element;\n",
              "}\n",
              "\n",
              "// Max number of bytes which will be uploaded at a time.\n",
              "const MAX_PAYLOAD_SIZE = 100 * 1024;\n",
              "\n",
              "function _uploadFiles(inputId, outputId) {\n",
              "  const steps = uploadFilesStep(inputId, outputId);\n",
              "  const outputElement = document.getElementById(outputId);\n",
              "  // Cache steps on the outputElement to make it available for the next call\n",
              "  // to uploadFilesContinue from Python.\n",
              "  outputElement.steps = steps;\n",
              "\n",
              "  return _uploadFilesContinue(outputId);\n",
              "}\n",
              "\n",
              "// This is roughly an async generator (not supported in the browser yet),\n",
              "// where there are multiple asynchronous steps and the Python side is going\n",
              "// to poll for completion of each step.\n",
              "// This uses a Promise to block the python side on completion of each step,\n",
              "// then passes the result of the previous step as the input to the next step.\n",
              "function _uploadFilesContinue(outputId) {\n",
              "  const outputElement = document.getElementById(outputId);\n",
              "  const steps = outputElement.steps;\n",
              "\n",
              "  const next = steps.next(outputElement.lastPromiseValue);\n",
              "  return Promise.resolve(next.value.promise).then((value) => {\n",
              "    // Cache the last promise value to make it available to the next\n",
              "    // step of the generator.\n",
              "    outputElement.lastPromiseValue = value;\n",
              "    return next.value.response;\n",
              "  });\n",
              "}\n",
              "\n",
              "/**\n",
              " * Generator function which is called between each async step of the upload\n",
              " * process.\n",
              " * @param {string} inputId Element ID of the input file picker element.\n",
              " * @param {string} outputId Element ID of the output display.\n",
              " * @return {!Iterable<!Object>} Iterable of next steps.\n",
              " */\n",
              "function* uploadFilesStep(inputId, outputId) {\n",
              "  const inputElement = document.getElementById(inputId);\n",
              "  inputElement.disabled = false;\n",
              "\n",
              "  const outputElement = document.getElementById(outputId);\n",
              "  outputElement.innerHTML = '';\n",
              "\n",
              "  const pickedPromise = new Promise((resolve) => {\n",
              "    inputElement.addEventListener('change', (e) => {\n",
              "      resolve(e.target.files);\n",
              "    });\n",
              "  });\n",
              "\n",
              "  const cancel = document.createElement('button');\n",
              "  inputElement.parentElement.appendChild(cancel);\n",
              "  cancel.textContent = 'Cancel upload';\n",
              "  const cancelPromise = new Promise((resolve) => {\n",
              "    cancel.onclick = () => {\n",
              "      resolve(null);\n",
              "    };\n",
              "  });\n",
              "\n",
              "  // Wait for the user to pick the files.\n",
              "  const files = yield {\n",
              "    promise: Promise.race([pickedPromise, cancelPromise]),\n",
              "    response: {\n",
              "      action: 'starting',\n",
              "    }\n",
              "  };\n",
              "\n",
              "  cancel.remove();\n",
              "\n",
              "  // Disable the input element since further picks are not allowed.\n",
              "  inputElement.disabled = true;\n",
              "\n",
              "  if (!files) {\n",
              "    return {\n",
              "      response: {\n",
              "        action: 'complete',\n",
              "      }\n",
              "    };\n",
              "  }\n",
              "\n",
              "  for (const file of files) {\n",
              "    const li = document.createElement('li');\n",
              "    li.append(span(file.name, {fontWeight: 'bold'}));\n",
              "    li.append(span(\n",
              "        `(${file.type || 'n/a'}) - ${file.size} bytes, ` +\n",
              "        `last modified: ${\n",
              "            file.lastModifiedDate ? file.lastModifiedDate.toLocaleDateString() :\n",
              "                                    'n/a'} - `));\n",
              "    const percent = span('0% done');\n",
              "    li.appendChild(percent);\n",
              "\n",
              "    outputElement.appendChild(li);\n",
              "\n",
              "    const fileDataPromise = new Promise((resolve) => {\n",
              "      const reader = new FileReader();\n",
              "      reader.onload = (e) => {\n",
              "        resolve(e.target.result);\n",
              "      };\n",
              "      reader.readAsArrayBuffer(file);\n",
              "    });\n",
              "    // Wait for the data to be ready.\n",
              "    let fileData = yield {\n",
              "      promise: fileDataPromise,\n",
              "      response: {\n",
              "        action: 'continue',\n",
              "      }\n",
              "    };\n",
              "\n",
              "    // Use a chunked sending to avoid message size limits. See b/62115660.\n",
              "    let position = 0;\n",
              "    do {\n",
              "      const length = Math.min(fileData.byteLength - position, MAX_PAYLOAD_SIZE);\n",
              "      const chunk = new Uint8Array(fileData, position, length);\n",
              "      position += length;\n",
              "\n",
              "      const base64 = btoa(String.fromCharCode.apply(null, chunk));\n",
              "      yield {\n",
              "        response: {\n",
              "          action: 'append',\n",
              "          file: file.name,\n",
              "          data: base64,\n",
              "        },\n",
              "      };\n",
              "\n",
              "      let percentDone = fileData.byteLength === 0 ?\n",
              "          100 :\n",
              "          Math.round((position / fileData.byteLength) * 100);\n",
              "      percent.textContent = `${percentDone}% done`;\n",
              "\n",
              "    } while (position < fileData.byteLength);\n",
              "  }\n",
              "\n",
              "  // All done.\n",
              "  yield {\n",
              "    response: {\n",
              "      action: 'complete',\n",
              "    }\n",
              "  };\n",
              "}\n",
              "\n",
              "scope.google = scope.google || {};\n",
              "scope.google.colab = scope.google.colab || {};\n",
              "scope.google.colab._files = {\n",
              "  _uploadFiles,\n",
              "  _uploadFilesContinue,\n",
              "};\n",
              "})(self);\n",
              "</script> "
            ]
          },
          "metadata": {}
        },
        {
          "output_type": "stream",
          "name": "stdout",
          "text": [
            "Saving DephtSalinity_2018.csv to DephtSalinity_2018.csv\n",
            "Saving DynamicHeight_2018.csv to DynamicHeight_2018.csv\n",
            "Saving Precipitation_2018.csv to Precipitation_2018.csv\n",
            "Saving SeaLevelPressure_2018.csv to SeaLevelPressure_2018.csv\n",
            "Saving SeaSurfaceTemperature_2018.csv to SeaSurfaceTemperature_2018.csv\n",
            "Saving Winds_2018.csv to Winds_2018.csv\n"
          ]
        }
      ]
    },
    {
      "cell_type": "markdown",
      "source": [
        "## Dados 2018"
      ],
      "metadata": {
        "id": "L6ctZxuhJX0F"
      }
    },
    {
      "cell_type": "code",
      "source": [
        "ds2018 = pd.read_csv(\"DephtSalinity_2018.csv\", sep=\";\")\n",
        "dh2018 = pd.read_csv(\"DynamicHeight_2018.csv\", sep=\";\")\n",
        "pr2018 = pd.read_csv(\"Precipitation_2018.csv\", sep=\";\")\n",
        "sp2018 = pd.read_csv(\"SeaLevelPressure_2018.csv\", sep=\";\")\n",
        "st2018 = pd.read_csv(\"SeaSurfaceTemperature_2018.csv\", sep=\";\")\n",
        "wi2018 = pd.read_csv(\"Winds_2018.csv\", sep=\";\")"
      ],
      "metadata": {
        "id": "My6FhJcxJgHd"
      },
      "execution_count": 3,
      "outputs": []
    },
    {
      "cell_type": "code",
      "source": [
        "ds2018.rename(columns={'YYYYMMDD': 'DATE'}, inplace=True)\n",
        "ds2018['DATE'] = pd.to_datetime(ds2018[\"DATE\"], format = '%Y%m%d')\n",
        "\n",
        "dh2018.rename(columns={'YYYYMMDD': 'DATE'}, inplace=True)\n",
        "dh2018['DATE'] = pd.to_datetime(dh2018[\"DATE\"], format = '%Y%m%d')\n",
        "\n",
        "pr2018.rename(columns={'YYYYMMDD': 'DATE'}, inplace=True)\n",
        "pr2018['DATE'] = pd.to_datetime(pr2018[\"DATE\"], format = '%Y%m%d')\n",
        "\n",
        "sp2018.rename(columns={'YYYYMMDD': 'DATE'}, inplace=True)\n",
        "sp2018['DATE'] = pd.to_datetime(sp2018[\"DATE\"], format = '%Y%m%d')\n",
        "\n",
        "st2018.rename(columns={'YYYYMMDD': 'DATE'}, inplace=True)\n",
        "st2018['DATE'] = pd.to_datetime(st2018[\"DATE\"], format = '%Y%m%d')\n",
        "\n",
        "wi2018.rename(columns={'YYYYMMDD': 'DATE'}, inplace=True)\n",
        "wi2018['DATE'] = pd.to_datetime(wi2018[\"DATE\"], format = '%Y%m%d')"
      ],
      "metadata": {
        "id": "Gh_RgvP1Pzrb"
      },
      "execution_count": 4,
      "outputs": []
    },
    {
      "cell_type": "code",
      "source": [
        "ds2018.set_index('DATE', inplace=True)\n",
        "dh2018.set_index('DATE', inplace=True)\n",
        "pr2018.set_index('DATE', inplace=True)\n",
        "sp2018.set_index('DATE', inplace=True)\n",
        "st2018.set_index('DATE', inplace=True)\n",
        "wi2018.set_index('DATE', inplace=True)"
      ],
      "metadata": {
        "id": "gltddHe8My4Z"
      },
      "execution_count": 5,
      "outputs": []
    },
    {
      "cell_type": "code",
      "source": [
        "df2018 = pd.concat([ds2018,dh2018,pr2018,sp2018,st2018,wi2018], axis=1)"
      ],
      "metadata": {
        "id": "L0pedVHAKG__"
      },
      "execution_count": 6,
      "outputs": []
    },
    {
      "cell_type": "code",
      "source": [
        "print(df2018.columns)"
      ],
      "metadata": {
        "id": "Lfe3AOZaKhmD",
        "colab": {
          "base_uri": "https://localhost:8080/"
        },
        "outputId": "57372b7c-9bc9-428a-e031-596c6c894c37"
      },
      "execution_count": 7,
      "outputs": [
        {
          "output_type": "stream",
          "name": "stdout",
          "text": [
            "Index(['HHMM', 'SSS', 'ID', 'Q', 'S', 'HHMM', 'DYN', 'Q', 'HHMM', 'Prec',\n",
            "       'StDev', '%Time', 'Q', 'S', 'HHMM', 'SLP', 'Q', 'S', 'HHMM', 'SST', 'Q',\n",
            "       'S', 'HHMM', 'UWND', 'VWND', 'WSPD', 'WDIR', 'SD', 'SD.1'],\n",
            "      dtype='object')\n"
          ]
        }
      ]
    },
    {
      "cell_type": "code",
      "source": [
        "del df2018[\"HHMM\"]\n",
        "del df2018[\"ID\"]\n",
        "del df2018[\"Q\"]\n",
        "del df2018[\"S\"]\n",
        "del df2018[\"SD\"]\n",
        "del df2018[\"SD.1\"]\n",
        "del df2018[\"UWND\"]\n",
        "del df2018[\"VWND\"]\n",
        "del df2018[\"StDev\"]\n",
        "del df2018[\"%Time\"]\n",
        "del df2018[\"SLP\"]\n"
      ],
      "metadata": {
        "id": "uuYNBfC9Kpfi"
      },
      "execution_count": 8,
      "outputs": []
    },
    {
      "cell_type": "code",
      "source": [
        "print(df2018.shape)\n",
        "print(df2018.dtypes)"
      ],
      "metadata": {
        "id": "UBDb3jAYLLZN",
        "colab": {
          "base_uri": "https://localhost:8080/"
        },
        "outputId": "454fddaa-b268-4ca3-fa2e-cddd585084b5"
      },
      "execution_count": 9,
      "outputs": [
        {
          "output_type": "stream",
          "name": "stdout",
          "text": [
            "(365, 6)\n",
            "SSS     float64\n",
            "DYN     float64\n",
            "Prec    float64\n",
            "SST     float64\n",
            "WSPD    float64\n",
            "WDIR    float64\n",
            "dtype: object\n"
          ]
        }
      ]
    },
    {
      "cell_type": "code",
      "source": [
        "print(df2018.isnull().sum())"
      ],
      "metadata": {
        "id": "pGFiCcPcLuqc",
        "colab": {
          "base_uri": "https://localhost:8080/"
        },
        "outputId": "a15add69-20a9-419e-9f59-0f4752791fb6"
      },
      "execution_count": 10,
      "outputs": [
        {
          "output_type": "stream",
          "name": "stdout",
          "text": [
            "SSS     0\n",
            "DYN     0\n",
            "Prec    0\n",
            "SST     0\n",
            "WSPD    0\n",
            "WDIR    0\n",
            "dtype: int64\n"
          ]
        }
      ]
    },
    {
      "cell_type": "code",
      "source": [],
      "metadata": {
        "id": "EJXGs73zxnbP"
      },
      "execution_count": 10,
      "outputs": []
    },
    {
      "cell_type": "code",
      "source": [
        "#SSS\n",
        "\n",
        "for idx, row in df2018.iterrows():\n",
        "  if row[\"SSS\"] == -9.999:\n",
        "    req_row = df2018.index.get_loc(idx)\n",
        "    #valuesToAVG = values[~np.isin(-9.999)]\n",
        "    newAVG = np.median(df2018.iloc[slice(max(0, req_row-10), min(req_row, len(df2018)))][\"SSS\"])\n",
        "    df2018.at[idx, \"SSS\"] = newAVG\n",
        "  else:\n",
        "      pass"
      ],
      "metadata": {
        "id": "wHzUbqYDx2qx"
      },
      "execution_count": 11,
      "outputs": []
    },
    {
      "cell_type": "code",
      "source": [
        "#DYN\n",
        "\n",
        "for idx, row in df2018.iterrows():\n",
        "  if row[\"DYN\"] == -9.99:\n",
        "    req_row = df2018.index.get_loc(idx)\n",
        "    newAVG = np.median(df2018.iloc[slice(max(0, req_row-10), min(req_row, len(df2018)))][\"DYN\"])\n",
        "    df2018.at[idx, \"DYN\"] = newAVG\n",
        "  else:\n",
        "      pass"
      ],
      "metadata": {
        "id": "ZNWDBgxWx2qy"
      },
      "execution_count": 12,
      "outputs": []
    },
    {
      "cell_type": "code",
      "source": [
        "#Prec\n",
        "for idx, row in df2018.iterrows():\n",
        "  if row[\"Prec\"] == -9.99:\n",
        "    req_row = df2018.index.get_loc(idx)\n",
        "    newAVG = np.median(df2018.iloc[slice(max(0, req_row-10), min(req_row, len(df2018)))][\"Prec\"])\n",
        "    df2018.at[idx, \"Prec\"] = newAVG\n",
        "  else:\n",
        "      pass"
      ],
      "metadata": {
        "id": "erm07Ns8x2qz"
      },
      "execution_count": 13,
      "outputs": []
    },
    {
      "cell_type": "code",
      "source": [
        "#SST\n",
        "for idx, row in df2018.iterrows():\n",
        "  if row[\"SST\"] == -9.99:\n",
        "    req_row = df2018.index.get_loc(idx)\n",
        "    newAVG = np.median(df2018.iloc[slice(max(0, req_row-10), min(req_row, len(df2018)))][\"SST\"])\n",
        "    df2018.at[idx, \"SST\"] = newAVG\n",
        "  else:\n",
        "      pass"
      ],
      "metadata": {
        "id": "SvCYzJOKx2qz"
      },
      "execution_count": 14,
      "outputs": []
    },
    {
      "cell_type": "code",
      "source": [
        "#WSPD\n",
        "\n",
        "for idx, row in df2018.iterrows():\n",
        "  if row[\"WSPD\"] == -99.9:\n",
        "    req_row = df2018.index.get_loc(idx)\n",
        "    newAVG = np.median(df2018.iloc[slice(max(0, req_row-10), min(req_row, len(df2018)))][\"WSPD\"])\n",
        "    df2018.at[idx, \"WSPD\"] = newAVG\n",
        "  else:\n",
        "      pass"
      ],
      "metadata": {
        "id": "axJWjMH4x2q0"
      },
      "execution_count": 15,
      "outputs": []
    },
    {
      "cell_type": "code",
      "source": [
        "#WDIR\n",
        "\n",
        "for idx, row in df2018.iterrows():\n",
        "  if row[\"WDIR\"] == -99.9:\n",
        "    req_row = df2018.index.get_loc(idx)\n",
        "    newAVG = np.median(df2018.iloc[slice(max(0, req_row-10), min(req_row, len(df2018)))][\"WDIR\"])\n",
        "    df2018.at[idx, \"WDIR\"] = newAVG\n",
        "  else:\n",
        "      pass"
      ],
      "metadata": {
        "id": "UKrULI9ox2q0"
      },
      "execution_count": 16,
      "outputs": []
    },
    {
      "cell_type": "code",
      "source": [
        "from google.colab import files\n",
        "uploaded = files.upload()"
      ],
      "metadata": {
        "colab": {
          "base_uri": "https://localhost:8080/",
          "height": 252
        },
        "id": "Z39IVayDhWUH",
        "outputId": "f8b3d833-88ec-4b2d-af7c-fa6c6fe85e27"
      },
      "execution_count": 17,
      "outputs": [
        {
          "output_type": "display_data",
          "data": {
            "text/plain": [
              "<IPython.core.display.HTML object>"
            ],
            "text/html": [
              "\n",
              "     <input type=\"file\" id=\"files-8e317c8f-e31e-4b08-9d06-583d9249b271\" name=\"files[]\" multiple disabled\n",
              "        style=\"border:none\" />\n",
              "     <output id=\"result-8e317c8f-e31e-4b08-9d06-583d9249b271\">\n",
              "      Upload widget is only available when the cell has been executed in the\n",
              "      current browser session. Please rerun this cell to enable.\n",
              "      </output>\n",
              "      <script>// Copyright 2017 Google LLC\n",
              "//\n",
              "// Licensed under the Apache License, Version 2.0 (the \"License\");\n",
              "// you may not use this file except in compliance with the License.\n",
              "// You may obtain a copy of the License at\n",
              "//\n",
              "//      http://www.apache.org/licenses/LICENSE-2.0\n",
              "//\n",
              "// Unless required by applicable law or agreed to in writing, software\n",
              "// distributed under the License is distributed on an \"AS IS\" BASIS,\n",
              "// WITHOUT WARRANTIES OR CONDITIONS OF ANY KIND, either express or implied.\n",
              "// See the License for the specific language governing permissions and\n",
              "// limitations under the License.\n",
              "\n",
              "/**\n",
              " * @fileoverview Helpers for google.colab Python module.\n",
              " */\n",
              "(function(scope) {\n",
              "function span(text, styleAttributes = {}) {\n",
              "  const element = document.createElement('span');\n",
              "  element.textContent = text;\n",
              "  for (const key of Object.keys(styleAttributes)) {\n",
              "    element.style[key] = styleAttributes[key];\n",
              "  }\n",
              "  return element;\n",
              "}\n",
              "\n",
              "// Max number of bytes which will be uploaded at a time.\n",
              "const MAX_PAYLOAD_SIZE = 100 * 1024;\n",
              "\n",
              "function _uploadFiles(inputId, outputId) {\n",
              "  const steps = uploadFilesStep(inputId, outputId);\n",
              "  const outputElement = document.getElementById(outputId);\n",
              "  // Cache steps on the outputElement to make it available for the next call\n",
              "  // to uploadFilesContinue from Python.\n",
              "  outputElement.steps = steps;\n",
              "\n",
              "  return _uploadFilesContinue(outputId);\n",
              "}\n",
              "\n",
              "// This is roughly an async generator (not supported in the browser yet),\n",
              "// where there are multiple asynchronous steps and the Python side is going\n",
              "// to poll for completion of each step.\n",
              "// This uses a Promise to block the python side on completion of each step,\n",
              "// then passes the result of the previous step as the input to the next step.\n",
              "function _uploadFilesContinue(outputId) {\n",
              "  const outputElement = document.getElementById(outputId);\n",
              "  const steps = outputElement.steps;\n",
              "\n",
              "  const next = steps.next(outputElement.lastPromiseValue);\n",
              "  return Promise.resolve(next.value.promise).then((value) => {\n",
              "    // Cache the last promise value to make it available to the next\n",
              "    // step of the generator.\n",
              "    outputElement.lastPromiseValue = value;\n",
              "    return next.value.response;\n",
              "  });\n",
              "}\n",
              "\n",
              "/**\n",
              " * Generator function which is called between each async step of the upload\n",
              " * process.\n",
              " * @param {string} inputId Element ID of the input file picker element.\n",
              " * @param {string} outputId Element ID of the output display.\n",
              " * @return {!Iterable<!Object>} Iterable of next steps.\n",
              " */\n",
              "function* uploadFilesStep(inputId, outputId) {\n",
              "  const inputElement = document.getElementById(inputId);\n",
              "  inputElement.disabled = false;\n",
              "\n",
              "  const outputElement = document.getElementById(outputId);\n",
              "  outputElement.innerHTML = '';\n",
              "\n",
              "  const pickedPromise = new Promise((resolve) => {\n",
              "    inputElement.addEventListener('change', (e) => {\n",
              "      resolve(e.target.files);\n",
              "    });\n",
              "  });\n",
              "\n",
              "  const cancel = document.createElement('button');\n",
              "  inputElement.parentElement.appendChild(cancel);\n",
              "  cancel.textContent = 'Cancel upload';\n",
              "  const cancelPromise = new Promise((resolve) => {\n",
              "    cancel.onclick = () => {\n",
              "      resolve(null);\n",
              "    };\n",
              "  });\n",
              "\n",
              "  // Wait for the user to pick the files.\n",
              "  const files = yield {\n",
              "    promise: Promise.race([pickedPromise, cancelPromise]),\n",
              "    response: {\n",
              "      action: 'starting',\n",
              "    }\n",
              "  };\n",
              "\n",
              "  cancel.remove();\n",
              "\n",
              "  // Disable the input element since further picks are not allowed.\n",
              "  inputElement.disabled = true;\n",
              "\n",
              "  if (!files) {\n",
              "    return {\n",
              "      response: {\n",
              "        action: 'complete',\n",
              "      }\n",
              "    };\n",
              "  }\n",
              "\n",
              "  for (const file of files) {\n",
              "    const li = document.createElement('li');\n",
              "    li.append(span(file.name, {fontWeight: 'bold'}));\n",
              "    li.append(span(\n",
              "        `(${file.type || 'n/a'}) - ${file.size} bytes, ` +\n",
              "        `last modified: ${\n",
              "            file.lastModifiedDate ? file.lastModifiedDate.toLocaleDateString() :\n",
              "                                    'n/a'} - `));\n",
              "    const percent = span('0% done');\n",
              "    li.appendChild(percent);\n",
              "\n",
              "    outputElement.appendChild(li);\n",
              "\n",
              "    const fileDataPromise = new Promise((resolve) => {\n",
              "      const reader = new FileReader();\n",
              "      reader.onload = (e) => {\n",
              "        resolve(e.target.result);\n",
              "      };\n",
              "      reader.readAsArrayBuffer(file);\n",
              "    });\n",
              "    // Wait for the data to be ready.\n",
              "    let fileData = yield {\n",
              "      promise: fileDataPromise,\n",
              "      response: {\n",
              "        action: 'continue',\n",
              "      }\n",
              "    };\n",
              "\n",
              "    // Use a chunked sending to avoid message size limits. See b/62115660.\n",
              "    let position = 0;\n",
              "    do {\n",
              "      const length = Math.min(fileData.byteLength - position, MAX_PAYLOAD_SIZE);\n",
              "      const chunk = new Uint8Array(fileData, position, length);\n",
              "      position += length;\n",
              "\n",
              "      const base64 = btoa(String.fromCharCode.apply(null, chunk));\n",
              "      yield {\n",
              "        response: {\n",
              "          action: 'append',\n",
              "          file: file.name,\n",
              "          data: base64,\n",
              "        },\n",
              "      };\n",
              "\n",
              "      let percentDone = fileData.byteLength === 0 ?\n",
              "          100 :\n",
              "          Math.round((position / fileData.byteLength) * 100);\n",
              "      percent.textContent = `${percentDone}% done`;\n",
              "\n",
              "    } while (position < fileData.byteLength);\n",
              "  }\n",
              "\n",
              "  // All done.\n",
              "  yield {\n",
              "    response: {\n",
              "      action: 'complete',\n",
              "    }\n",
              "  };\n",
              "}\n",
              "\n",
              "scope.google = scope.google || {};\n",
              "scope.google.colab = scope.google.colab || {};\n",
              "scope.google.colab._files = {\n",
              "  _uploadFiles,\n",
              "  _uploadFilesContinue,\n",
              "};\n",
              "})(self);\n",
              "</script> "
            ]
          },
          "metadata": {}
        },
        {
          "output_type": "stream",
          "name": "stdout",
          "text": [
            "Saving DepthSalinity_2019.csv to DepthSalinity_2019.csv\n",
            "Saving DynamicHeight_2019.csv to DynamicHeight_2019.csv\n",
            "Saving Precipitation_2019.csv to Precipitation_2019.csv\n",
            "Saving SeaLevelPressure_2019.csv to SeaLevelPressure_2019.csv\n",
            "Saving SeaSurfaceTemperature_2019.csv to SeaSurfaceTemperature_2019.csv\n",
            "Saving Winds_2019.csv to Winds_2019.csv\n"
          ]
        }
      ]
    },
    {
      "cell_type": "markdown",
      "source": [
        "## Dados 2019"
      ],
      "metadata": {
        "id": "_1grqJqxd-Pp"
      }
    },
    {
      "cell_type": "code",
      "source": [
        "ds2019 = pd.read_csv(\"DepthSalinity_2019.csv\", sep=\";\")\n",
        "dh2019 = pd.read_csv(\"DynamicHeight_2019.csv\", sep=\";\")\n",
        "pr2019 = pd.read_csv(\"Precipitation_2019.csv\", sep=\";\")\n",
        "sp2019 = pd.read_csv(\"SeaLevelPressure_2019.csv\", sep=\";\")\n",
        "st2019 = pd.read_csv(\"SeaSurfaceTemperature_2019.csv\", sep=\";\")\n",
        "wi2019 = pd.read_csv(\"Winds_2019.csv\", sep=\";\")"
      ],
      "metadata": {
        "id": "7yJQ8w7keE5D"
      },
      "execution_count": 18,
      "outputs": []
    },
    {
      "cell_type": "code",
      "source": [
        "ds2019.rename(columns={'YYYYMMDD': 'DATE'}, inplace=True)\n",
        "ds2019['DATE'] = pd.to_datetime(ds2019[\"DATE\"], format = '%Y%m%d')\n",
        "\n",
        "dh2019.rename(columns={'YYYYMMDD': 'DATE'}, inplace=True)\n",
        "dh2019['DATE'] = pd.to_datetime(dh2019[\"DATE\"], format = '%Y%m%d')\n",
        "\n",
        "pr2019.rename(columns={'YYYYMMDD': 'DATE'}, inplace=True)\n",
        "pr2019['DATE'] = pd.to_datetime(pr2019[\"DATE\"], format = '%Y%m%d')\n",
        "\n",
        "sp2019.rename(columns={'YYYYMMDD': 'DATE'}, inplace=True)\n",
        "sp2019['DATE'] = pd.to_datetime(sp2019[\"DATE\"], format = '%Y%m%d')\n",
        "\n",
        "st2019.rename(columns={'YYYYMMDD': 'DATE'}, inplace=True)\n",
        "st2019['DATE'] = pd.to_datetime(st2019[\"DATE\"], format = '%Y%m%d')\n",
        "\n",
        "wi2019.rename(columns={'YYYYMMDD': 'DATE'}, inplace=True)\n",
        "wi2019['DATE'] = pd.to_datetime(wi2019[\"DATE\"], format = '%Y%m%d')"
      ],
      "metadata": {
        "id": "PdYnXhJNeb_7"
      },
      "execution_count": 19,
      "outputs": []
    },
    {
      "cell_type": "code",
      "source": [
        "ds2019.set_index('DATE', inplace=True)\n",
        "dh2019.set_index('DATE', inplace=True)\n",
        "pr2019.set_index('DATE', inplace=True)\n",
        "sp2019.set_index('DATE', inplace=True)\n",
        "st2019.set_index('DATE', inplace=True)\n",
        "wi2019.set_index('DATE', inplace=True)"
      ],
      "metadata": {
        "id": "iegxBqJOezxj"
      },
      "execution_count": 20,
      "outputs": []
    },
    {
      "cell_type": "code",
      "source": [
        "df2019 = pd.concat([ds2019,dh2019,pr2019,sp2019,st2019,wi2019], axis=1)"
      ],
      "metadata": {
        "id": "0ThMWc1Be456"
      },
      "execution_count": 21,
      "outputs": []
    },
    {
      "cell_type": "code",
      "source": [
        "print(df2019.columns)"
      ],
      "metadata": {
        "id": "jZFHZeoce_pi",
        "colab": {
          "base_uri": "https://localhost:8080/"
        },
        "outputId": "7e347521-2d6c-4f11-f737-e6ea1d90682a"
      },
      "execution_count": 22,
      "outputs": [
        {
          "output_type": "stream",
          "name": "stdout",
          "text": [
            "Index(['HHMM', 'SSS', 'ID', 'Q', 'S', 'HHMM', 'DYN', 'Q', 'HHMM', 'Prec',\n",
            "       'StDev', '%Time', 'Q', 'S', 'HHMM', 'SLP', 'Q', 'S', 'HHMM', 'SST', 'Q',\n",
            "       'S', 'HHMM', 'UWND', 'VWND', 'WSPD', 'WDIR', 'SD', 'SD.1'],\n",
            "      dtype='object')\n"
          ]
        }
      ]
    },
    {
      "cell_type": "code",
      "source": [
        "del df2019[\"HHMM\"]\n",
        "del df2019[\"ID\"]\n",
        "del df2019[\"Q\"]\n",
        "del df2019[\"S\"]\n",
        "del df2019[\"SD\"]\n",
        "del df2019[\"SD.1\"]\n",
        "del df2019[\"UWND\"]\n",
        "del df2019[\"VWND\"]\n",
        "del df2019[\"StDev\"]\n",
        "del df2019[\"%Time\"]\n",
        "del df2019[\"SLP\"]"
      ],
      "metadata": {
        "id": "FJ8TQt-5fDTJ"
      },
      "execution_count": 23,
      "outputs": []
    },
    {
      "cell_type": "code",
      "source": [
        "print(df2019.shape)\n",
        "print(df2019.dtypes)"
      ],
      "metadata": {
        "id": "9hyrPYwNfHdu",
        "colab": {
          "base_uri": "https://localhost:8080/"
        },
        "outputId": "9cf078ec-a31d-4ae0-ab20-4937971eebf3"
      },
      "execution_count": 24,
      "outputs": [
        {
          "output_type": "stream",
          "name": "stdout",
          "text": [
            "(365, 6)\n",
            "SSS     float64\n",
            "DYN     float64\n",
            "Prec    float64\n",
            "SST     float64\n",
            "WSPD    float64\n",
            "WDIR    float64\n",
            "dtype: object\n"
          ]
        }
      ]
    },
    {
      "cell_type": "code",
      "source": [
        "print(df2019.isnull().sum())"
      ],
      "metadata": {
        "id": "VNcHGFSufK5H",
        "colab": {
          "base_uri": "https://localhost:8080/"
        },
        "outputId": "e557b2ce-9684-41bf-9b40-4bb4440085fc"
      },
      "execution_count": 25,
      "outputs": [
        {
          "output_type": "stream",
          "name": "stdout",
          "text": [
            "SSS     0\n",
            "DYN     0\n",
            "Prec    0\n",
            "SST     0\n",
            "WSPD    0\n",
            "WDIR    0\n",
            "dtype: int64\n"
          ]
        }
      ]
    },
    {
      "cell_type": "markdown",
      "source": [
        "##Tratamento de dados inconsistentes"
      ],
      "metadata": {
        "id": "1NCL00XjIhxz"
      }
    },
    {
      "cell_type": "code",
      "source": [
        "#SSS\n",
        "\n",
        "#Substituo os valores inconsistentes por NA\n",
        "df2019.loc[df2019['SSS'] == -9.999,'SSS'] = pd.NA\n",
        "\n",
        "#Concateno ao array para imputação outro array com dados similares para treinamento\n",
        "X = [df2019['SSS'].values, df2018['SSS'].values]\n",
        "\n",
        "imputer = KNNImputer(n_neighbors=2, weights=\"uniform\")\n",
        "result = imputer.fit_transform(X)\n",
        "\n",
        "df2019['SSS'] = result[0]"
      ],
      "metadata": {
        "id": "4UcRxVcMmnaf"
      },
      "execution_count": 26,
      "outputs": []
    },
    {
      "cell_type": "code",
      "source": [
        "#DYN\n",
        "\n",
        "#Substituo os valores inconsistentes por NA\n",
        "df2019.loc[df2019['DYN'] == -9.99,'DYN'] = pd.NA\n",
        "\n",
        "#Concateno ao array para imputação outro array com dados similares para treinamento\n",
        "X = [df2019['DYN'].values, df2018['DYN'].values]\n",
        "\n",
        "imputer = KNNImputer(n_neighbors=2, weights=\"uniform\")\n",
        "result = imputer.fit_transform(X)\n",
        "\n",
        "df2019['DYN'] = result[0]"
      ],
      "metadata": {
        "id": "BP4zzDM-x7TX"
      },
      "execution_count": 27,
      "outputs": []
    },
    {
      "cell_type": "code",
      "source": [
        "#Prec\n",
        "\n",
        "#Substituo os valores inconsistentes por NA\n",
        "df2019.loc[df2019['Prec'] == -9.99,'Prec'] = pd.NA\n",
        "\n",
        "#Concateno ao array para imputação outro array com dados similares para treinamento\n",
        "X = [df2019['Prec'].values, df2018['Prec'].values]\n",
        "\n",
        "imputer = KNNImputer(n_neighbors=2, weights=\"uniform\")\n",
        "result = imputer.fit_transform(X)\n",
        "\n",
        "df2019['Prec'] = result[0]"
      ],
      "metadata": {
        "id": "q1yNGjxtx7TX"
      },
      "execution_count": 28,
      "outputs": []
    },
    {
      "cell_type": "code",
      "source": [
        "#SST\n",
        "\n",
        "#Substituo os valores inconsistentes por NA\n",
        "df2019.loc[df2019['SST'] == -9.99,'SST'] = pd.NA\n",
        "\n",
        "#Concateno ao array para imputação outro array com dados similares para treinamento\n",
        "X = [df2019['SST'].values, df2018['SST'].values]\n",
        "\n",
        "imputer = KNNImputer(n_neighbors=2, weights=\"uniform\")\n",
        "result = imputer.fit_transform(X)\n",
        "\n",
        "df2019['SST'] = result[0]"
      ],
      "metadata": {
        "id": "b1yGQJpcx7TY"
      },
      "execution_count": 29,
      "outputs": []
    },
    {
      "cell_type": "code",
      "source": [
        "#WSPD\n",
        "\n",
        "#Substituo os valores inconsistentes por NA\n",
        "df2019.loc[df2019['WSPD'] == -99.9,'WSPD'] = pd.NA\n",
        "\n",
        "#Concateno ao array para imputação outro array com dados similares para treinamento\n",
        "X = [df2019['WSPD'].values, df2018['WSPD'].values]\n",
        "\n",
        "imputer = KNNImputer(n_neighbors=2, weights=\"uniform\")\n",
        "result = imputer.fit_transform(X)\n",
        "\n",
        "df2019['WSPD'] = result[0]"
      ],
      "metadata": {
        "id": "0YotkVrax7TY"
      },
      "execution_count": 30,
      "outputs": []
    },
    {
      "cell_type": "code",
      "source": [
        "#WDIR\n",
        "\n",
        "#Substituo os valores inconsistentes por NA\n",
        "df2019.loc[df2019['WDIR'] == -99.9,'WDIR'] = pd.NA\n",
        "\n",
        "#Concateno ao array para imputação outro array com dados similares para treinamento\n",
        "X = [df2019['WDIR'].values, df2018['WDIR'].values]\n",
        "\n",
        "imputer = KNNImputer(n_neighbors=2, weights=\"uniform\")\n",
        "result = imputer.fit_transform(X)\n",
        "\n",
        "df2019['WDIR'] = result[0]"
      ],
      "metadata": {
        "id": "omfBuvytx7TZ"
      },
      "execution_count": 31,
      "outputs": []
    },
    {
      "cell_type": "code",
      "source": [
        "from google.colab import files\n",
        "uploaded = files.upload()"
      ],
      "metadata": {
        "colab": {
          "base_uri": "https://localhost:8080/",
          "height": 252
        },
        "id": "yRPdqTm3hX_z",
        "outputId": "1f0f6380-f02f-444c-abb4-6593c41e1d33"
      },
      "execution_count": 32,
      "outputs": [
        {
          "output_type": "display_data",
          "data": {
            "text/plain": [
              "<IPython.core.display.HTML object>"
            ],
            "text/html": [
              "\n",
              "     <input type=\"file\" id=\"files-2323de2e-7cc0-4045-a238-4c174ac1ddbf\" name=\"files[]\" multiple disabled\n",
              "        style=\"border:none\" />\n",
              "     <output id=\"result-2323de2e-7cc0-4045-a238-4c174ac1ddbf\">\n",
              "      Upload widget is only available when the cell has been executed in the\n",
              "      current browser session. Please rerun this cell to enable.\n",
              "      </output>\n",
              "      <script>// Copyright 2017 Google LLC\n",
              "//\n",
              "// Licensed under the Apache License, Version 2.0 (the \"License\");\n",
              "// you may not use this file except in compliance with the License.\n",
              "// You may obtain a copy of the License at\n",
              "//\n",
              "//      http://www.apache.org/licenses/LICENSE-2.0\n",
              "//\n",
              "// Unless required by applicable law or agreed to in writing, software\n",
              "// distributed under the License is distributed on an \"AS IS\" BASIS,\n",
              "// WITHOUT WARRANTIES OR CONDITIONS OF ANY KIND, either express or implied.\n",
              "// See the License for the specific language governing permissions and\n",
              "// limitations under the License.\n",
              "\n",
              "/**\n",
              " * @fileoverview Helpers for google.colab Python module.\n",
              " */\n",
              "(function(scope) {\n",
              "function span(text, styleAttributes = {}) {\n",
              "  const element = document.createElement('span');\n",
              "  element.textContent = text;\n",
              "  for (const key of Object.keys(styleAttributes)) {\n",
              "    element.style[key] = styleAttributes[key];\n",
              "  }\n",
              "  return element;\n",
              "}\n",
              "\n",
              "// Max number of bytes which will be uploaded at a time.\n",
              "const MAX_PAYLOAD_SIZE = 100 * 1024;\n",
              "\n",
              "function _uploadFiles(inputId, outputId) {\n",
              "  const steps = uploadFilesStep(inputId, outputId);\n",
              "  const outputElement = document.getElementById(outputId);\n",
              "  // Cache steps on the outputElement to make it available for the next call\n",
              "  // to uploadFilesContinue from Python.\n",
              "  outputElement.steps = steps;\n",
              "\n",
              "  return _uploadFilesContinue(outputId);\n",
              "}\n",
              "\n",
              "// This is roughly an async generator (not supported in the browser yet),\n",
              "// where there are multiple asynchronous steps and the Python side is going\n",
              "// to poll for completion of each step.\n",
              "// This uses a Promise to block the python side on completion of each step,\n",
              "// then passes the result of the previous step as the input to the next step.\n",
              "function _uploadFilesContinue(outputId) {\n",
              "  const outputElement = document.getElementById(outputId);\n",
              "  const steps = outputElement.steps;\n",
              "\n",
              "  const next = steps.next(outputElement.lastPromiseValue);\n",
              "  return Promise.resolve(next.value.promise).then((value) => {\n",
              "    // Cache the last promise value to make it available to the next\n",
              "    // step of the generator.\n",
              "    outputElement.lastPromiseValue = value;\n",
              "    return next.value.response;\n",
              "  });\n",
              "}\n",
              "\n",
              "/**\n",
              " * Generator function which is called between each async step of the upload\n",
              " * process.\n",
              " * @param {string} inputId Element ID of the input file picker element.\n",
              " * @param {string} outputId Element ID of the output display.\n",
              " * @return {!Iterable<!Object>} Iterable of next steps.\n",
              " */\n",
              "function* uploadFilesStep(inputId, outputId) {\n",
              "  const inputElement = document.getElementById(inputId);\n",
              "  inputElement.disabled = false;\n",
              "\n",
              "  const outputElement = document.getElementById(outputId);\n",
              "  outputElement.innerHTML = '';\n",
              "\n",
              "  const pickedPromise = new Promise((resolve) => {\n",
              "    inputElement.addEventListener('change', (e) => {\n",
              "      resolve(e.target.files);\n",
              "    });\n",
              "  });\n",
              "\n",
              "  const cancel = document.createElement('button');\n",
              "  inputElement.parentElement.appendChild(cancel);\n",
              "  cancel.textContent = 'Cancel upload';\n",
              "  const cancelPromise = new Promise((resolve) => {\n",
              "    cancel.onclick = () => {\n",
              "      resolve(null);\n",
              "    };\n",
              "  });\n",
              "\n",
              "  // Wait for the user to pick the files.\n",
              "  const files = yield {\n",
              "    promise: Promise.race([pickedPromise, cancelPromise]),\n",
              "    response: {\n",
              "      action: 'starting',\n",
              "    }\n",
              "  };\n",
              "\n",
              "  cancel.remove();\n",
              "\n",
              "  // Disable the input element since further picks are not allowed.\n",
              "  inputElement.disabled = true;\n",
              "\n",
              "  if (!files) {\n",
              "    return {\n",
              "      response: {\n",
              "        action: 'complete',\n",
              "      }\n",
              "    };\n",
              "  }\n",
              "\n",
              "  for (const file of files) {\n",
              "    const li = document.createElement('li');\n",
              "    li.append(span(file.name, {fontWeight: 'bold'}));\n",
              "    li.append(span(\n",
              "        `(${file.type || 'n/a'}) - ${file.size} bytes, ` +\n",
              "        `last modified: ${\n",
              "            file.lastModifiedDate ? file.lastModifiedDate.toLocaleDateString() :\n",
              "                                    'n/a'} - `));\n",
              "    const percent = span('0% done');\n",
              "    li.appendChild(percent);\n",
              "\n",
              "    outputElement.appendChild(li);\n",
              "\n",
              "    const fileDataPromise = new Promise((resolve) => {\n",
              "      const reader = new FileReader();\n",
              "      reader.onload = (e) => {\n",
              "        resolve(e.target.result);\n",
              "      };\n",
              "      reader.readAsArrayBuffer(file);\n",
              "    });\n",
              "    // Wait for the data to be ready.\n",
              "    let fileData = yield {\n",
              "      promise: fileDataPromise,\n",
              "      response: {\n",
              "        action: 'continue',\n",
              "      }\n",
              "    };\n",
              "\n",
              "    // Use a chunked sending to avoid message size limits. See b/62115660.\n",
              "    let position = 0;\n",
              "    do {\n",
              "      const length = Math.min(fileData.byteLength - position, MAX_PAYLOAD_SIZE);\n",
              "      const chunk = new Uint8Array(fileData, position, length);\n",
              "      position += length;\n",
              "\n",
              "      const base64 = btoa(String.fromCharCode.apply(null, chunk));\n",
              "      yield {\n",
              "        response: {\n",
              "          action: 'append',\n",
              "          file: file.name,\n",
              "          data: base64,\n",
              "        },\n",
              "      };\n",
              "\n",
              "      let percentDone = fileData.byteLength === 0 ?\n",
              "          100 :\n",
              "          Math.round((position / fileData.byteLength) * 100);\n",
              "      percent.textContent = `${percentDone}% done`;\n",
              "\n",
              "    } while (position < fileData.byteLength);\n",
              "  }\n",
              "\n",
              "  // All done.\n",
              "  yield {\n",
              "    response: {\n",
              "      action: 'complete',\n",
              "    }\n",
              "  };\n",
              "}\n",
              "\n",
              "scope.google = scope.google || {};\n",
              "scope.google.colab = scope.google.colab || {};\n",
              "scope.google.colab._files = {\n",
              "  _uploadFiles,\n",
              "  _uploadFilesContinue,\n",
              "};\n",
              "})(self);\n",
              "</script> "
            ]
          },
          "metadata": {}
        },
        {
          "output_type": "stream",
          "name": "stdout",
          "text": [
            "Saving DepthSalinity_2020.csv to DepthSalinity_2020.csv\n",
            "Saving DynamicHeight_2020.csv to DynamicHeight_2020.csv\n",
            "Saving Precipitation_2020.csv to Precipitation_2020.csv\n",
            "Saving SeaLevelPressure_2020.csv to SeaLevelPressure_2020.csv\n",
            "Saving SeaSurfaceTemperature_2020.csv to SeaSurfaceTemperature_2020.csv\n",
            "Saving Winds_2020.csv to Winds_2020.csv\n"
          ]
        }
      ]
    },
    {
      "cell_type": "markdown",
      "source": [
        "## Dados 2020"
      ],
      "metadata": {
        "id": "oMXyTDlGfXny"
      }
    },
    {
      "cell_type": "code",
      "source": [
        "ds2020 = pd.read_csv(\"DepthSalinity_2020.csv\", sep=\";\")\n",
        "dh2020 = pd.read_csv(\"DynamicHeight_2020.csv\", sep=\";\")\n",
        "pr2020 = pd.read_csv(\"Precipitation_2020.csv\", sep=\";\")\n",
        "sp2020 = pd.read_csv(\"SeaLevelPressure_2020.csv\", sep=\";\")\n",
        "st2020 = pd.read_csv(\"SeaSurfaceTemperature_2020.csv\", sep=\";\")\n",
        "wi2020 = pd.read_csv(\"Winds_2020.csv\", sep=\";\")"
      ],
      "metadata": {
        "id": "GPf0-bLUfddF"
      },
      "execution_count": 33,
      "outputs": []
    },
    {
      "cell_type": "code",
      "source": [
        "ds2020.rename(columns={'YYYYMMDD': 'DATE'}, inplace=True)\n",
        "ds2020['DATE'] = pd.to_datetime(ds2020[\"DATE\"], format = '%Y%m%d')\n",
        "\n",
        "dh2020.rename(columns={'YYYYMMDD': 'DATE'}, inplace=True)\n",
        "dh2020['DATE'] = pd.to_datetime(dh2020[\"DATE\"], format = '%Y%m%d')\n",
        "\n",
        "pr2020.rename(columns={'YYYYMMDD': 'DATE'}, inplace=True)\n",
        "pr2020['DATE'] = pd.to_datetime(pr2020[\"DATE\"], format = '%Y%m%d')\n",
        "\n",
        "sp2020.rename(columns={'YYYYMMDD': 'DATE'}, inplace=True)\n",
        "sp2020['DATE'] = pd.to_datetime(sp2020[\"DATE\"], format = '%Y%m%d')\n",
        "\n",
        "st2020.rename(columns={'YYYYMMDD': 'DATE'}, inplace=True)\n",
        "st2020['DATE'] = pd.to_datetime(st2020[\"DATE\"], format = '%Y%m%d')\n",
        "\n",
        "wi2020.rename(columns={'YYYYMMDD': 'DATE'}, inplace=True)\n",
        "wi2020['DATE'] = pd.to_datetime(wi2020[\"DATE\"], format = '%Y%m%d')"
      ],
      "metadata": {
        "id": "nmHWxKPDfqd6"
      },
      "execution_count": 34,
      "outputs": []
    },
    {
      "cell_type": "code",
      "source": [
        "ds2020.set_index('DATE', inplace=True)\n",
        "dh2020.set_index('DATE', inplace=True)\n",
        "pr2020.set_index('DATE', inplace=True)\n",
        "sp2020.set_index('DATE', inplace=True)\n",
        "st2020.set_index('DATE', inplace=True)\n",
        "wi2020.set_index('DATE', inplace=True)"
      ],
      "metadata": {
        "id": "uEmc5kLOf8Kd"
      },
      "execution_count": 35,
      "outputs": []
    },
    {
      "cell_type": "code",
      "source": [
        "df2020 = pd.concat([ds2020,dh2020,pr2020,sp2020,st2020,wi2020], axis=1)"
      ],
      "metadata": {
        "id": "mq1KXfqogETz"
      },
      "execution_count": 36,
      "outputs": []
    },
    {
      "cell_type": "code",
      "source": [
        "print(df2020.columns)"
      ],
      "metadata": {
        "id": "LPumFc6rgHr7",
        "colab": {
          "base_uri": "https://localhost:8080/"
        },
        "outputId": "42a8706d-7034-44fa-88d0-9cb3b437f893"
      },
      "execution_count": 37,
      "outputs": [
        {
          "output_type": "stream",
          "name": "stdout",
          "text": [
            "Index(['HHMM', 'SSS', 'ID', 'Q', 'S', 'HHMM', 'DYN', 'Q', 'HHMM', 'Prec',\n",
            "       'StDev', '%Time', 'Q', 'S', 'HHMM', 'SLP', 'Q', 'S', 'HHMM', 'SST', 'Q',\n",
            "       'S', 'HHMM', 'UWND', 'VWND', 'WSPD', 'WDIR', 'SD', 'SD.1'],\n",
            "      dtype='object')\n"
          ]
        }
      ]
    },
    {
      "cell_type": "code",
      "source": [
        "del df2020[\"HHMM\"]\n",
        "del df2020[\"ID\"]\n",
        "del df2020[\"Q\"]\n",
        "del df2020[\"S\"]\n",
        "del df2020[\"SD\"]\n",
        "del df2020[\"SD.1\"]\n",
        "del df2020[\"UWND\"]\n",
        "del df2020[\"VWND\"]\n",
        "del df2020[\"StDev\"]\n",
        "del df2020[\"%Time\"]\n",
        "del df2020[\"SLP\"]"
      ],
      "metadata": {
        "id": "V5K0Z857gLQm"
      },
      "execution_count": 38,
      "outputs": []
    },
    {
      "cell_type": "code",
      "source": [
        "print(df2020.shape)\n",
        "print(df2020.dtypes)"
      ],
      "metadata": {
        "id": "7eP7DapggOag",
        "colab": {
          "base_uri": "https://localhost:8080/"
        },
        "outputId": "746dad29-87cf-4679-8526-c7f95edb1fe8"
      },
      "execution_count": 39,
      "outputs": [
        {
          "output_type": "stream",
          "name": "stdout",
          "text": [
            "(366, 6)\n",
            "SSS     float64\n",
            "DYN     float64\n",
            "Prec    float64\n",
            "SST     float64\n",
            "WSPD    float64\n",
            "WDIR    float64\n",
            "dtype: object\n"
          ]
        }
      ]
    },
    {
      "cell_type": "code",
      "source": [
        "print(df2020.isnull().sum())"
      ],
      "metadata": {
        "id": "CQk869y-gTdi",
        "colab": {
          "base_uri": "https://localhost:8080/"
        },
        "outputId": "571694f6-1bba-4d14-dafd-f633e0109581"
      },
      "execution_count": 40,
      "outputs": [
        {
          "output_type": "stream",
          "name": "stdout",
          "text": [
            "SSS     0\n",
            "DYN     0\n",
            "Prec    0\n",
            "SST     0\n",
            "WSPD    0\n",
            "WDIR    0\n",
            "dtype: int64\n"
          ]
        }
      ]
    },
    {
      "cell_type": "code",
      "source": [],
      "metadata": {
        "id": "DAK6xB1kx9Zf"
      },
      "execution_count": 40,
      "outputs": []
    },
    {
      "cell_type": "markdown",
      "source": [
        "##Tratamento de dados inconsistentes\n",
        "- Considerar dia a mais do ano bissexto (2020)"
      ],
      "metadata": {
        "id": "sNzklFD_KnMv"
      }
    },
    {
      "cell_type": "code",
      "source": [
        "#Tratamento do dataframe de apoio ao KNNImputer para incluir o ano bissexto\n",
        "#add uma row no DF de treinamento do ano anterior para compensar os 29 dias de FEV do DF do ano atual\n",
        "df2019_ToLeapYear = df2019.copy()\n",
        "\n",
        "new_row = {'DATE': pd.to_datetime('20190229', format = '%Y%m%d', errors='coerce'), 'SSS':'37.208', 'DYN':'98.63', 'Prec':'0.0', 'SST':'26.61','WSPD':'3.4','WDIR':'199.1'}\n",
        "df2019_ToLeapYear = df2019_ToLeapYear.append(new_row, ignore_index=True)\n"
      ],
      "metadata": {
        "colab": {
          "base_uri": "https://localhost:8080/"
        },
        "id": "DV8IAJg_SWb-",
        "outputId": "fa3085f8-f2c2-4d4c-ae2c-b22a7d2691d3"
      },
      "execution_count": 41,
      "outputs": [
        {
          "output_type": "stream",
          "name": "stderr",
          "text": [
            "<ipython-input-41-1c42704548e4>:6: FutureWarning: The frame.append method is deprecated and will be removed from pandas in a future version. Use pandas.concat instead.\n",
            "  df2019_ToLeapYear = df2019_ToLeapYear.append(new_row, ignore_index=True)\n"
          ]
        }
      ]
    },
    {
      "cell_type": "code",
      "source": [
        "#SSS\n",
        "\n",
        "#Substituo os valores inconsistentes por NA\n",
        "df2020.loc[df2020['SSS'] == -9.999,'SSS'] = pd.NA\n",
        "\n",
        "#Concateno ao array para imputação outro array com dados similares para treinamento\n",
        "X = [df2020['SSS'].values, df2019_ToLeapYear['SSS'].values]\n",
        "\n",
        "imputer = KNNImputer(n_neighbors=2, weights=\"uniform\")\n",
        "result = imputer.fit_transform(X)\n",
        "\n",
        "df2020['SSS'] = result[0]"
      ],
      "metadata": {
        "id": "2JZ6HUYUx9uk"
      },
      "execution_count": 42,
      "outputs": []
    },
    {
      "cell_type": "code",
      "source": [
        "#DYN\n",
        "\n",
        "#Substituo os valores inconsistentes por NA\n",
        "df2020.loc[df2020['DYN'] == -9.99,'DYN'] = pd.NA\n",
        "\n",
        "#Concateno ao array para imputação outro array com dados similares para treinamento\n",
        "X = [df2020['DYN'].values, df2019_ToLeapYear['DYN'].values]\n",
        "\n",
        "imputer = KNNImputer(n_neighbors=2, weights=\"uniform\")\n",
        "result = imputer.fit_transform(X)\n",
        "\n",
        "df2020['DYN'] = result[0]"
      ],
      "metadata": {
        "id": "AFtZ0mRmx9ul"
      },
      "execution_count": 43,
      "outputs": []
    },
    {
      "cell_type": "code",
      "source": [
        "#Prec\n",
        "\n",
        "#Substituo os valores inconsistentes por NA\n",
        "df2020.loc[df2020['Prec'] == -9.99,'Prec'] = pd.NA\n",
        "\n",
        "#Concateno ao array para imputação outro array com dados similares para treinamento\n",
        "X = [df2020['Prec'].values, df2019_ToLeapYear['Prec'].values]\n",
        "\n",
        "imputer = KNNImputer(n_neighbors=2, weights=\"uniform\")\n",
        "result = imputer.fit_transform(X)\n",
        "\n",
        "df2020['Prec'] = result[0]"
      ],
      "metadata": {
        "id": "I5oJkw9Xx9ul"
      },
      "execution_count": 44,
      "outputs": []
    },
    {
      "cell_type": "code",
      "source": [
        "#SST\n",
        "\n",
        "#Substituo os valores inconsistentes por NA\n",
        "df2020.loc[df2020['SST'] == -9.99,'SST'] = pd.NA\n",
        "\n",
        "#Concateno ao array para imputação outro array com dados similares para treinamento\n",
        "X = [df2020['SST'].values, df2019_ToLeapYear['SST'].values]\n",
        "\n",
        "imputer = KNNImputer(n_neighbors=2, weights=\"uniform\")\n",
        "result = imputer.fit_transform(X)\n",
        "\n",
        "df2020['SST'] = result[0]"
      ],
      "metadata": {
        "id": "FfwPgJz1x9um"
      },
      "execution_count": 45,
      "outputs": []
    },
    {
      "cell_type": "code",
      "source": [
        "#WSPD\n",
        "\n",
        "#Substituo os valores inconsistentes por NA\n",
        "df2020.loc[df2020['WSPD'] == -99.9,'WSPD'] = pd.NA\n",
        "\n",
        "#Concateno ao array para imputação outro array com dados similares para treinamento\n",
        "X = [df2020['WSPD'].values, df2019_ToLeapYear['WSPD'].values]\n",
        "\n",
        "imputer = KNNImputer(n_neighbors=2, weights=\"uniform\")\n",
        "result = imputer.fit_transform(X)\n",
        "\n",
        "df2020['WSPD'] = result[0]"
      ],
      "metadata": {
        "id": "I_LuHhGBx9um"
      },
      "execution_count": 46,
      "outputs": []
    },
    {
      "cell_type": "code",
      "source": [
        "#WDIR\n",
        "\n",
        "#Substituo os valores inconsistentes por NA\n",
        "df2020.loc[df2020['WDIR'] == -99.9,'WDIR'] = pd.NA\n",
        "\n",
        "#Concateno ao array para imputação outro array com dados similares para treinamento\n",
        "X = [df2020['WDIR'].values, df2019_ToLeapYear['WDIR'].values]\n",
        "\n",
        "imputer = KNNImputer(n_neighbors=2, weights=\"uniform\")\n",
        "result = imputer.fit_transform(X)\n",
        "\n",
        "df2020['WDIR'] = result[0]"
      ],
      "metadata": {
        "id": "wqQvAs7Vx9un"
      },
      "execution_count": 47,
      "outputs": []
    },
    {
      "cell_type": "code",
      "source": [
        "from google.colab import files\n",
        "uploaded = files.upload()"
      ],
      "metadata": {
        "colab": {
          "base_uri": "https://localhost:8080/",
          "height": 252
        },
        "id": "r0kTLSedhZxC",
        "outputId": "cca07a8b-d61a-4afd-b11d-45c2e1097f23"
      },
      "execution_count": 48,
      "outputs": [
        {
          "output_type": "display_data",
          "data": {
            "text/plain": [
              "<IPython.core.display.HTML object>"
            ],
            "text/html": [
              "\n",
              "     <input type=\"file\" id=\"files-2c755500-f9d2-4931-8372-96d30f150132\" name=\"files[]\" multiple disabled\n",
              "        style=\"border:none\" />\n",
              "     <output id=\"result-2c755500-f9d2-4931-8372-96d30f150132\">\n",
              "      Upload widget is only available when the cell has been executed in the\n",
              "      current browser session. Please rerun this cell to enable.\n",
              "      </output>\n",
              "      <script>// Copyright 2017 Google LLC\n",
              "//\n",
              "// Licensed under the Apache License, Version 2.0 (the \"License\");\n",
              "// you may not use this file except in compliance with the License.\n",
              "// You may obtain a copy of the License at\n",
              "//\n",
              "//      http://www.apache.org/licenses/LICENSE-2.0\n",
              "//\n",
              "// Unless required by applicable law or agreed to in writing, software\n",
              "// distributed under the License is distributed on an \"AS IS\" BASIS,\n",
              "// WITHOUT WARRANTIES OR CONDITIONS OF ANY KIND, either express or implied.\n",
              "// See the License for the specific language governing permissions and\n",
              "// limitations under the License.\n",
              "\n",
              "/**\n",
              " * @fileoverview Helpers for google.colab Python module.\n",
              " */\n",
              "(function(scope) {\n",
              "function span(text, styleAttributes = {}) {\n",
              "  const element = document.createElement('span');\n",
              "  element.textContent = text;\n",
              "  for (const key of Object.keys(styleAttributes)) {\n",
              "    element.style[key] = styleAttributes[key];\n",
              "  }\n",
              "  return element;\n",
              "}\n",
              "\n",
              "// Max number of bytes which will be uploaded at a time.\n",
              "const MAX_PAYLOAD_SIZE = 100 * 1024;\n",
              "\n",
              "function _uploadFiles(inputId, outputId) {\n",
              "  const steps = uploadFilesStep(inputId, outputId);\n",
              "  const outputElement = document.getElementById(outputId);\n",
              "  // Cache steps on the outputElement to make it available for the next call\n",
              "  // to uploadFilesContinue from Python.\n",
              "  outputElement.steps = steps;\n",
              "\n",
              "  return _uploadFilesContinue(outputId);\n",
              "}\n",
              "\n",
              "// This is roughly an async generator (not supported in the browser yet),\n",
              "// where there are multiple asynchronous steps and the Python side is going\n",
              "// to poll for completion of each step.\n",
              "// This uses a Promise to block the python side on completion of each step,\n",
              "// then passes the result of the previous step as the input to the next step.\n",
              "function _uploadFilesContinue(outputId) {\n",
              "  const outputElement = document.getElementById(outputId);\n",
              "  const steps = outputElement.steps;\n",
              "\n",
              "  const next = steps.next(outputElement.lastPromiseValue);\n",
              "  return Promise.resolve(next.value.promise).then((value) => {\n",
              "    // Cache the last promise value to make it available to the next\n",
              "    // step of the generator.\n",
              "    outputElement.lastPromiseValue = value;\n",
              "    return next.value.response;\n",
              "  });\n",
              "}\n",
              "\n",
              "/**\n",
              " * Generator function which is called between each async step of the upload\n",
              " * process.\n",
              " * @param {string} inputId Element ID of the input file picker element.\n",
              " * @param {string} outputId Element ID of the output display.\n",
              " * @return {!Iterable<!Object>} Iterable of next steps.\n",
              " */\n",
              "function* uploadFilesStep(inputId, outputId) {\n",
              "  const inputElement = document.getElementById(inputId);\n",
              "  inputElement.disabled = false;\n",
              "\n",
              "  const outputElement = document.getElementById(outputId);\n",
              "  outputElement.innerHTML = '';\n",
              "\n",
              "  const pickedPromise = new Promise((resolve) => {\n",
              "    inputElement.addEventListener('change', (e) => {\n",
              "      resolve(e.target.files);\n",
              "    });\n",
              "  });\n",
              "\n",
              "  const cancel = document.createElement('button');\n",
              "  inputElement.parentElement.appendChild(cancel);\n",
              "  cancel.textContent = 'Cancel upload';\n",
              "  const cancelPromise = new Promise((resolve) => {\n",
              "    cancel.onclick = () => {\n",
              "      resolve(null);\n",
              "    };\n",
              "  });\n",
              "\n",
              "  // Wait for the user to pick the files.\n",
              "  const files = yield {\n",
              "    promise: Promise.race([pickedPromise, cancelPromise]),\n",
              "    response: {\n",
              "      action: 'starting',\n",
              "    }\n",
              "  };\n",
              "\n",
              "  cancel.remove();\n",
              "\n",
              "  // Disable the input element since further picks are not allowed.\n",
              "  inputElement.disabled = true;\n",
              "\n",
              "  if (!files) {\n",
              "    return {\n",
              "      response: {\n",
              "        action: 'complete',\n",
              "      }\n",
              "    };\n",
              "  }\n",
              "\n",
              "  for (const file of files) {\n",
              "    const li = document.createElement('li');\n",
              "    li.append(span(file.name, {fontWeight: 'bold'}));\n",
              "    li.append(span(\n",
              "        `(${file.type || 'n/a'}) - ${file.size} bytes, ` +\n",
              "        `last modified: ${\n",
              "            file.lastModifiedDate ? file.lastModifiedDate.toLocaleDateString() :\n",
              "                                    'n/a'} - `));\n",
              "    const percent = span('0% done');\n",
              "    li.appendChild(percent);\n",
              "\n",
              "    outputElement.appendChild(li);\n",
              "\n",
              "    const fileDataPromise = new Promise((resolve) => {\n",
              "      const reader = new FileReader();\n",
              "      reader.onload = (e) => {\n",
              "        resolve(e.target.result);\n",
              "      };\n",
              "      reader.readAsArrayBuffer(file);\n",
              "    });\n",
              "    // Wait for the data to be ready.\n",
              "    let fileData = yield {\n",
              "      promise: fileDataPromise,\n",
              "      response: {\n",
              "        action: 'continue',\n",
              "      }\n",
              "    };\n",
              "\n",
              "    // Use a chunked sending to avoid message size limits. See b/62115660.\n",
              "    let position = 0;\n",
              "    do {\n",
              "      const length = Math.min(fileData.byteLength - position, MAX_PAYLOAD_SIZE);\n",
              "      const chunk = new Uint8Array(fileData, position, length);\n",
              "      position += length;\n",
              "\n",
              "      const base64 = btoa(String.fromCharCode.apply(null, chunk));\n",
              "      yield {\n",
              "        response: {\n",
              "          action: 'append',\n",
              "          file: file.name,\n",
              "          data: base64,\n",
              "        },\n",
              "      };\n",
              "\n",
              "      let percentDone = fileData.byteLength === 0 ?\n",
              "          100 :\n",
              "          Math.round((position / fileData.byteLength) * 100);\n",
              "      percent.textContent = `${percentDone}% done`;\n",
              "\n",
              "    } while (position < fileData.byteLength);\n",
              "  }\n",
              "\n",
              "  // All done.\n",
              "  yield {\n",
              "    response: {\n",
              "      action: 'complete',\n",
              "    }\n",
              "  };\n",
              "}\n",
              "\n",
              "scope.google = scope.google || {};\n",
              "scope.google.colab = scope.google.colab || {};\n",
              "scope.google.colab._files = {\n",
              "  _uploadFiles,\n",
              "  _uploadFilesContinue,\n",
              "};\n",
              "})(self);\n",
              "</script> "
            ]
          },
          "metadata": {}
        },
        {
          "output_type": "stream",
          "name": "stdout",
          "text": [
            "Saving DepthSalinity_2021.csv to DepthSalinity_2021.csv\n",
            "Saving DynamicHeight_2021.csv to DynamicHeight_2021.csv\n",
            "Saving Precipitation_2021.csv to Precipitation_2021.csv\n",
            "Saving SeaLevelPressure_2021.csv to SeaLevelPressure_2021.csv\n",
            "Saving SeaSurfaceTemperature_2021.csv to SeaSurfaceTemperature_2021.csv\n",
            "Saving Winds_2021.csv to Winds_2021.csv\n"
          ]
        }
      ]
    },
    {
      "cell_type": "markdown",
      "source": [
        "## Dados 2021"
      ],
      "metadata": {
        "id": "pSi8zThHgpFV"
      }
    },
    {
      "cell_type": "code",
      "source": [
        "ds2021 = pd.read_csv(\"DepthSalinity_2021.csv\", sep=\";\")\n",
        "dh2021 = pd.read_csv(\"DynamicHeight_2021.csv\", sep=\";\")\n",
        "pr2021 = pd.read_csv(\"Precipitation_2021.csv\", sep=\";\")\n",
        "sp2021 = pd.read_csv(\"SeaLevelPressure_2021.csv\", sep=\";\")\n",
        "st2021 = pd.read_csv(\"SeaSurfaceTemperature_2021.csv\", sep=\";\")\n",
        "wi2021 = pd.read_csv(\"Winds_2021.csv\", sep=\";\")"
      ],
      "metadata": {
        "id": "yq10kgJsgy-w"
      },
      "execution_count": 49,
      "outputs": []
    },
    {
      "cell_type": "code",
      "source": [
        "ds2021.rename(columns={'YYYYMMDD': 'DATE'}, inplace=True)\n",
        "ds2021['DATE'] = pd.to_datetime(ds2021[\"DATE\"], format = '%Y%m%d')\n",
        "\n",
        "dh2021.rename(columns={'YYYYMMDD': 'DATE'}, inplace=True)\n",
        "dh2021['DATE'] = pd.to_datetime(dh2021[\"DATE\"], format = '%Y%m%d')\n",
        "\n",
        "pr2021.rename(columns={'YYYYMMDD': 'DATE'}, inplace=True)\n",
        "pr2021['DATE'] = pd.to_datetime(pr2021[\"DATE\"], format = '%Y%m%d')\n",
        "\n",
        "sp2021.rename(columns={'YYYYMMDD': 'DATE'}, inplace=True)\n",
        "sp2021['DATE'] = pd.to_datetime(sp2021[\"DATE\"], format = '%Y%m%d')\n",
        "\n",
        "st2021.rename(columns={'YYYYMMDD': 'DATE'}, inplace=True)\n",
        "st2021['DATE'] = pd.to_datetime(st2021[\"DATE\"], format = '%Y%m%d')\n",
        "\n",
        "wi2021.rename(columns={'YYYYMMDD': 'DATE'}, inplace=True)\n",
        "wi2021['DATE'] = pd.to_datetime(wi2021[\"DATE\"], format = '%Y%m%d')"
      ],
      "metadata": {
        "id": "_Pa_D_P9g6_T"
      },
      "execution_count": 50,
      "outputs": []
    },
    {
      "cell_type": "code",
      "source": [
        "ds2021.set_index('DATE', inplace=True)\n",
        "dh2021.set_index('DATE', inplace=True)\n",
        "pr2021.set_index('DATE', inplace=True)\n",
        "sp2021.set_index('DATE', inplace=True)\n",
        "st2021.set_index('DATE', inplace=True)\n",
        "wi2021.set_index('DATE', inplace=True)"
      ],
      "metadata": {
        "id": "JA4F5-tDhGs1"
      },
      "execution_count": 51,
      "outputs": []
    },
    {
      "cell_type": "code",
      "source": [
        "df2021 = pd.concat([ds2021,dh2021,pr2021,sp2021,st2021,wi2021], axis=1)"
      ],
      "metadata": {
        "id": "ya1vrylXhJx5"
      },
      "execution_count": 52,
      "outputs": []
    },
    {
      "cell_type": "code",
      "source": [
        "print(df2021.columns)"
      ],
      "metadata": {
        "id": "jP3yDe_ChMfZ",
        "colab": {
          "base_uri": "https://localhost:8080/"
        },
        "outputId": "cf8b81b7-3af0-4efc-de05-97247db91bad"
      },
      "execution_count": 53,
      "outputs": [
        {
          "output_type": "stream",
          "name": "stdout",
          "text": [
            "Index(['HHMM', 'SSS', 'ID', 'Q', 'S', 'HHMM', 'DYN', 'Q', 'HHMM', 'Prec',\n",
            "       'StDev', '%Time', 'Q', 'S', 'HHMM', 'SLP', 'Q', 'S', 'HHMM', 'SST', 'Q',\n",
            "       'S', 'HHMM', 'UWND', 'VWND', 'WSPD', 'WDIR', 'SD', 'SD.1'],\n",
            "      dtype='object')\n"
          ]
        }
      ]
    },
    {
      "cell_type": "code",
      "source": [
        "del df2021[\"HHMM\"]\n",
        "del df2021[\"ID\"]\n",
        "del df2021[\"Q\"]\n",
        "del df2021[\"S\"]\n",
        "del df2021[\"SD\"]\n",
        "del df2021[\"SD.1\"]\n",
        "del df2021[\"UWND\"]\n",
        "del df2021[\"VWND\"]\n",
        "del df2021[\"StDev\"]\n",
        "del df2021[\"%Time\"]\n",
        "del df2021[\"SLP\"]\n",
        "\n",
        "\n",
        "print(df2021.shape)\n",
        "print(df2021.dtypes)"
      ],
      "metadata": {
        "id": "ANym_9yHhO_X",
        "colab": {
          "base_uri": "https://localhost:8080/"
        },
        "outputId": "fb38e134-4413-4be9-a4a9-761c318bfb02"
      },
      "execution_count": 54,
      "outputs": [
        {
          "output_type": "stream",
          "name": "stdout",
          "text": [
            "(365, 6)\n",
            "SSS     float64\n",
            "DYN     float64\n",
            "Prec    float64\n",
            "SST     float64\n",
            "WSPD    float64\n",
            "WDIR    float64\n",
            "dtype: object\n"
          ]
        }
      ]
    },
    {
      "cell_type": "code",
      "source": [
        "print(df2021.isnull().sum())"
      ],
      "metadata": {
        "id": "lo_U0-7ahShj",
        "colab": {
          "base_uri": "https://localhost:8080/"
        },
        "outputId": "f47d3eb4-8cbe-4f7d-e254-1456fff0adce"
      },
      "execution_count": 55,
      "outputs": [
        {
          "output_type": "stream",
          "name": "stdout",
          "text": [
            "SSS     0\n",
            "DYN     0\n",
            "Prec    0\n",
            "SST     0\n",
            "WSPD    0\n",
            "WDIR    0\n",
            "dtype: int64\n"
          ]
        }
      ]
    },
    {
      "cell_type": "code",
      "source": [
        "#SSS\n",
        "\n",
        "#Substituo os valores inconsistentes por NA\n",
        "df2021.loc[df2021['SSS'] == -9.999,'SSS'] = pd.NA\n",
        "\n",
        "#Concateno ao array para imputação outro array com dados similares para treinamento\n",
        "X = [df2021['SSS'].values, df2019['SSS'].values]\n",
        "\n",
        "imputer = KNNImputer(n_neighbors=2, weights=\"uniform\")\n",
        "result = imputer.fit_transform(X)\n",
        "\n",
        "df2021['SSS'] = result[0]"
      ],
      "metadata": {
        "id": "kxCSGsRNx_zo"
      },
      "execution_count": 56,
      "outputs": []
    },
    {
      "cell_type": "code",
      "source": [
        "df2019.shape"
      ],
      "metadata": {
        "colab": {
          "base_uri": "https://localhost:8080/"
        },
        "id": "K-rbQvd0UgMU",
        "outputId": "ca31ddec-e2a8-45f8-9604-4bf94808e537"
      },
      "execution_count": 57,
      "outputs": [
        {
          "output_type": "execute_result",
          "data": {
            "text/plain": [
              "(365, 6)"
            ]
          },
          "metadata": {},
          "execution_count": 57
        }
      ]
    },
    {
      "cell_type": "code",
      "source": [
        "#DYN\n",
        "\n",
        "#Substituo os valores inconsistentes por NA\n",
        "df2021.loc[df2021['DYN'] == -9.99,'DYN'] = pd.NA\n",
        "\n",
        "#Concateno ao array para imputação outro array com dados similares para treinamento\n",
        "X = [df2021['DYN'].values, df2019['DYN'].values]\n",
        "\n",
        "imputer = KNNImputer(n_neighbors=2, weights=\"uniform\")\n",
        "result = imputer.fit_transform(X)\n",
        "\n",
        "df2021['DYN'] = result[0]"
      ],
      "metadata": {
        "id": "GRoT80Axx_zo"
      },
      "execution_count": 58,
      "outputs": []
    },
    {
      "cell_type": "code",
      "source": [
        "#Prec\n",
        "\n",
        "#Substituo os valores inconsistentes por NA\n",
        "df2021.loc[df2021['Prec'] == -9.99,'Prec'] = pd.NA\n",
        "\n",
        "#Concateno ao array para imputação outro array com dados similares para treinamento\n",
        "X = [df2021['Prec'].values, df2019['Prec'].values]\n",
        "\n",
        "imputer = KNNImputer(n_neighbors=2, weights=\"uniform\")\n",
        "result = imputer.fit_transform(X)\n",
        "\n",
        "df2021['Prec'] = result[0]"
      ],
      "metadata": {
        "id": "uFLKacg9x_zo"
      },
      "execution_count": 59,
      "outputs": []
    },
    {
      "cell_type": "code",
      "source": [
        "#SST\n",
        "\n",
        "#Substituo os valores inconsistentes por NA\n",
        "df2021.loc[df2021['SST'] == -9.99,'SST'] = pd.NA\n",
        "\n",
        "#Concateno ao array para imputação outro array com dados similares para treinamento\n",
        "X = [df2021['SST'].values, df2019['SST'].values]\n",
        "\n",
        "imputer = KNNImputer(n_neighbors=2, weights=\"uniform\")\n",
        "result = imputer.fit_transform(X)\n",
        "\n",
        "df2021['SST'] = result[0]"
      ],
      "metadata": {
        "id": "OOKE_3tNx_zp"
      },
      "execution_count": 60,
      "outputs": []
    },
    {
      "cell_type": "code",
      "source": [
        "#WSPD\n",
        "\n",
        "#Substituo os valores inconsistentes por NA\n",
        "df2021.loc[df2021['WSPD'] == -99.9,'WSPD'] = pd.NA\n",
        "\n",
        "#Concateno ao array para imputação outro array com dados similares para treinamento\n",
        "X = [df2021['WSPD'].values, df2019['WSPD'].values]\n",
        "\n",
        "imputer = KNNImputer(n_neighbors=2, weights=\"uniform\")\n",
        "result = imputer.fit_transform(X)\n",
        "\n",
        "df2021['WSPD'] = result[0]"
      ],
      "metadata": {
        "id": "ASsGuBFsx_zp"
      },
      "execution_count": 61,
      "outputs": []
    },
    {
      "cell_type": "code",
      "source": [
        "#WDIR\n",
        "\n",
        "#Substituo os valores inconsistentes por NA\n",
        "df2021.loc[df2021['WDIR'] == -99.9,'WDIR'] = pd.NA\n",
        "\n",
        "#Concateno ao array para imputação outro array com dados similares para treinamento\n",
        "X = [df2021['WDIR'].values, df2019['WDIR'].values]\n",
        "\n",
        "imputer = KNNImputer(n_neighbors=2, weights=\"uniform\")\n",
        "result = imputer.fit_transform(X)\n",
        "\n",
        "df2021['WDIR'] = result[0]"
      ],
      "metadata": {
        "id": "F36pZVMtx_zp"
      },
      "execution_count": 62,
      "outputs": []
    },
    {
      "cell_type": "code",
      "source": [
        "from google.colab import files\n",
        "uploaded = files.upload()"
      ],
      "metadata": {
        "colab": {
          "base_uri": "https://localhost:8080/",
          "height": 252
        },
        "id": "VWJC9GRChb1R",
        "outputId": "a2ea6e99-3655-46a1-b0bb-f514c6cf663d"
      },
      "execution_count": 63,
      "outputs": [
        {
          "output_type": "display_data",
          "data": {
            "text/plain": [
              "<IPython.core.display.HTML object>"
            ],
            "text/html": [
              "\n",
              "     <input type=\"file\" id=\"files-b5c33385-b5ed-436a-99d2-133fe63e60ff\" name=\"files[]\" multiple disabled\n",
              "        style=\"border:none\" />\n",
              "     <output id=\"result-b5c33385-b5ed-436a-99d2-133fe63e60ff\">\n",
              "      Upload widget is only available when the cell has been executed in the\n",
              "      current browser session. Please rerun this cell to enable.\n",
              "      </output>\n",
              "      <script>// Copyright 2017 Google LLC\n",
              "//\n",
              "// Licensed under the Apache License, Version 2.0 (the \"License\");\n",
              "// you may not use this file except in compliance with the License.\n",
              "// You may obtain a copy of the License at\n",
              "//\n",
              "//      http://www.apache.org/licenses/LICENSE-2.0\n",
              "//\n",
              "// Unless required by applicable law or agreed to in writing, software\n",
              "// distributed under the License is distributed on an \"AS IS\" BASIS,\n",
              "// WITHOUT WARRANTIES OR CONDITIONS OF ANY KIND, either express or implied.\n",
              "// See the License for the specific language governing permissions and\n",
              "// limitations under the License.\n",
              "\n",
              "/**\n",
              " * @fileoverview Helpers for google.colab Python module.\n",
              " */\n",
              "(function(scope) {\n",
              "function span(text, styleAttributes = {}) {\n",
              "  const element = document.createElement('span');\n",
              "  element.textContent = text;\n",
              "  for (const key of Object.keys(styleAttributes)) {\n",
              "    element.style[key] = styleAttributes[key];\n",
              "  }\n",
              "  return element;\n",
              "}\n",
              "\n",
              "// Max number of bytes which will be uploaded at a time.\n",
              "const MAX_PAYLOAD_SIZE = 100 * 1024;\n",
              "\n",
              "function _uploadFiles(inputId, outputId) {\n",
              "  const steps = uploadFilesStep(inputId, outputId);\n",
              "  const outputElement = document.getElementById(outputId);\n",
              "  // Cache steps on the outputElement to make it available for the next call\n",
              "  // to uploadFilesContinue from Python.\n",
              "  outputElement.steps = steps;\n",
              "\n",
              "  return _uploadFilesContinue(outputId);\n",
              "}\n",
              "\n",
              "// This is roughly an async generator (not supported in the browser yet),\n",
              "// where there are multiple asynchronous steps and the Python side is going\n",
              "// to poll for completion of each step.\n",
              "// This uses a Promise to block the python side on completion of each step,\n",
              "// then passes the result of the previous step as the input to the next step.\n",
              "function _uploadFilesContinue(outputId) {\n",
              "  const outputElement = document.getElementById(outputId);\n",
              "  const steps = outputElement.steps;\n",
              "\n",
              "  const next = steps.next(outputElement.lastPromiseValue);\n",
              "  return Promise.resolve(next.value.promise).then((value) => {\n",
              "    // Cache the last promise value to make it available to the next\n",
              "    // step of the generator.\n",
              "    outputElement.lastPromiseValue = value;\n",
              "    return next.value.response;\n",
              "  });\n",
              "}\n",
              "\n",
              "/**\n",
              " * Generator function which is called between each async step of the upload\n",
              " * process.\n",
              " * @param {string} inputId Element ID of the input file picker element.\n",
              " * @param {string} outputId Element ID of the output display.\n",
              " * @return {!Iterable<!Object>} Iterable of next steps.\n",
              " */\n",
              "function* uploadFilesStep(inputId, outputId) {\n",
              "  const inputElement = document.getElementById(inputId);\n",
              "  inputElement.disabled = false;\n",
              "\n",
              "  const outputElement = document.getElementById(outputId);\n",
              "  outputElement.innerHTML = '';\n",
              "\n",
              "  const pickedPromise = new Promise((resolve) => {\n",
              "    inputElement.addEventListener('change', (e) => {\n",
              "      resolve(e.target.files);\n",
              "    });\n",
              "  });\n",
              "\n",
              "  const cancel = document.createElement('button');\n",
              "  inputElement.parentElement.appendChild(cancel);\n",
              "  cancel.textContent = 'Cancel upload';\n",
              "  const cancelPromise = new Promise((resolve) => {\n",
              "    cancel.onclick = () => {\n",
              "      resolve(null);\n",
              "    };\n",
              "  });\n",
              "\n",
              "  // Wait for the user to pick the files.\n",
              "  const files = yield {\n",
              "    promise: Promise.race([pickedPromise, cancelPromise]),\n",
              "    response: {\n",
              "      action: 'starting',\n",
              "    }\n",
              "  };\n",
              "\n",
              "  cancel.remove();\n",
              "\n",
              "  // Disable the input element since further picks are not allowed.\n",
              "  inputElement.disabled = true;\n",
              "\n",
              "  if (!files) {\n",
              "    return {\n",
              "      response: {\n",
              "        action: 'complete',\n",
              "      }\n",
              "    };\n",
              "  }\n",
              "\n",
              "  for (const file of files) {\n",
              "    const li = document.createElement('li');\n",
              "    li.append(span(file.name, {fontWeight: 'bold'}));\n",
              "    li.append(span(\n",
              "        `(${file.type || 'n/a'}) - ${file.size} bytes, ` +\n",
              "        `last modified: ${\n",
              "            file.lastModifiedDate ? file.lastModifiedDate.toLocaleDateString() :\n",
              "                                    'n/a'} - `));\n",
              "    const percent = span('0% done');\n",
              "    li.appendChild(percent);\n",
              "\n",
              "    outputElement.appendChild(li);\n",
              "\n",
              "    const fileDataPromise = new Promise((resolve) => {\n",
              "      const reader = new FileReader();\n",
              "      reader.onload = (e) => {\n",
              "        resolve(e.target.result);\n",
              "      };\n",
              "      reader.readAsArrayBuffer(file);\n",
              "    });\n",
              "    // Wait for the data to be ready.\n",
              "    let fileData = yield {\n",
              "      promise: fileDataPromise,\n",
              "      response: {\n",
              "        action: 'continue',\n",
              "      }\n",
              "    };\n",
              "\n",
              "    // Use a chunked sending to avoid message size limits. See b/62115660.\n",
              "    let position = 0;\n",
              "    do {\n",
              "      const length = Math.min(fileData.byteLength - position, MAX_PAYLOAD_SIZE);\n",
              "      const chunk = new Uint8Array(fileData, position, length);\n",
              "      position += length;\n",
              "\n",
              "      const base64 = btoa(String.fromCharCode.apply(null, chunk));\n",
              "      yield {\n",
              "        response: {\n",
              "          action: 'append',\n",
              "          file: file.name,\n",
              "          data: base64,\n",
              "        },\n",
              "      };\n",
              "\n",
              "      let percentDone = fileData.byteLength === 0 ?\n",
              "          100 :\n",
              "          Math.round((position / fileData.byteLength) * 100);\n",
              "      percent.textContent = `${percentDone}% done`;\n",
              "\n",
              "    } while (position < fileData.byteLength);\n",
              "  }\n",
              "\n",
              "  // All done.\n",
              "  yield {\n",
              "    response: {\n",
              "      action: 'complete',\n",
              "    }\n",
              "  };\n",
              "}\n",
              "\n",
              "scope.google = scope.google || {};\n",
              "scope.google.colab = scope.google.colab || {};\n",
              "scope.google.colab._files = {\n",
              "  _uploadFiles,\n",
              "  _uploadFilesContinue,\n",
              "};\n",
              "})(self);\n",
              "</script> "
            ]
          },
          "metadata": {}
        },
        {
          "output_type": "stream",
          "name": "stdout",
          "text": [
            "Saving DepthSalinity_2022.csv to DepthSalinity_2022.csv\n",
            "Saving DynamicHeight_2022.csv to DynamicHeight_2022.csv\n",
            "Saving Precipitation_2022.csv to Precipitation_2022.csv\n",
            "Saving SeaLevelPressure_2022.csv to SeaLevelPressure_2022.csv\n",
            "Saving SeaSurfaceTemperature_2022.csv to SeaSurfaceTemperature_2022.csv\n",
            "Saving Winds_2022.csv to Winds_2022.csv\n"
          ]
        }
      ]
    },
    {
      "cell_type": "markdown",
      "source": [
        "## Dados 2022"
      ],
      "metadata": {
        "id": "0NlpQqu-hwB1"
      }
    },
    {
      "cell_type": "code",
      "source": [
        "ds2022 = pd.read_csv(\"DepthSalinity_2022.csv\", sep=\";\")\n",
        "dh2022 = pd.read_csv(\"DynamicHeight_2022.csv\", sep=\";\")\n",
        "pr2022 = pd.read_csv(\"Precipitation_2022.csv\", sep=\";\")\n",
        "sp2022 = pd.read_csv(\"SeaLevelPressure_2022.csv\", sep=\";\")\n",
        "st2022 = pd.read_csv(\"SeaSurfaceTemperature_2022.csv\", sep=\";\")\n",
        "wi2022 = pd.read_csv(\"Winds_2022.csv\", sep=\";\")"
      ],
      "metadata": {
        "id": "e9r-2Ky0h82t"
      },
      "execution_count": 64,
      "outputs": []
    },
    {
      "cell_type": "code",
      "source": [
        "ds2022.rename(columns={'YYYYMMDD': 'DATE'}, inplace=True)\n",
        "ds2022['DATE'] = pd.to_datetime(ds2022[\"DATE\"], format = '%Y%m%d')\n",
        "\n",
        "dh2022.rename(columns={'YYYYMMDD': 'DATE'}, inplace=True)\n",
        "dh2022['DATE'] = pd.to_datetime(dh2022[\"DATE\"], format = '%Y%m%d')\n",
        "\n",
        "pr2022.rename(columns={'YYYYMMDD': 'DATE'}, inplace=True)\n",
        "pr2022['DATE'] = pd.to_datetime(pr2022[\"DATE\"], format = '%Y%m%d')\n",
        "\n",
        "sp2022.rename(columns={'YYYYMMDD': 'DATE'}, inplace=True)\n",
        "sp2022['DATE'] = pd.to_datetime(sp2022[\"DATE\"], format = '%Y%m%d')\n",
        "\n",
        "st2022.rename(columns={'YYYYMMDD': 'DATE'}, inplace=True)\n",
        "st2022['DATE'] = pd.to_datetime(st2022[\"DATE\"], format = '%Y%m%d')\n",
        "\n",
        "wi2022.rename(columns={'YYYYMMDD': 'DATE'}, inplace=True)\n",
        "wi2022['DATE'] = pd.to_datetime(wi2022[\"DATE\"], format = '%Y%m%d')"
      ],
      "metadata": {
        "id": "pWhbaTJniH7Y"
      },
      "execution_count": 65,
      "outputs": []
    },
    {
      "cell_type": "code",
      "source": [
        "ds2022.set_index('DATE', inplace=True)\n",
        "dh2022.set_index('DATE', inplace=True)\n",
        "pr2022.set_index('DATE', inplace=True)\n",
        "sp2022.set_index('DATE', inplace=True)\n",
        "st2022.set_index('DATE', inplace=True)\n",
        "wi2022.set_index('DATE', inplace=True)"
      ],
      "metadata": {
        "id": "odSU8JoZiUGm"
      },
      "execution_count": 66,
      "outputs": []
    },
    {
      "cell_type": "code",
      "source": [
        "df2022 = pd.concat([ds2022,dh2022,pr2022,sp2022,st2022,wi2022], axis=1)"
      ],
      "metadata": {
        "id": "f7cv4rdziXUV"
      },
      "execution_count": 67,
      "outputs": []
    },
    {
      "cell_type": "code",
      "source": [
        "print(df2022.columns)"
      ],
      "metadata": {
        "id": "_vSeXXp-iZ0F",
        "colab": {
          "base_uri": "https://localhost:8080/"
        },
        "outputId": "6d2bd914-8e6b-426a-afb7-3e6a392d4a88"
      },
      "execution_count": 68,
      "outputs": [
        {
          "output_type": "stream",
          "name": "stdout",
          "text": [
            "Index(['HHMM', 'SSS', 'ID', 'Q', 'S', 'HHMM', 'DYN', 'Q', 'HHMM', 'Prec',\n",
            "       'StDev', '%Time', 'Q', 'S', 'HHMM', 'SLP', 'Q', 'S', 'HHMM', 'SST', 'Q',\n",
            "       'S', 'HHMM', 'UWND', 'VWND', 'WSPD', 'WDIR', 'SD', 'SD.1'],\n",
            "      dtype='object')\n"
          ]
        }
      ]
    },
    {
      "cell_type": "code",
      "source": [
        "del df2022[\"HHMM\"]\n",
        "del df2022[\"ID\"]\n",
        "del df2022[\"Q\"]\n",
        "del df2022[\"S\"]\n",
        "del df2022[\"SD\"]\n",
        "del df2022[\"SD.1\"]\n",
        "del df2022[\"UWND\"]\n",
        "del df2022[\"VWND\"]\n",
        "del df2022[\"StDev\"]\n",
        "del df2022[\"%Time\"]\n",
        "del df2022[\"SLP\"]\n",
        "\n",
        "print(df2022.shape)\n",
        "print(df2022.dtypes)"
      ],
      "metadata": {
        "id": "mHhcmRqkiclj",
        "colab": {
          "base_uri": "https://localhost:8080/"
        },
        "outputId": "e38177b9-89b8-44c3-ae68-9a0e407ca9b6"
      },
      "execution_count": 69,
      "outputs": [
        {
          "output_type": "stream",
          "name": "stdout",
          "text": [
            "(365, 6)\n",
            "SSS     float64\n",
            "DYN     float64\n",
            "Prec    float64\n",
            "SST     float64\n",
            "WSPD    float64\n",
            "WDIR    float64\n",
            "dtype: object\n"
          ]
        }
      ]
    },
    {
      "cell_type": "code",
      "source": [
        "print(df2022.isnull().sum())"
      ],
      "metadata": {
        "id": "xaShlFMUifXe",
        "colab": {
          "base_uri": "https://localhost:8080/"
        },
        "outputId": "8ab77dab-9bfe-4158-cf97-239bbd66b9cd"
      },
      "execution_count": 70,
      "outputs": [
        {
          "output_type": "stream",
          "name": "stdout",
          "text": [
            "SSS     0\n",
            "DYN     0\n",
            "Prec    0\n",
            "SST     0\n",
            "WSPD    0\n",
            "WDIR    0\n",
            "dtype: int64\n"
          ]
        }
      ]
    },
    {
      "cell_type": "markdown",
      "source": [
        "##Tratamento de dados inconsistentes"
      ],
      "metadata": {
        "id": "k2fBuUHFOHbz"
      }
    },
    {
      "cell_type": "code",
      "source": [
        "#SSS\n",
        "\n",
        "#Substituo os valores inconsistentes por NA\n",
        "df2022.loc[df2022['SSS'] == -9.999,'SSS'] = pd.NA\n",
        "\n",
        "#Concateno ao array para imputação outro array com dados similares para treinamento\n",
        "X = [df2022['SSS'].values, df2021['SSS'].values]\n",
        "\n",
        "imputer = KNNImputer(n_neighbors=2, weights=\"uniform\")\n",
        "result = imputer.fit_transform(X)\n",
        "\n",
        "df2022['SSS'] = result[0]"
      ],
      "metadata": {
        "id": "CCatcFupyB35"
      },
      "execution_count": 71,
      "outputs": []
    },
    {
      "cell_type": "code",
      "source": [
        "#DYN\n",
        "\n",
        "#Substituo os valores inconsistentes por NA\n",
        "df2022.loc[df2022['DYN'] == -9.99,'DYN'] = pd.NA\n",
        "\n",
        "#Concateno ao array para imputação outro array com dados similares para treinamento\n",
        "X = [df2022['DYN'].values, df2021['DYN'].values]\n",
        "\n",
        "imputer = KNNImputer(n_neighbors=2, weights=\"uniform\")\n",
        "result = imputer.fit_transform(X)\n",
        "\n",
        "df2022['DYN'] = result[0]"
      ],
      "metadata": {
        "id": "jEAj96UByB36"
      },
      "execution_count": 72,
      "outputs": []
    },
    {
      "cell_type": "code",
      "source": [
        "#Prec\n",
        "\n",
        "#Substituo os valores inconsistentes por NA\n",
        "df2022.loc[df2022['Prec'] == -9.99,'Prec'] = pd.NA\n",
        "\n",
        "#Concateno ao array para imputação outro array com dados similares para treinamento\n",
        "X = [df2022['Prec'].values, df2021['Prec'].values]\n",
        "\n",
        "imputer = KNNImputer(n_neighbors=2, weights=\"uniform\")\n",
        "result = imputer.fit_transform(X)\n",
        "\n",
        "df2022['Prec'] = result[0]"
      ],
      "metadata": {
        "id": "ClNTF36byB37"
      },
      "execution_count": 73,
      "outputs": []
    },
    {
      "cell_type": "code",
      "source": [
        "#SST\n",
        "\n",
        "#Substituo os valores inconsistentes por NA\n",
        "df2022.loc[df2022['SST'] == -9.99,'SST'] = pd.NA\n",
        "\n",
        "#Concateno ao array para imputação outro array com dados similares para treinamento\n",
        "X = [df2022['SST'].values, df2021['SST'].values]\n",
        "\n",
        "imputer = KNNImputer(n_neighbors=2, weights=\"uniform\")\n",
        "result = imputer.fit_transform(X)\n",
        "\n",
        "df2022['SST'] = result[0]"
      ],
      "metadata": {
        "id": "74QjfK9DyB37"
      },
      "execution_count": 74,
      "outputs": []
    },
    {
      "cell_type": "code",
      "source": [
        "#WSPD\n",
        "\n",
        "#Substituo os valores inconsistentes por NA\n",
        "df2022.loc[df2022['WSPD'] == -99.9,'WSPD'] = pd.NA\n",
        "\n",
        "#Concateno ao array para imputação outro array com dados similares para treinamento\n",
        "X = [df2022['WSPD'].values, df2021['WSPD'].values]\n",
        "\n",
        "imputer = KNNImputer(n_neighbors=2, weights=\"uniform\")\n",
        "result = imputer.fit_transform(X)\n",
        "\n",
        "df2022['WSPD'] = result[0]"
      ],
      "metadata": {
        "id": "d6iJP4uRyB38"
      },
      "execution_count": 75,
      "outputs": []
    },
    {
      "cell_type": "code",
      "source": [
        "#WDIR\n",
        "\n",
        "#Substituo os valores inconsistentes por NA\n",
        "df2022.loc[df2022['WDIR'] == -99.9,'WDIR'] = pd.NA\n",
        "\n",
        "#Concateno ao array para imputação outro array com dados similares para treinamento\n",
        "X = [df2022['WDIR'].values, df2021['WDIR'].values]\n",
        "\n",
        "imputer = KNNImputer(n_neighbors=2, weights=\"uniform\")\n",
        "result = imputer.fit_transform(X)\n",
        "\n",
        "df2022['WDIR'] = result[0]"
      ],
      "metadata": {
        "id": "ZKe35FP3yB38"
      },
      "execution_count": 76,
      "outputs": []
    },
    {
      "cell_type": "markdown",
      "source": [
        "## Concatenação PIRATA"
      ],
      "metadata": {
        "id": "myc-nT6givr6"
      }
    },
    {
      "cell_type": "code",
      "source": [
        "print(\"2018:\",df2018.shape)\n",
        "print(\"2019:\",df2019.shape)\n",
        "print(\"2020:\",df2020.shape)\n",
        "print(\"2021:\",df2021.shape)\n",
        "print(\"2022:\",df2022.shape)"
      ],
      "metadata": {
        "id": "fk1a1iY4izCb",
        "colab": {
          "base_uri": "https://localhost:8080/"
        },
        "outputId": "c39f0e9f-387a-4139-c172-51527f7bc314"
      },
      "execution_count": 77,
      "outputs": [
        {
          "output_type": "stream",
          "name": "stdout",
          "text": [
            "2018: (365, 6)\n",
            "2019: (365, 6)\n",
            "2020: (366, 6)\n",
            "2021: (365, 6)\n",
            "2022: (365, 6)\n"
          ]
        }
      ]
    },
    {
      "cell_type": "code",
      "source": [
        "pirataFULL = pd.concat([df2018, df2019, df2020, df2021, df2022])"
      ],
      "metadata": {
        "id": "h_UkIqJbjAhv"
      },
      "execution_count": 78,
      "outputs": []
    },
    {
      "cell_type": "code",
      "source": [
        "print(pirataFULL.shape)\n",
        "print( pirataFULL.columns)"
      ],
      "metadata": {
        "id": "j0vR-E8IjPCu",
        "colab": {
          "base_uri": "https://localhost:8080/"
        },
        "outputId": "852651e5-1195-4488-f19a-ac5e9cdfade9"
      },
      "execution_count": 79,
      "outputs": [
        {
          "output_type": "stream",
          "name": "stdout",
          "text": [
            "(1826, 6)\n",
            "Index(['SSS', 'DYN', 'Prec', 'SST', 'WSPD', 'WDIR'], dtype='object')\n"
          ]
        }
      ]
    },
    {
      "cell_type": "code",
      "source": [
        "print(pirataFULL.isnull().sum())"
      ],
      "metadata": {
        "id": "rk530SzQjdwA",
        "colab": {
          "base_uri": "https://localhost:8080/"
        },
        "outputId": "72e451c3-45a9-4e64-d6fc-203538dd3da7"
      },
      "execution_count": 80,
      "outputs": [
        {
          "output_type": "stream",
          "name": "stdout",
          "text": [
            "SSS     0\n",
            "DYN     0\n",
            "Prec    0\n",
            "SST     0\n",
            "WSPD    0\n",
            "WDIR    0\n",
            "dtype: int64\n"
          ]
        }
      ]
    },
    {
      "cell_type": "markdown",
      "source": [
        "#Ajuste de valores inconsistentes\n",
        "Substituição por um valor médio ou mediano"
      ],
      "metadata": {
        "id": "V83q8TU8rwFV"
      }
    },
    {
      "cell_type": "code",
      "source": [
        "print(\"\\n\", pirataFULL.describe(), sep='\\n')"
      ],
      "metadata": {
        "id": "Og7kRJyonQZB",
        "colab": {
          "base_uri": "https://localhost:8080/"
        },
        "outputId": "4e1f6acd-b8de-403f-d62c-2d282ea28ca7"
      },
      "execution_count": 81,
      "outputs": [
        {
          "output_type": "stream",
          "name": "stdout",
          "text": [
            "\n",
            "\n",
            "               SSS          DYN         Prec          SST         WSPD  \\\n",
            "count  1826.000000  1826.000000  1826.000000  1826.000000  1826.000000   \n",
            "mean     37.104714   101.193409     0.075241    26.733721     4.856969   \n",
            "std       0.375120     3.090643     0.432240     1.476417     1.681027   \n",
            "min      36.342000    93.750000    -0.060000    23.980000     0.600000   \n",
            "25%      36.770250    98.820000    -0.010000    25.552500     3.600000   \n",
            "50%      37.251000   101.155000     0.000000    26.810000     4.800000   \n",
            "75%      37.403000   102.877500     0.000000    27.807500     6.000000   \n",
            "max      37.710000   111.120000     9.460000    30.180000     9.700000   \n",
            "\n",
            "              WDIR  \n",
            "count  1826.000000  \n",
            "mean    259.443661  \n",
            "std      59.034056  \n",
            "min       0.200000  \n",
            "25%     238.900000  \n",
            "50%     270.350000  \n",
            "75%     293.100000  \n",
            "max     359.400000  \n"
          ]
        }
      ]
    },
    {
      "cell_type": "code",
      "source": [
        "print(pirataFULL.isnull().sum())"
      ],
      "metadata": {
        "id": "QpQBGZkXkL5t",
        "colab": {
          "base_uri": "https://localhost:8080/"
        },
        "outputId": "61528dd8-9693-45d1-cb46-f06001c6b3bd"
      },
      "execution_count": 82,
      "outputs": [
        {
          "output_type": "stream",
          "name": "stdout",
          "text": [
            "SSS     0\n",
            "DYN     0\n",
            "Prec    0\n",
            "SST     0\n",
            "WSPD    0\n",
            "WDIR    0\n",
            "dtype: int64\n"
          ]
        }
      ]
    },
    {
      "cell_type": "markdown",
      "source": [
        "#Nova coluna 'WDIR_CR'\n",
        "Direção do vento convertida de angulos (coluna 'WDIR') para texto (Compass Rose)\n",
        "\n",
        "\n"
      ],
      "metadata": {
        "id": "Hx8gTTRy7FrW"
      }
    },
    {
      "cell_type": "code",
      "source": [
        "for idx, row in pirataFULL.iterrows():\n",
        "  if pd.isnull(row[\"WDIR\"]) == False:\n",
        "    ang_WDIR = row[\"WDIR\"]\n",
        "    new_WDIR_CR = int((ang_WDIR/22.5)+.5)\n",
        "    arr_CR = [\"N\",\"NNE\",\"NE\",\"ENE\",\"E\",\"ESE\", \"SE\", \"SSE\",\"S\",\"SSW\",\"SW\",\"WSW\",\"W\",\"WNW\",\"NW\",\"NNW\"]\n",
        "    pirataFULL.loc[idx,\"WDIR_CR\"] = arr_CR[(new_WDIR_CR % 16)]\n"
      ],
      "metadata": {
        "id": "Qr8U2O3W7lwv"
      },
      "execution_count": 83,
      "outputs": []
    },
    {
      "cell_type": "code",
      "source": [
        "pirataFULL.columns"
      ],
      "metadata": {
        "id": "6jfW9Uiv_4Hm",
        "colab": {
          "base_uri": "https://localhost:8080/"
        },
        "outputId": "60404054-8425-4c76-d2fe-7c46a3f3d400"
      },
      "execution_count": 84,
      "outputs": [
        {
          "output_type": "execute_result",
          "data": {
            "text/plain": [
              "Index(['SSS', 'DYN', 'Prec', 'SST', 'WSPD', 'WDIR', 'WDIR_CR'], dtype='object')"
            ]
          },
          "metadata": {},
          "execution_count": 84
        }
      ]
    },
    {
      "cell_type": "markdown",
      "source": [
        "# Alteração do nome das colunas para inserir prefixo 'PIR_'\\\n",
        "Prefixo para identificar origem dos dados do programa 'PIRATA'"
      ],
      "metadata": {
        "id": "lgEEMdaP_beA"
      }
    },
    {
      "cell_type": "code",
      "source": [
        "pirataFULL.rename(columns={'SSS': 'PIR_SSS'}, inplace=True)\n",
        "pirataFULL.rename(columns={'DYN': 'PIR_DYN'}, inplace=True)\n",
        "pirataFULL.rename(columns={'Prec': 'PIR_PREC'}, inplace=True)\n",
        "pirataFULL.rename(columns={'SST': 'PIR_SST'}, inplace=True)\n",
        "pirataFULL.rename(columns={'WSPD': 'PIR_WSPD'}, inplace=True)\n",
        "pirataFULL.rename(columns={'WDIR': 'PIR_WDIR'}, inplace=True)\n",
        "pirataFULL.rename(columns={'WDIR_CR': 'PIR_WDIRCR'}, inplace=True)"
      ],
      "metadata": {
        "id": "bXSUPtan9KH8"
      },
      "execution_count": 85,
      "outputs": []
    },
    {
      "cell_type": "code",
      "source": [
        "pirataFULL.columns\n",
        "\n",
        "print(\"\\n\", pirataFULL.describe(), sep='\\n')"
      ],
      "metadata": {
        "id": "CDKAljqJABtW",
        "colab": {
          "base_uri": "https://localhost:8080/"
        },
        "outputId": "37c8f67d-b27a-43dd-e568-5c9254812475"
      },
      "execution_count": 86,
      "outputs": [
        {
          "output_type": "stream",
          "name": "stdout",
          "text": [
            "\n",
            "\n",
            "           PIR_SSS      PIR_DYN     PIR_PREC      PIR_SST     PIR_WSPD  \\\n",
            "count  1826.000000  1826.000000  1826.000000  1826.000000  1826.000000   \n",
            "mean     37.104714   101.193409     0.075241    26.733721     4.856969   \n",
            "std       0.375120     3.090643     0.432240     1.476417     1.681027   \n",
            "min      36.342000    93.750000    -0.060000    23.980000     0.600000   \n",
            "25%      36.770250    98.820000    -0.010000    25.552500     3.600000   \n",
            "50%      37.251000   101.155000     0.000000    26.810000     4.800000   \n",
            "75%      37.403000   102.877500     0.000000    27.807500     6.000000   \n",
            "max      37.710000   111.120000     9.460000    30.180000     9.700000   \n",
            "\n",
            "          PIR_WDIR  \n",
            "count  1826.000000  \n",
            "mean    259.443661  \n",
            "std      59.034056  \n",
            "min       0.200000  \n",
            "25%     238.900000  \n",
            "50%     270.350000  \n",
            "75%     293.100000  \n",
            "max     359.400000  \n"
          ]
        }
      ]
    },
    {
      "cell_type": "code",
      "source": [],
      "metadata": {
        "id": "h651-su0A3qm"
      },
      "execution_count": 86,
      "outputs": []
    }
  ]
}