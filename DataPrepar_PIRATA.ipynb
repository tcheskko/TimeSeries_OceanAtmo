{
  "nbformat": 4,
  "nbformat_minor": 0,
  "metadata": {
    "colab": {
      "provenance": [],
      "authorship_tag": "ABX9TyMO23JJ+s/V+2g6Vhp2e5A2",
      "include_colab_link": true
    },
    "kernelspec": {
      "name": "python3",
      "display_name": "Python 3"
    },
    "language_info": {
      "name": "python"
    }
  },
  "cells": [
    {
      "cell_type": "markdown",
      "metadata": {
        "id": "view-in-github",
        "colab_type": "text"
      },
      "source": [
        "<a href=\"https://colab.research.google.com/github/tcheskko/TimeSeries_OceanAtmo/blob/main/DataPrepar_PIRATA.ipynb\" target=\"_parent\"><img src=\"https://colab.research.google.com/assets/colab-badge.svg\" alt=\"Open In Colab\"/></a>"
      ]
    },
    {
      "cell_type": "code",
      "execution_count": null,
      "metadata": {
        "id": "AaykWaGDJQjL"
      },
      "outputs": [],
      "source": [
        "import numpy as np\n",
        "import pandas as pd\n",
        "import matplotlib.pyplot as plt\n",
        "from sklearn.impute import KNNImputer\n",
        "from sklearn.pipeline import Pipeline\n",
        "from sklearn.ensemble import RandomForestClassifier"
      ]
    },
    {
      "cell_type": "markdown",
      "source": [
        "## Dados 2018"
      ],
      "metadata": {
        "id": "L6ctZxuhJX0F"
      }
    },
    {
      "cell_type": "code",
      "source": [
        "ds2018 = pd.read_csv(\"DataSets/PIRATA/2018/DephtSalinity_2018.csv\", sep=\";\")\n",
        "dh2018 = pd.read_csv(\"DataSets/PIRATA/2018/DynamicHeight_2018.csv\", sep=\";\")\n",
        "pr2018 = pd.read_csv(\"DataSets/PIRATA/2018/Precipitation_2018.csv\", sep=\";\")\n",
        "sp2018 = pd.read_csv(\"DataSets/PIRATA/2018/SeaLevelPressure_2018.csv\", sep=\";\")\n",
        "st2018 = pd.read_csv(\"DataSets/PIRATA/2018/SeaSurfaceTemperature_2018.csv\", sep=\";\")\n",
        "wi2018 = pd.read_csv(\"DataSets/PIRATA/2018/Winds_2018.csv\", sep=\";\")"
      ],
      "metadata": {
        "id": "My6FhJcxJgHd"
      },
      "execution_count": null,
      "outputs": []
    },
    {
      "cell_type": "code",
      "source": [
        "ds2018.rename(columns={'YYYYMMDD': 'DATE'}, inplace=True)\n",
        "ds2018['DATE'] = pd.to_datetime(ds2018[\"DATE\"], format = '%Y%m%d')\n",
        "\n",
        "dh2018.rename(columns={'YYYYMMDD': 'DATE'}, inplace=True)\n",
        "dh2018['DATE'] = pd.to_datetime(dh2018[\"DATE\"], format = '%Y%m%d')\n",
        "\n",
        "pr2018.rename(columns={'YYYYMMDD': 'DATE'}, inplace=True)\n",
        "pr2018['DATE'] = pd.to_datetime(pr2018[\"DATE\"], format = '%Y%m%d')\n",
        "\n",
        "sp2018.rename(columns={'YYYYMMDD': 'DATE'}, inplace=True)\n",
        "sp2018['DATE'] = pd.to_datetime(sp2018[\"DATE\"], format = '%Y%m%d')\n",
        "\n",
        "st2018.rename(columns={'YYYYMMDD': 'DATE'}, inplace=True)\n",
        "st2018['DATE'] = pd.to_datetime(st2018[\"DATE\"], format = '%Y%m%d')\n",
        "\n",
        "wi2018.rename(columns={'YYYYMMDD': 'DATE'}, inplace=True)\n",
        "wi2018['DATE'] = pd.to_datetime(wi2018[\"DATE\"], format = '%Y%m%d')"
      ],
      "metadata": {
        "id": "Gh_RgvP1Pzrb"
      },
      "execution_count": null,
      "outputs": []
    },
    {
      "cell_type": "code",
      "source": [
        "ds2018.set_index('DATE', inplace=True)\n",
        "dh2018.set_index('DATE', inplace=True)\n",
        "pr2018.set_index('DATE', inplace=True)\n",
        "sp2018.set_index('DATE', inplace=True)\n",
        "st2018.set_index('DATE', inplace=True)\n",
        "wi2018.set_index('DATE', inplace=True)"
      ],
      "metadata": {
        "id": "gltddHe8My4Z"
      },
      "execution_count": null,
      "outputs": []
    },
    {
      "cell_type": "code",
      "source": [
        "df2018 = pd.concat([ds2018,dh2018,pr2018,sp2018,st2018,wi2018], axis=1)"
      ],
      "metadata": {
        "id": "L0pedVHAKG__"
      },
      "execution_count": null,
      "outputs": []
    },
    {
      "cell_type": "code",
      "source": [
        "print(df2018.columns)"
      ],
      "metadata": {
        "id": "Lfe3AOZaKhmD"
      },
      "execution_count": null,
      "outputs": []
    },
    {
      "cell_type": "code",
      "source": [
        "del df2018[\"HHMM\"]\n",
        "del df2018[\"ID\"]\n",
        "del df2018[\"Q\"]\n",
        "del df2018[\"S\"]\n",
        "del df2018[\"SD\"]\n",
        "del df2018[\"SD.1\"]\n",
        "del df2018[\"UWND\"]\n",
        "del df2018[\"VWND\"]\n",
        "del df2018[\"StDev\"]\n",
        "del df2018[\"%Time\"]\n",
        "del df2018[\"SLP\"]\n"
      ],
      "metadata": {
        "id": "uuYNBfC9Kpfi"
      },
      "execution_count": null,
      "outputs": []
    },
    {
      "cell_type": "code",
      "source": [
        "print(df2018.shape)\n",
        "print(df2018.dtypes)"
      ],
      "metadata": {
        "id": "UBDb3jAYLLZN"
      },
      "execution_count": null,
      "outputs": []
    },
    {
      "cell_type": "code",
      "source": [
        "print(df2018.isnull().sum())"
      ],
      "metadata": {
        "id": "pGFiCcPcLuqc"
      },
      "execution_count": null,
      "outputs": []
    },
    {
      "cell_type": "code",
      "source": [],
      "metadata": {
        "id": "EJXGs73zxnbP"
      },
      "execution_count": null,
      "outputs": []
    },
    {
      "cell_type": "code",
      "source": [
        "#SSS\n",
        "\n",
        "for idx, row in df2018.iterrows():\n",
        "  if row[\"SSS\"] == -9.999:\n",
        "    req_row = df2018.index.get_loc(idx)\n",
        "    #valuesToAVG = values[~np.isin(-9.999)]\n",
        "    newAVG = np.median(df2018.iloc[slice(max(0, req_row-10), min(req_row, len(df2018)))][\"SSS\"])\n",
        "    df2018.at[idx, \"SSS\"] = newAVG\n",
        "  else:\n",
        "      pass"
      ],
      "metadata": {
        "id": "wHzUbqYDx2qx"
      },
      "execution_count": null,
      "outputs": []
    },
    {
      "cell_type": "code",
      "source": [
        "#DYN\n",
        "\n",
        "for idx, row in df2018.iterrows():\n",
        "  if row[\"DYN\"] == -9.99:\n",
        "    req_row = df2018.index.get_loc(idx)\n",
        "    newAVG = np.median(df2018.iloc[slice(max(0, req_row-10), min(req_row, len(df2018)))][\"DYN\"])\n",
        "    df2018.at[idx, \"DYN\"] = newAVG\n",
        "  else:\n",
        "      pass"
      ],
      "metadata": {
        "id": "ZNWDBgxWx2qy"
      },
      "execution_count": null,
      "outputs": []
    },
    {
      "cell_type": "code",
      "source": [
        "#Prec\n",
        "for idx, row in df2018.iterrows():\n",
        "  if row[\"Prec\"] == -9.99:\n",
        "    req_row = df2018.index.get_loc(idx)\n",
        "    newAVG = np.median(df2018.iloc[slice(max(0, req_row-10), min(req_row, len(df2018)))][\"Prec\"])\n",
        "    df2018.at[idx, \"Prec\"] = newAVG\n",
        "  else:\n",
        "      pass"
      ],
      "metadata": {
        "id": "erm07Ns8x2qz"
      },
      "execution_count": null,
      "outputs": []
    },
    {
      "cell_type": "code",
      "source": [
        "#SST\n",
        "for idx, row in df2018.iterrows():\n",
        "  if row[\"SST\"] == -9.99:\n",
        "    req_row = df2018.index.get_loc(idx)\n",
        "    newAVG = np.median(df2018.iloc[slice(max(0, req_row-10), min(req_row, len(df2018)))][\"SST\"])\n",
        "    df2018.at[idx, \"SST\"] = newAVG\n",
        "  else:\n",
        "      pass"
      ],
      "metadata": {
        "id": "SvCYzJOKx2qz"
      },
      "execution_count": null,
      "outputs": []
    },
    {
      "cell_type": "code",
      "source": [
        "#WSPD\n",
        "\n",
        "for idx, row in df2018.iterrows():\n",
        "  if row[\"WSPD\"] == -99.9:\n",
        "    req_row = df2018.index.get_loc(idx)\n",
        "    newAVG = np.median(df2018.iloc[slice(max(0, req_row-10), min(req_row, len(df2018)))][\"WSPD\"])\n",
        "    df2018.at[idx, \"WSPD\"] = newAVG\n",
        "  else:\n",
        "      pass"
      ],
      "metadata": {
        "id": "axJWjMH4x2q0"
      },
      "execution_count": null,
      "outputs": []
    },
    {
      "cell_type": "code",
      "source": [
        "#WDIR\n",
        "\n",
        "for idx, row in df2018.iterrows():\n",
        "  if row[\"WDIR\"] == -99.9:\n",
        "    req_row = df2018.index.get_loc(idx)\n",
        "    newAVG = np.median(df2018.iloc[slice(max(0, req_row-10), min(req_row, len(df2018)))][\"WDIR\"])\n",
        "    df2018.at[idx, \"WDIR\"] = newAVG\n",
        "  else:\n",
        "      pass"
      ],
      "metadata": {
        "id": "UKrULI9ox2q0"
      },
      "execution_count": null,
      "outputs": []
    },
    {
      "cell_type": "markdown",
      "source": [
        "## Dados 2019"
      ],
      "metadata": {
        "id": "_1grqJqxd-Pp"
      }
    },
    {
      "cell_type": "code",
      "source": [
        "ds2019 = pd.read_csv(\"DataSets/PIRATA/2019/DepthSalinity_2019.csv\", sep=\";\")\n",
        "dh2019 = pd.read_csv(\"DataSets/PIRATA/2019/DynamicHeight_2019.csv\", sep=\";\")\n",
        "pr2019 = pd.read_csv(\"DataSets/PIRATA/2019/Precipitation_2019.csv\", sep=\";\")\n",
        "sp2019 = pd.read_csv(\"DataSets/PIRATA/2019/SeaLevelPressure_2019.csv\", sep=\";\")\n",
        "st2019 = pd.read_csv(\"DataSets/PIRATA/2019/SeaSurfaceTemperature_2019.csv\", sep=\";\")\n",
        "wi2019 = pd.read_csv(\"DataSets/PIRATA/2019/Winds_2019.csv\", sep=\";\")"
      ],
      "metadata": {
        "id": "7yJQ8w7keE5D"
      },
      "execution_count": null,
      "outputs": []
    },
    {
      "cell_type": "code",
      "source": [
        "ds2019.rename(columns={'YYYYMMDD': 'DATE'}, inplace=True)\n",
        "ds2019['DATE'] = pd.to_datetime(ds2019[\"DATE\"], format = '%Y%m%d')\n",
        "\n",
        "dh2019.rename(columns={'YYYYMMDD': 'DATE'}, inplace=True)\n",
        "dh2019['DATE'] = pd.to_datetime(dh2019[\"DATE\"], format = '%Y%m%d')\n",
        "\n",
        "pr2019.rename(columns={'YYYYMMDD': 'DATE'}, inplace=True)\n",
        "pr2019['DATE'] = pd.to_datetime(pr2019[\"DATE\"], format = '%Y%m%d')\n",
        "\n",
        "sp2019.rename(columns={'YYYYMMDD': 'DATE'}, inplace=True)\n",
        "sp2019['DATE'] = pd.to_datetime(sp2019[\"DATE\"], format = '%Y%m%d')\n",
        "\n",
        "st2019.rename(columns={'YYYYMMDD': 'DATE'}, inplace=True)\n",
        "st2019['DATE'] = pd.to_datetime(st2019[\"DATE\"], format = '%Y%m%d')\n",
        "\n",
        "wi2019.rename(columns={'YYYYMMDD': 'DATE'}, inplace=True)\n",
        "wi2019['DATE'] = pd.to_datetime(wi2019[\"DATE\"], format = '%Y%m%d')"
      ],
      "metadata": {
        "id": "PdYnXhJNeb_7"
      },
      "execution_count": null,
      "outputs": []
    },
    {
      "cell_type": "code",
      "source": [
        "ds2019.set_index('DATE', inplace=True)\n",
        "dh2019.set_index('DATE', inplace=True)\n",
        "pr2019.set_index('DATE', inplace=True)\n",
        "sp2019.set_index('DATE', inplace=True)\n",
        "st2019.set_index('DATE', inplace=True)\n",
        "wi2019.set_index('DATE', inplace=True)"
      ],
      "metadata": {
        "id": "iegxBqJOezxj"
      },
      "execution_count": null,
      "outputs": []
    },
    {
      "cell_type": "code",
      "source": [
        "df2019 = pd.concat([ds2019,dh2019,pr2019,sp2019,st2019,wi2019], axis=1)"
      ],
      "metadata": {
        "id": "0ThMWc1Be456"
      },
      "execution_count": null,
      "outputs": []
    },
    {
      "cell_type": "code",
      "source": [
        "print(df2019.columns)"
      ],
      "metadata": {
        "id": "jZFHZeoce_pi"
      },
      "execution_count": null,
      "outputs": []
    },
    {
      "cell_type": "code",
      "source": [
        "del df2019[\"HHMM\"]\n",
        "del df2019[\"ID\"]\n",
        "del df2019[\"Q\"]\n",
        "del df2019[\"S\"]\n",
        "del df2019[\"SD\"]\n",
        "del df2019[\"SD.1\"]\n",
        "del df2019[\"UWND\"]\n",
        "del df2019[\"VWND\"]\n",
        "del df2019[\"StDev\"]\n",
        "del df2019[\"%Time\"]\n",
        "del df2019[\"SLP\"]"
      ],
      "metadata": {
        "id": "FJ8TQt-5fDTJ"
      },
      "execution_count": null,
      "outputs": []
    },
    {
      "cell_type": "code",
      "source": [
        "print(df2019.shape)\n",
        "print(df2019.dtypes)"
      ],
      "metadata": {
        "id": "9hyrPYwNfHdu"
      },
      "execution_count": null,
      "outputs": []
    },
    {
      "cell_type": "code",
      "source": [
        "print(df2019.isnull().sum())"
      ],
      "metadata": {
        "id": "VNcHGFSufK5H"
      },
      "execution_count": null,
      "outputs": []
    },
    {
      "cell_type": "markdown",
      "source": [
        "##Tratamento de dados inconsistentes"
      ],
      "metadata": {
        "id": "1NCL00XjIhxz"
      }
    },
    {
      "cell_type": "code",
      "source": [
        "#SSS\n",
        "\n",
        "#Substituo os valores inconsistentes por NA\n",
        "df2019.loc[df2019['SSS'] == -9.999,'SSS'] = pd.NA\n",
        "\n",
        "#Concateno ao array para imputação outro array com dados similares para treinamento\n",
        "X = [df2019['SSS'].values, df2018['SSS'].values]\n",
        "\n",
        "imputer = KNNImputer(n_neighbors=2, weights=\"uniform\")\n",
        "result = imputer.fit_transform(X)\n",
        "\n",
        "df2019['SSS'] = result[0]"
      ],
      "metadata": {
        "id": "4UcRxVcMmnaf"
      },
      "execution_count": null,
      "outputs": []
    },
    {
      "cell_type": "code",
      "source": [
        "#DYN\n",
        "\n",
        "#Substituo os valores inconsistentes por NA\n",
        "df2019.loc[df2019['DYN'] == -9.99,'DYN'] = pd.NA\n",
        "\n",
        "#Concateno ao array para imputação outro array com dados similares para treinamento\n",
        "X = [df2019['DYN'].values, df2018['DYN'].values]\n",
        "\n",
        "imputer = KNNImputer(n_neighbors=2, weights=\"uniform\")\n",
        "result = imputer.fit_transform(X)\n",
        "\n",
        "df2019['DYN'] = result[0]"
      ],
      "metadata": {
        "id": "BP4zzDM-x7TX"
      },
      "execution_count": null,
      "outputs": []
    },
    {
      "cell_type": "code",
      "source": [
        "#Prec\n",
        "\n",
        "#Substituo os valores inconsistentes por NA\n",
        "df2019.loc[df2019['Prec'] == -9.99,'Prec'] = pd.NA\n",
        "\n",
        "#Concateno ao array para imputação outro array com dados similares para treinamento\n",
        "X = [df2019['Prec'].values, df2018['Prec'].values]\n",
        "\n",
        "imputer = KNNImputer(n_neighbors=2, weights=\"uniform\")\n",
        "result = imputer.fit_transform(X)\n",
        "\n",
        "df2019['Prec'] = result[0]"
      ],
      "metadata": {
        "id": "q1yNGjxtx7TX"
      },
      "execution_count": null,
      "outputs": []
    },
    {
      "cell_type": "code",
      "source": [
        "#SST\n",
        "\n",
        "#Substituo os valores inconsistentes por NA\n",
        "df2019.loc[df2019['SST'] == -9.99,'SST'] = pd.NA\n",
        "\n",
        "#Concateno ao array para imputação outro array com dados similares para treinamento\n",
        "X = [df2019['SST'].values, df2018['SST'].values]\n",
        "\n",
        "imputer = KNNImputer(n_neighbors=2, weights=\"uniform\")\n",
        "result = imputer.fit_transform(X)\n",
        "\n",
        "df2019['SST'] = result[0]"
      ],
      "metadata": {
        "id": "b1yGQJpcx7TY"
      },
      "execution_count": null,
      "outputs": []
    },
    {
      "cell_type": "code",
      "source": [
        "#WSPD\n",
        "\n",
        "#Substituo os valores inconsistentes por NA\n",
        "df2019.loc[df2019['WSPD'] == -99.9,'WSPD'] = pd.NA\n",
        "\n",
        "#Concateno ao array para imputação outro array com dados similares para treinamento\n",
        "X = [df2019['WSPD'].values, df2018['WSPD'].values]\n",
        "\n",
        "imputer = KNNImputer(n_neighbors=2, weights=\"uniform\")\n",
        "result = imputer.fit_transform(X)\n",
        "\n",
        "df2019['WSPD'] = result[0]"
      ],
      "metadata": {
        "id": "0YotkVrax7TY"
      },
      "execution_count": null,
      "outputs": []
    },
    {
      "cell_type": "code",
      "source": [
        "#WDIR\n",
        "\n",
        "#Substituo os valores inconsistentes por NA\n",
        "df2019.loc[df2019['WDIR'] == -99.9,'WDIR'] = pd.NA\n",
        "\n",
        "#Concateno ao array para imputação outro array com dados similares para treinamento\n",
        "X = [df2019['WDIR'].values, df2018['WDIR'].values]\n",
        "\n",
        "imputer = KNNImputer(n_neighbors=2, weights=\"uniform\")\n",
        "result = imputer.fit_transform(X)\n",
        "\n",
        "df2019['WDIR'] = result[0]"
      ],
      "metadata": {
        "id": "omfBuvytx7TZ"
      },
      "execution_count": null,
      "outputs": []
    },
    {
      "cell_type": "markdown",
      "source": [
        "## Dados 2020"
      ],
      "metadata": {
        "id": "oMXyTDlGfXny"
      }
    },
    {
      "cell_type": "code",
      "source": [
        "ds2020 = pd.read_csv(\"DataSets/PIRATA/2020/DepthSalinity_2020.csv\", sep=\";\")\n",
        "dh2020 = pd.read_csv(\"DataSets/PIRATA/2020/DynamicHeight_2020.csv\", sep=\";\")\n",
        "pr2020 = pd.read_csv(\"DataSets/PIRATA/2020/Precipitation_2020.csv\", sep=\";\")\n",
        "sp2020 = pd.read_csv(\"DataSets/PIRATA/2020/SeaLevelPressure_2020.csv\", sep=\";\")\n",
        "st2020 = pd.read_csv(\"DataSets/PIRATA/2020/SeaSurfaceTemperature_2020.csv\", sep=\";\")\n",
        "wi2020 = pd.read_csv(\"DataSets/PIRATA/2020/Winds_2020.csv\", sep=\";\")"
      ],
      "metadata": {
        "id": "GPf0-bLUfddF"
      },
      "execution_count": null,
      "outputs": []
    },
    {
      "cell_type": "code",
      "source": [
        "ds2020.rename(columns={'YYYYMMDD': 'DATE'}, inplace=True)\n",
        "ds2020['DATE'] = pd.to_datetime(ds2020[\"DATE\"], format = '%Y%m%d')\n",
        "\n",
        "dh2020.rename(columns={'YYYYMMDD': 'DATE'}, inplace=True)\n",
        "dh2020['DATE'] = pd.to_datetime(dh2020[\"DATE\"], format = '%Y%m%d')\n",
        "\n",
        "pr2020.rename(columns={'YYYYMMDD': 'DATE'}, inplace=True)\n",
        "pr2020['DATE'] = pd.to_datetime(pr2020[\"DATE\"], format = '%Y%m%d')\n",
        "\n",
        "sp2020.rename(columns={'YYYYMMDD': 'DATE'}, inplace=True)\n",
        "sp2020['DATE'] = pd.to_datetime(sp2020[\"DATE\"], format = '%Y%m%d')\n",
        "\n",
        "st2020.rename(columns={'YYYYMMDD': 'DATE'}, inplace=True)\n",
        "st2020['DATE'] = pd.to_datetime(st2020[\"DATE\"], format = '%Y%m%d')\n",
        "\n",
        "wi2020.rename(columns={'YYYYMMDD': 'DATE'}, inplace=True)\n",
        "wi2020['DATE'] = pd.to_datetime(wi2020[\"DATE\"], format = '%Y%m%d')"
      ],
      "metadata": {
        "id": "nmHWxKPDfqd6"
      },
      "execution_count": null,
      "outputs": []
    },
    {
      "cell_type": "code",
      "source": [
        "ds2020.set_index('DATE', inplace=True)\n",
        "dh2020.set_index('DATE', inplace=True)\n",
        "pr2020.set_index('DATE', inplace=True)\n",
        "sp2020.set_index('DATE', inplace=True)\n",
        "st2020.set_index('DATE', inplace=True)\n",
        "wi2020.set_index('DATE', inplace=True)"
      ],
      "metadata": {
        "id": "uEmc5kLOf8Kd"
      },
      "execution_count": null,
      "outputs": []
    },
    {
      "cell_type": "code",
      "source": [
        "df2020 = pd.concat([ds2020,dh2020,pr2020,sp2020,st2020,wi2020], axis=1)"
      ],
      "metadata": {
        "id": "mq1KXfqogETz"
      },
      "execution_count": null,
      "outputs": []
    },
    {
      "cell_type": "code",
      "source": [
        "print(df2020.columns)"
      ],
      "metadata": {
        "id": "LPumFc6rgHr7",
        "colab": {
          "base_uri": "https://localhost:8080/"
        },
        "outputId": "e286a94d-1bbd-4f92-8866-b8330f6ff2f7"
      },
      "execution_count": null,
      "outputs": [
        {
          "output_type": "stream",
          "name": "stdout",
          "text": [
            "Index(['HHMM', 'SSS', 'ID', 'Q', 'S', 'HHMM', 'DYN', 'Q', 'HHMM', 'Prec',\n",
            "       'StDev', '%Time', 'Q', 'S', 'HHMM', 'SLP', 'Q', 'S', 'HHMM', 'SST', 'Q',\n",
            "       'S', 'HHMM', 'UWND', 'VWND', 'WSPD', 'WDIR', 'SD', 'SD.1'],\n",
            "      dtype='object')\n"
          ]
        }
      ]
    },
    {
      "cell_type": "code",
      "source": [
        "del df2020[\"HHMM\"]\n",
        "del df2020[\"ID\"]\n",
        "del df2020[\"Q\"]\n",
        "del df2020[\"S\"]\n",
        "del df2020[\"SD\"]\n",
        "del df2020[\"SD.1\"]\n",
        "del df2020[\"UWND\"]\n",
        "del df2020[\"VWND\"]\n",
        "del df2020[\"StDev\"]\n",
        "del df2020[\"%Time\"]\n",
        "del df2020[\"SLP\"]"
      ],
      "metadata": {
        "id": "V5K0Z857gLQm"
      },
      "execution_count": null,
      "outputs": []
    },
    {
      "cell_type": "code",
      "source": [
        "print(df2020.shape)\n",
        "print(df2020.dtypes)"
      ],
      "metadata": {
        "id": "7eP7DapggOag",
        "colab": {
          "base_uri": "https://localhost:8080/"
        },
        "outputId": "7f35e44e-5793-475e-8ca7-206fc18fcb15"
      },
      "execution_count": null,
      "outputs": [
        {
          "output_type": "stream",
          "name": "stdout",
          "text": [
            "(366, 6)\n",
            "SSS     float64\n",
            "DYN     float64\n",
            "Prec    float64\n",
            "SST     float64\n",
            "WSPD    float64\n",
            "WDIR    float64\n",
            "dtype: object\n"
          ]
        }
      ]
    },
    {
      "cell_type": "code",
      "source": [
        "print(df2020.isnull().sum())"
      ],
      "metadata": {
        "id": "CQk869y-gTdi",
        "colab": {
          "base_uri": "https://localhost:8080/"
        },
        "outputId": "19f35ea1-2781-4a34-b6d5-f1a187e56904"
      },
      "execution_count": null,
      "outputs": [
        {
          "output_type": "stream",
          "name": "stdout",
          "text": [
            "SSS     0\n",
            "DYN     0\n",
            "Prec    0\n",
            "SST     0\n",
            "WSPD    0\n",
            "WDIR    0\n",
            "dtype: int64\n"
          ]
        }
      ]
    },
    {
      "cell_type": "code",
      "source": [],
      "metadata": {
        "id": "DAK6xB1kx9Zf"
      },
      "execution_count": null,
      "outputs": []
    },
    {
      "cell_type": "markdown",
      "source": [
        "##Tratamento de dados inconsistentes\n",
        "- Considerar dia a mais do ano bissexto (2020)"
      ],
      "metadata": {
        "id": "sNzklFD_KnMv"
      }
    },
    {
      "cell_type": "code",
      "source": [
        "#Tratamento do dataframe de apoio ao KNNImputer para incluir o ano bissexto\n",
        "#add uma row no DF de treinamento do ano anterior para compensar os 29 dias de FEV do DF do ano atual\n",
        "df2019_ToLeapYear = df2019.copy()\n",
        "\n",
        "new_row = {'DATE': pd.to_datetime('20190229', format = '%Y%m%d', errors='coerce'), 'SSS':'37.208', 'DYN':'98.63', 'Prec':'0.0', 'SST':'26.61','WSPD':'3.4','WDIR':'199.1'}\n",
        "df2019_ToLeapYear = df2019_ToLeapYear.append(new_row, ignore_index=True)\n"
      ],
      "metadata": {
        "colab": {
          "base_uri": "https://localhost:8080/"
        },
        "id": "DV8IAJg_SWb-",
        "outputId": "043ec5a9-aa8b-43f1-c153-ecf8693abae3"
      },
      "execution_count": null,
      "outputs": [
        {
          "output_type": "stream",
          "name": "stderr",
          "text": [
            "<ipython-input-535-ee970e136642>:7: FutureWarning: The frame.append method is deprecated and will be removed from pandas in a future version. Use pandas.concat instead.\n",
            "  df2019_ToLeapYear = df2019_ToLeapYear.append(new_row, ignore_index=True)\n"
          ]
        }
      ]
    },
    {
      "cell_type": "code",
      "source": [
        "#SSS\n",
        "\n",
        "#Substituo os valores inconsistentes por NA\n",
        "df2020.loc[df2020['SSS'] == -9.999,'SSS'] = pd.NA\n",
        "\n",
        "#Concateno ao array para imputação outro array com dados similares para treinamento\n",
        "X = [df2020['SSS'].values, df2019_ToLeapYear['SSS'].values]\n",
        "\n",
        "imputer = KNNImputer(n_neighbors=2, weights=\"uniform\")\n",
        "result = imputer.fit_transform(X)\n",
        "\n",
        "df2020['SSS'] = result[0]"
      ],
      "metadata": {
        "id": "2JZ6HUYUx9uk"
      },
      "execution_count": null,
      "outputs": []
    },
    {
      "cell_type": "code",
      "source": [
        "#DYN\n",
        "\n",
        "#Substituo os valores inconsistentes por NA\n",
        "df2020.loc[df2020['DYN'] == -9.99,'DYN'] = pd.NA\n",
        "\n",
        "#Concateno ao array para imputação outro array com dados similares para treinamento\n",
        "X = [df2020['DYN'].values, df2019_ToLeapYear['DYN'].values]\n",
        "\n",
        "imputer = KNNImputer(n_neighbors=2, weights=\"uniform\")\n",
        "result = imputer.fit_transform(X)\n",
        "\n",
        "df2020['DYN'] = result[0]"
      ],
      "metadata": {
        "id": "AFtZ0mRmx9ul"
      },
      "execution_count": null,
      "outputs": []
    },
    {
      "cell_type": "code",
      "source": [
        "#Prec\n",
        "\n",
        "#Substituo os valores inconsistentes por NA\n",
        "df2020.loc[df2020['Prec'] == -9.99,'Prec'] = pd.NA\n",
        "\n",
        "#Concateno ao array para imputação outro array com dados similares para treinamento\n",
        "X = [df2020['Prec'].values, df2019_ToLeapYear['Prec'].values]\n",
        "\n",
        "imputer = KNNImputer(n_neighbors=2, weights=\"uniform\")\n",
        "result = imputer.fit_transform(X)\n",
        "\n",
        "df2020['Prec'] = result[0]"
      ],
      "metadata": {
        "id": "I5oJkw9Xx9ul"
      },
      "execution_count": null,
      "outputs": []
    },
    {
      "cell_type": "code",
      "source": [
        "#SST\n",
        "\n",
        "#Substituo os valores inconsistentes por NA\n",
        "df2020.loc[df2020['SST'] == -9.99,'SST'] = pd.NA\n",
        "\n",
        "#Concateno ao array para imputação outro array com dados similares para treinamento\n",
        "X = [df2020['SST'].values, df2019_ToLeapYear['SST'].values]\n",
        "\n",
        "imputer = KNNImputer(n_neighbors=2, weights=\"uniform\")\n",
        "result = imputer.fit_transform(X)\n",
        "\n",
        "df2020['SST'] = result[0]"
      ],
      "metadata": {
        "id": "FfwPgJz1x9um"
      },
      "execution_count": null,
      "outputs": []
    },
    {
      "cell_type": "code",
      "source": [
        "#WSPD\n",
        "\n",
        "#Substituo os valores inconsistentes por NA\n",
        "df2020.loc[df2020['WSPD'] == -99.9,'WSPD'] = pd.NA\n",
        "\n",
        "#Concateno ao array para imputação outro array com dados similares para treinamento\n",
        "X = [df2020['WSPD'].values, df2019_ToLeapYear['WSPD'].values]\n",
        "\n",
        "imputer = KNNImputer(n_neighbors=2, weights=\"uniform\")\n",
        "result = imputer.fit_transform(X)\n",
        "\n",
        "df2020['WSPD'] = result[0]"
      ],
      "metadata": {
        "id": "I_LuHhGBx9um"
      },
      "execution_count": null,
      "outputs": []
    },
    {
      "cell_type": "code",
      "source": [
        "#WDIR\n",
        "\n",
        "#Substituo os valores inconsistentes por NA\n",
        "df2020.loc[df2020['WDIR'] == -99.9,'WDIR'] = pd.NA\n",
        "\n",
        "#Concateno ao array para imputação outro array com dados similares para treinamento\n",
        "X = [df2020['WDIR'].values, df2019_ToLeapYear['WDIR'].values]\n",
        "\n",
        "imputer = KNNImputer(n_neighbors=2, weights=\"uniform\")\n",
        "result = imputer.fit_transform(X)\n",
        "\n",
        "df2020['WDIR'] = result[0]"
      ],
      "metadata": {
        "id": "wqQvAs7Vx9un"
      },
      "execution_count": null,
      "outputs": []
    },
    {
      "cell_type": "markdown",
      "source": [
        "## Dados 2021"
      ],
      "metadata": {
        "id": "pSi8zThHgpFV"
      }
    },
    {
      "cell_type": "code",
      "source": [
        "ds2021 = pd.read_csv(\"DataSets/PIRATA/2021/DepthSalinity_2021.csv\", sep=\";\")\n",
        "dh2021 = pd.read_csv(\"DataSets/PIRATA/2021/DynamicHeight_2021.csv\", sep=\";\")\n",
        "pr2021 = pd.read_csv(\"DataSets/PIRATA/2021/Precipitation_2021.csv\", sep=\";\")\n",
        "sp2021 = pd.read_csv(\"DataSets/PIRATA/2021/SeaLevelPressure_2021.csv\", sep=\";\")\n",
        "st2021 = pd.read_csv(\"DataSets/PIRATA/2021/SeaSurfaceTemperature_2021.csv\", sep=\";\")\n",
        "wi2021 = pd.read_csv(\"DataSets/PIRATA/2021/Winds_2021.csv\", sep=\";\")"
      ],
      "metadata": {
        "id": "yq10kgJsgy-w"
      },
      "execution_count": null,
      "outputs": []
    },
    {
      "cell_type": "code",
      "source": [
        "ds2021.rename(columns={'YYYYMMDD': 'DATE'}, inplace=True)\n",
        "ds2021['DATE'] = pd.to_datetime(ds2021[\"DATE\"], format = '%Y%m%d')\n",
        "\n",
        "dh2021.rename(columns={'YYYYMMDD': 'DATE'}, inplace=True)\n",
        "dh2021['DATE'] = pd.to_datetime(dh2021[\"DATE\"], format = '%Y%m%d')\n",
        "\n",
        "pr2021.rename(columns={'YYYYMMDD': 'DATE'}, inplace=True)\n",
        "pr2021['DATE'] = pd.to_datetime(pr2021[\"DATE\"], format = '%Y%m%d')\n",
        "\n",
        "sp2021.rename(columns={'YYYYMMDD': 'DATE'}, inplace=True)\n",
        "sp2021['DATE'] = pd.to_datetime(sp2021[\"DATE\"], format = '%Y%m%d')\n",
        "\n",
        "st2021.rename(columns={'YYYYMMDD': 'DATE'}, inplace=True)\n",
        "st2021['DATE'] = pd.to_datetime(st2021[\"DATE\"], format = '%Y%m%d')\n",
        "\n",
        "wi2021.rename(columns={'YYYYMMDD': 'DATE'}, inplace=True)\n",
        "wi2021['DATE'] = pd.to_datetime(wi2021[\"DATE\"], format = '%Y%m%d')"
      ],
      "metadata": {
        "id": "_Pa_D_P9g6_T"
      },
      "execution_count": null,
      "outputs": []
    },
    {
      "cell_type": "code",
      "source": [
        "ds2021.set_index('DATE', inplace=True)\n",
        "dh2021.set_index('DATE', inplace=True)\n",
        "pr2021.set_index('DATE', inplace=True)\n",
        "sp2021.set_index('DATE', inplace=True)\n",
        "st2021.set_index('DATE', inplace=True)\n",
        "wi2021.set_index('DATE', inplace=True)"
      ],
      "metadata": {
        "id": "JA4F5-tDhGs1"
      },
      "execution_count": null,
      "outputs": []
    },
    {
      "cell_type": "code",
      "source": [
        "df2021 = pd.concat([ds2021,dh2021,pr2021,sp2021,st2021,wi2021], axis=1)"
      ],
      "metadata": {
        "id": "ya1vrylXhJx5"
      },
      "execution_count": null,
      "outputs": []
    },
    {
      "cell_type": "code",
      "source": [
        "print(df2021.columns)"
      ],
      "metadata": {
        "id": "jP3yDe_ChMfZ",
        "colab": {
          "base_uri": "https://localhost:8080/"
        },
        "outputId": "4e54e3d7-181e-4e80-c3f8-d2f0d437bc3a"
      },
      "execution_count": null,
      "outputs": [
        {
          "output_type": "stream",
          "name": "stdout",
          "text": [
            "Index(['HHMM', 'SSS', 'ID', 'Q', 'S', 'HHMM', 'DYN', 'Q', 'HHMM', 'Prec',\n",
            "       'StDev', '%Time', 'Q', 'S', 'HHMM', 'SLP', 'Q', 'S', 'HHMM', 'SST', 'Q',\n",
            "       'S', 'HHMM', 'UWND', 'VWND', 'WSPD', 'WDIR', 'SD', 'SD.1'],\n",
            "      dtype='object')\n"
          ]
        }
      ]
    },
    {
      "cell_type": "code",
      "source": [
        "del df2021[\"HHMM\"]\n",
        "del df2021[\"ID\"]\n",
        "del df2021[\"Q\"]\n",
        "del df2021[\"S\"]\n",
        "del df2021[\"SD\"]\n",
        "del df2021[\"SD.1\"]\n",
        "del df2021[\"UWND\"]\n",
        "del df2021[\"VWND\"]\n",
        "del df2021[\"StDev\"]\n",
        "del df2021[\"%Time\"]\n",
        "del df2021[\"SLP\"]\n",
        "\n",
        "\n",
        "print(df2021.shape)\n",
        "print(df2021.dtypes)"
      ],
      "metadata": {
        "id": "ANym_9yHhO_X",
        "colab": {
          "base_uri": "https://localhost:8080/"
        },
        "outputId": "daf44955-d4d0-4aec-b6a3-3c5b23b1e0bc"
      },
      "execution_count": null,
      "outputs": [
        {
          "output_type": "stream",
          "name": "stdout",
          "text": [
            "(365, 6)\n",
            "SSS     float64\n",
            "DYN     float64\n",
            "Prec    float64\n",
            "SST     float64\n",
            "WSPD    float64\n",
            "WDIR    float64\n",
            "dtype: object\n"
          ]
        }
      ]
    },
    {
      "cell_type": "code",
      "source": [
        "print(df2021.isnull().sum())"
      ],
      "metadata": {
        "id": "lo_U0-7ahShj",
        "colab": {
          "base_uri": "https://localhost:8080/"
        },
        "outputId": "fa0e4c07-27a0-4228-d782-0f5a3493cce1"
      },
      "execution_count": null,
      "outputs": [
        {
          "output_type": "stream",
          "name": "stdout",
          "text": [
            "SSS     0\n",
            "DYN     0\n",
            "Prec    0\n",
            "SST     0\n",
            "WSPD    0\n",
            "WDIR    0\n",
            "dtype: int64\n"
          ]
        }
      ]
    },
    {
      "cell_type": "code",
      "source": [
        "#SSS\n",
        "\n",
        "#Substituo os valores inconsistentes por NA\n",
        "df2021.loc[df2021['SSS'] == -9.999,'SSS'] = pd.NA\n",
        "\n",
        "#Concateno ao array para imputação outro array com dados similares para treinamento\n",
        "X = [df2021['SSS'].values, df2019['SSS'].values]\n",
        "\n",
        "imputer = KNNImputer(n_neighbors=2, weights=\"uniform\")\n",
        "result = imputer.fit_transform(X)\n",
        "\n",
        "df2021['SSS'] = result[0]"
      ],
      "metadata": {
        "id": "kxCSGsRNx_zo"
      },
      "execution_count": null,
      "outputs": []
    },
    {
      "cell_type": "code",
      "source": [
        "df2019.shape"
      ],
      "metadata": {
        "colab": {
          "base_uri": "https://localhost:8080/"
        },
        "id": "K-rbQvd0UgMU",
        "outputId": "65c7be9a-99d1-474e-c0bd-b697b432605e"
      },
      "execution_count": null,
      "outputs": [
        {
          "output_type": "execute_result",
          "data": {
            "text/plain": [
              "(365, 6)"
            ]
          },
          "metadata": {},
          "execution_count": 551
        }
      ]
    },
    {
      "cell_type": "code",
      "source": [
        "#DYN\n",
        "\n",
        "#Substituo os valores inconsistentes por NA\n",
        "df2021.loc[df2021['DYN'] == -9.99,'DYN'] = pd.NA\n",
        "\n",
        "#Concateno ao array para imputação outro array com dados similares para treinamento\n",
        "X = [df2021['DYN'].values, df2019['DYN'].values]\n",
        "\n",
        "imputer = KNNImputer(n_neighbors=2, weights=\"uniform\")\n",
        "result = imputer.fit_transform(X)\n",
        "\n",
        "df2021['DYN'] = result[0]"
      ],
      "metadata": {
        "id": "GRoT80Axx_zo"
      },
      "execution_count": null,
      "outputs": []
    },
    {
      "cell_type": "code",
      "source": [
        "#Prec\n",
        "\n",
        "#Substituo os valores inconsistentes por NA\n",
        "df2021.loc[df2021['Prec'] == -9.99,'Prec'] = pd.NA\n",
        "\n",
        "#Concateno ao array para imputação outro array com dados similares para treinamento\n",
        "X = [df2021['Prec'].values, df2019['Prec'].values]\n",
        "\n",
        "imputer = KNNImputer(n_neighbors=2, weights=\"uniform\")\n",
        "result = imputer.fit_transform(X)\n",
        "\n",
        "df2021['Prec'] = result[0]"
      ],
      "metadata": {
        "id": "uFLKacg9x_zo"
      },
      "execution_count": null,
      "outputs": []
    },
    {
      "cell_type": "code",
      "source": [
        "#SST\n",
        "\n",
        "#Substituo os valores inconsistentes por NA\n",
        "df2021.loc[df2021['SST'] == -9.99,'SST'] = pd.NA\n",
        "\n",
        "#Concateno ao array para imputação outro array com dados similares para treinamento\n",
        "X = [df2021['SST'].values, df2019['SST'].values]\n",
        "\n",
        "imputer = KNNImputer(n_neighbors=2, weights=\"uniform\")\n",
        "result = imputer.fit_transform(X)\n",
        "\n",
        "df2021['SST'] = result[0]"
      ],
      "metadata": {
        "id": "OOKE_3tNx_zp"
      },
      "execution_count": null,
      "outputs": []
    },
    {
      "cell_type": "code",
      "source": [
        "#WSPD\n",
        "\n",
        "#Substituo os valores inconsistentes por NA\n",
        "df2021.loc[df2021['WSPD'] == -99.9,'WSPD'] = pd.NA\n",
        "\n",
        "#Concateno ao array para imputação outro array com dados similares para treinamento\n",
        "X = [df2021['WSPD'].values, df2019['WSPD'].values]\n",
        "\n",
        "imputer = KNNImputer(n_neighbors=2, weights=\"uniform\")\n",
        "result = imputer.fit_transform(X)\n",
        "\n",
        "df2021['WSPD'] = result[0]"
      ],
      "metadata": {
        "id": "ASsGuBFsx_zp"
      },
      "execution_count": null,
      "outputs": []
    },
    {
      "cell_type": "code",
      "source": [
        "#WDIR\n",
        "\n",
        "#Substituo os valores inconsistentes por NA\n",
        "df2021.loc[df2021['WDIR'] == -99.9,'WDIR'] = pd.NA\n",
        "\n",
        "#Concateno ao array para imputação outro array com dados similares para treinamento\n",
        "X = [df2021['WDIR'].values, df2019['WDIR'].values]\n",
        "\n",
        "imputer = KNNImputer(n_neighbors=2, weights=\"uniform\")\n",
        "result = imputer.fit_transform(X)\n",
        "\n",
        "df2021['WDIR'] = result[0]"
      ],
      "metadata": {
        "id": "F36pZVMtx_zp"
      },
      "execution_count": null,
      "outputs": []
    },
    {
      "cell_type": "markdown",
      "source": [
        "## Dados 2022"
      ],
      "metadata": {
        "id": "0NlpQqu-hwB1"
      }
    },
    {
      "cell_type": "code",
      "source": [
        "ds2022 = pd.read_csv(\"DataSets/PIRATA/2022/DepthSalinity_2022.csv\", sep=\";\")\n",
        "dh2022 = pd.read_csv(\"DataSets/PIRATA/2022/DynamicHeight_2022.csv\", sep=\";\")\n",
        "pr2022 = pd.read_csv(\"DataSets/PIRATA/2022/Precipitation_2022.csv\", sep=\";\")\n",
        "sp2022 = pd.read_csv(\"DataSets/PIRATA/2022/SeaLevelPressure_2022.csv\", sep=\";\")\n",
        "st2022 = pd.read_csv(\"DataSets/PIRATA/2022/SeaSurfaceTemperature_2022.csv\", sep=\";\")\n",
        "wi2022 = pd.read_csv(\"DataSets/PIRATA/2022/Winds_2022.csv\", sep=\";\")"
      ],
      "metadata": {
        "id": "e9r-2Ky0h82t"
      },
      "execution_count": null,
      "outputs": []
    },
    {
      "cell_type": "code",
      "source": [
        "ds2022.rename(columns={'YYYYMMDD': 'DATE'}, inplace=True)\n",
        "ds2022['DATE'] = pd.to_datetime(ds2022[\"DATE\"], format = '%Y%m%d')\n",
        "\n",
        "dh2022.rename(columns={'YYYYMMDD': 'DATE'}, inplace=True)\n",
        "dh2022['DATE'] = pd.to_datetime(dh2022[\"DATE\"], format = '%Y%m%d')\n",
        "\n",
        "pr2022.rename(columns={'YYYYMMDD': 'DATE'}, inplace=True)\n",
        "pr2022['DATE'] = pd.to_datetime(pr2022[\"DATE\"], format = '%Y%m%d')\n",
        "\n",
        "sp2022.rename(columns={'YYYYMMDD': 'DATE'}, inplace=True)\n",
        "sp2022['DATE'] = pd.to_datetime(sp2022[\"DATE\"], format = '%Y%m%d')\n",
        "\n",
        "st2022.rename(columns={'YYYYMMDD': 'DATE'}, inplace=True)\n",
        "st2022['DATE'] = pd.to_datetime(st2022[\"DATE\"], format = '%Y%m%d')\n",
        "\n",
        "wi2022.rename(columns={'YYYYMMDD': 'DATE'}, inplace=True)\n",
        "wi2022['DATE'] = pd.to_datetime(wi2022[\"DATE\"], format = '%Y%m%d')"
      ],
      "metadata": {
        "id": "pWhbaTJniH7Y"
      },
      "execution_count": null,
      "outputs": []
    },
    {
      "cell_type": "code",
      "source": [
        "ds2022.set_index('DATE', inplace=True)\n",
        "dh2022.set_index('DATE', inplace=True)\n",
        "pr2022.set_index('DATE', inplace=True)\n",
        "sp2022.set_index('DATE', inplace=True)\n",
        "st2022.set_index('DATE', inplace=True)\n",
        "wi2022.set_index('DATE', inplace=True)"
      ],
      "metadata": {
        "id": "odSU8JoZiUGm"
      },
      "execution_count": null,
      "outputs": []
    },
    {
      "cell_type": "code",
      "source": [
        "df2022 = pd.concat([ds2022,dh2022,pr2022,sp2022,st2022,wi2022], axis=1)"
      ],
      "metadata": {
        "id": "f7cv4rdziXUV"
      },
      "execution_count": null,
      "outputs": []
    },
    {
      "cell_type": "code",
      "source": [
        "print(df2022.columns)"
      ],
      "metadata": {
        "id": "_vSeXXp-iZ0F",
        "colab": {
          "base_uri": "https://localhost:8080/"
        },
        "outputId": "5ee8ca74-cde1-4ee0-de0b-7e416a0158ba"
      },
      "execution_count": null,
      "outputs": [
        {
          "output_type": "stream",
          "name": "stdout",
          "text": [
            "Index(['HHMM', 'SSS', 'ID', 'Q', 'S', 'HHMM', 'DYN', 'Q', 'HHMM', 'Prec',\n",
            "       'StDev', '%Time', 'Q', 'S', 'HHMM', 'SLP', 'Q', 'S', 'HHMM', 'SST', 'Q',\n",
            "       'S', 'HHMM', 'UWND', 'VWND', 'WSPD', 'WDIR', 'SD', 'SD.1'],\n",
            "      dtype='object')\n"
          ]
        }
      ]
    },
    {
      "cell_type": "code",
      "source": [
        "del df2022[\"HHMM\"]\n",
        "del df2022[\"ID\"]\n",
        "del df2022[\"Q\"]\n",
        "del df2022[\"S\"]\n",
        "del df2022[\"SD\"]\n",
        "del df2022[\"SD.1\"]\n",
        "del df2022[\"UWND\"]\n",
        "del df2022[\"VWND\"]\n",
        "del df2022[\"StDev\"]\n",
        "del df2022[\"%Time\"]\n",
        "del df2022[\"SLP\"]\n",
        "\n",
        "print(df2022.shape)\n",
        "print(df2022.dtypes)"
      ],
      "metadata": {
        "id": "mHhcmRqkiclj",
        "colab": {
          "base_uri": "https://localhost:8080/"
        },
        "outputId": "a195a2b1-f60a-4ba2-daef-393f4d70e27c"
      },
      "execution_count": null,
      "outputs": [
        {
          "output_type": "stream",
          "name": "stdout",
          "text": [
            "(365, 6)\n",
            "SSS     float64\n",
            "DYN     float64\n",
            "Prec    float64\n",
            "SST     float64\n",
            "WSPD    float64\n",
            "WDIR    float64\n",
            "dtype: object\n"
          ]
        }
      ]
    },
    {
      "cell_type": "code",
      "source": [
        "print(df2022.isnull().sum())"
      ],
      "metadata": {
        "id": "xaShlFMUifXe",
        "colab": {
          "base_uri": "https://localhost:8080/"
        },
        "outputId": "57065f9b-e0ca-4466-b0da-8f1fc8cf117b"
      },
      "execution_count": null,
      "outputs": [
        {
          "output_type": "stream",
          "name": "stdout",
          "text": [
            "SSS     0\n",
            "DYN     0\n",
            "Prec    0\n",
            "SST     0\n",
            "WSPD    0\n",
            "WDIR    0\n",
            "dtype: int64\n"
          ]
        }
      ]
    },
    {
      "cell_type": "markdown",
      "source": [
        "##Tratamento de dados inconsistentes"
      ],
      "metadata": {
        "id": "k2fBuUHFOHbz"
      }
    },
    {
      "cell_type": "code",
      "source": [
        "#SSS\n",
        "\n",
        "#Substituo os valores inconsistentes por NA\n",
        "df2022.loc[df2022['SSS'] == -9.999,'SSS'] = pd.NA\n",
        "\n",
        "#Concateno ao array para imputação outro array com dados similares para treinamento\n",
        "X = [df2022['SSS'].values, df2021['SSS'].values]\n",
        "\n",
        "imputer = KNNImputer(n_neighbors=2, weights=\"uniform\")\n",
        "result = imputer.fit_transform(X)\n",
        "\n",
        "df2022['SSS'] = result[0]"
      ],
      "metadata": {
        "id": "CCatcFupyB35"
      },
      "execution_count": null,
      "outputs": []
    },
    {
      "cell_type": "code",
      "source": [
        "#DYN\n",
        "\n",
        "#Substituo os valores inconsistentes por NA\n",
        "df2022.loc[df2022['DYN'] == -9.99,'DYN'] = pd.NA\n",
        "\n",
        "#Concateno ao array para imputação outro array com dados similares para treinamento\n",
        "X = [df2022['DYN'].values, df2021['DYN'].values]\n",
        "\n",
        "imputer = KNNImputer(n_neighbors=2, weights=\"uniform\")\n",
        "result = imputer.fit_transform(X)\n",
        "\n",
        "df2022['DYN'] = result[0]"
      ],
      "metadata": {
        "id": "jEAj96UByB36"
      },
      "execution_count": null,
      "outputs": []
    },
    {
      "cell_type": "code",
      "source": [
        "#Prec\n",
        "\n",
        "#Substituo os valores inconsistentes por NA\n",
        "df2022.loc[df2022['Prec'] == -9.99,'Prec'] = pd.NA\n",
        "\n",
        "#Concateno ao array para imputação outro array com dados similares para treinamento\n",
        "X = [df2022['Prec'].values, df2021['Prec'].values]\n",
        "\n",
        "imputer = KNNImputer(n_neighbors=2, weights=\"uniform\")\n",
        "result = imputer.fit_transform(X)\n",
        "\n",
        "df2022['Prec'] = result[0]"
      ],
      "metadata": {
        "id": "ClNTF36byB37"
      },
      "execution_count": null,
      "outputs": []
    },
    {
      "cell_type": "code",
      "source": [
        "#SST\n",
        "\n",
        "#Substituo os valores inconsistentes por NA\n",
        "df2022.loc[df2022['SST'] == -9.99,'SST'] = pd.NA\n",
        "\n",
        "#Concateno ao array para imputação outro array com dados similares para treinamento\n",
        "X = [df2022['SST'].values, df2021['SST'].values]\n",
        "\n",
        "imputer = KNNImputer(n_neighbors=2, weights=\"uniform\")\n",
        "result = imputer.fit_transform(X)\n",
        "\n",
        "df2022['SST'] = result[0]"
      ],
      "metadata": {
        "id": "74QjfK9DyB37"
      },
      "execution_count": null,
      "outputs": []
    },
    {
      "cell_type": "code",
      "source": [
        "#WSPD\n",
        "\n",
        "#Substituo os valores inconsistentes por NA\n",
        "df2022.loc[df2022['WSPD'] == -99.9,'WSPD'] = pd.NA\n",
        "\n",
        "#Concateno ao array para imputação outro array com dados similares para treinamento\n",
        "X = [df2022['WSPD'].values, df2021['WSPD'].values]\n",
        "\n",
        "imputer = KNNImputer(n_neighbors=2, weights=\"uniform\")\n",
        "result = imputer.fit_transform(X)\n",
        "\n",
        "df2022['WSPD'] = result[0]"
      ],
      "metadata": {
        "id": "d6iJP4uRyB38"
      },
      "execution_count": null,
      "outputs": []
    },
    {
      "cell_type": "code",
      "source": [
        "#WDIR\n",
        "\n",
        "#Substituo os valores inconsistentes por NA\n",
        "df2022.loc[df2022['WDIR'] == -99.9,'WDIR'] = pd.NA\n",
        "\n",
        "#Concateno ao array para imputação outro array com dados similares para treinamento\n",
        "X = [df2022['WDIR'].values, df2021['WDIR'].values]\n",
        "\n",
        "imputer = KNNImputer(n_neighbors=2, weights=\"uniform\")\n",
        "result = imputer.fit_transform(X)\n",
        "\n",
        "df2022['WDIR'] = result[0]"
      ],
      "metadata": {
        "id": "ZKe35FP3yB38"
      },
      "execution_count": null,
      "outputs": []
    },
    {
      "cell_type": "markdown",
      "source": [
        "## Concatenação PIRATA"
      ],
      "metadata": {
        "id": "myc-nT6givr6"
      }
    },
    {
      "cell_type": "code",
      "source": [
        "print(\"2018:\",df2018.shape)\n",
        "print(\"2019:\",df2019.shape)\n",
        "print(\"2020:\",df2020.shape)\n",
        "print(\"2021:\",df2021.shape)\n",
        "print(\"2022:\",df2022.shape)"
      ],
      "metadata": {
        "id": "fk1a1iY4izCb",
        "colab": {
          "base_uri": "https://localhost:8080/"
        },
        "outputId": "ad14aea7-52cb-4e32-9746-0d64bed06ebc"
      },
      "execution_count": null,
      "outputs": [
        {
          "output_type": "stream",
          "name": "stdout",
          "text": [
            "2018: (365, 6)\n",
            "2019: (365, 6)\n",
            "2020: (366, 6)\n",
            "2021: (365, 6)\n",
            "2022: (365, 6)\n"
          ]
        }
      ]
    },
    {
      "cell_type": "code",
      "source": [
        "pirataFULL = pd.concat([df2018, df2019, df2020, df2021, df2022])"
      ],
      "metadata": {
        "id": "h_UkIqJbjAhv"
      },
      "execution_count": null,
      "outputs": []
    },
    {
      "cell_type": "code",
      "source": [
        "print(pirataFULL.shape)\n",
        "print( pirataFULL.columns)"
      ],
      "metadata": {
        "id": "j0vR-E8IjPCu",
        "colab": {
          "base_uri": "https://localhost:8080/"
        },
        "outputId": "5ac24a90-72fb-4273-cbc4-cb8e40e84d68"
      },
      "execution_count": null,
      "outputs": [
        {
          "output_type": "stream",
          "name": "stdout",
          "text": [
            "(1826, 6)\n",
            "Index(['SSS', 'DYN', 'Prec', 'SST', 'WSPD', 'WDIR'], dtype='object')\n"
          ]
        }
      ]
    },
    {
      "cell_type": "code",
      "source": [
        "print(pirataFULL.isnull().sum())"
      ],
      "metadata": {
        "id": "rk530SzQjdwA",
        "colab": {
          "base_uri": "https://localhost:8080/"
        },
        "outputId": "7ec62394-5629-4140-9971-3fabceb25249"
      },
      "execution_count": null,
      "outputs": [
        {
          "output_type": "stream",
          "name": "stdout",
          "text": [
            "SSS     0\n",
            "DYN     0\n",
            "Prec    0\n",
            "SST     0\n",
            "WSPD    0\n",
            "WDIR    0\n",
            "dtype: int64\n"
          ]
        }
      ]
    },
    {
      "cell_type": "markdown",
      "source": [
        "#Ajuste de valores inconsistentes\n",
        "Substituição por um valor médio ou mediano"
      ],
      "metadata": {
        "id": "V83q8TU8rwFV"
      }
    },
    {
      "cell_type": "code",
      "source": [
        "print(\"\\n\", pirataFULL.describe(), sep='\\n')"
      ],
      "metadata": {
        "id": "Og7kRJyonQZB",
        "colab": {
          "base_uri": "https://localhost:8080/"
        },
        "outputId": "d5ed9442-d627-44a9-e395-b6e069f21a5d"
      },
      "execution_count": null,
      "outputs": [
        {
          "output_type": "stream",
          "name": "stdout",
          "text": [
            "\n",
            "\n",
            "               SSS          DYN         Prec          SST         WSPD  \\\n",
            "count  1826.000000  1826.000000  1826.000000  1826.000000  1826.000000   \n",
            "mean     37.104714   101.193409     0.075241    26.733721     4.856969   \n",
            "std       0.375120     3.090643     0.432240     1.476417     1.681027   \n",
            "min      36.342000    93.750000    -0.060000    23.980000     0.600000   \n",
            "25%      36.770250    98.820000    -0.010000    25.552500     3.600000   \n",
            "50%      37.251000   101.155000     0.000000    26.810000     4.800000   \n",
            "75%      37.403000   102.877500     0.000000    27.807500     6.000000   \n",
            "max      37.710000   111.120000     9.460000    30.180000     9.700000   \n",
            "\n",
            "              WDIR  \n",
            "count  1826.000000  \n",
            "mean    259.443661  \n",
            "std      59.034056  \n",
            "min       0.200000  \n",
            "25%     238.900000  \n",
            "50%     270.350000  \n",
            "75%     293.100000  \n",
            "max     359.400000  \n"
          ]
        }
      ]
    },
    {
      "cell_type": "code",
      "source": [
        "print(pirataFULL.isnull().sum())"
      ],
      "metadata": {
        "id": "QpQBGZkXkL5t",
        "colab": {
          "base_uri": "https://localhost:8080/"
        },
        "outputId": "c1f463eb-eb01-4a6c-93e6-013baf927d6c"
      },
      "execution_count": null,
      "outputs": [
        {
          "output_type": "stream",
          "name": "stdout",
          "text": [
            "SSS     0\n",
            "DYN     0\n",
            "Prec    0\n",
            "SST     0\n",
            "WSPD    0\n",
            "WDIR    0\n",
            "dtype: int64\n"
          ]
        }
      ]
    },
    {
      "cell_type": "markdown",
      "source": [
        "#Nova coluna 'WDIR_CR'\n",
        "Direção do vento convertida de angulos (coluna 'WDIR') para texto (Compass Rose)\n",
        "\n",
        "\n"
      ],
      "metadata": {
        "id": "Hx8gTTRy7FrW"
      }
    },
    {
      "cell_type": "code",
      "source": [
        "for idx, row in pirataFULL.iterrows():\n",
        "  if pd.isnull(row[\"WDIR\"]) == False:\n",
        "    ang_WDIR = row[\"WDIR\"]\n",
        "    new_WDIR_CR = int((ang_WDIR/22.5)+.5)\n",
        "    arr_CR = [\"N\",\"NNE\",\"NE\",\"ENE\",\"E\",\"ESE\", \"SE\", \"SSE\",\"S\",\"SSW\",\"SW\",\"WSW\",\"W\",\"WNW\",\"NW\",\"NNW\"]\n",
        "    pirataFULL.loc[idx,\"WDIR_CR\"] = arr_CR[(new_WDIR_CR % 16)]\n"
      ],
      "metadata": {
        "id": "Qr8U2O3W7lwv"
      },
      "execution_count": null,
      "outputs": []
    },
    {
      "cell_type": "code",
      "source": [
        "pirataFULL.columns"
      ],
      "metadata": {
        "id": "6jfW9Uiv_4Hm",
        "colab": {
          "base_uri": "https://localhost:8080/"
        },
        "outputId": "155abbc6-2333-4278-8886-1065c5f57a53"
      },
      "execution_count": null,
      "outputs": [
        {
          "output_type": "execute_result",
          "data": {
            "text/plain": [
              "Index(['SSS', 'DYN', 'Prec', 'SST', 'WSPD', 'WDIR', 'WDIR_CR'], dtype='object')"
            ]
          },
          "metadata": {},
          "execution_count": 578
        }
      ]
    },
    {
      "cell_type": "markdown",
      "source": [
        "# Alteração do nome das colunas para inserir prefixo 'PIR_'\\\n",
        "Prefixo para identificar origem dos dados do programa 'PIRATA'"
      ],
      "metadata": {
        "id": "lgEEMdaP_beA"
      }
    },
    {
      "cell_type": "code",
      "source": [
        "pirataFULL.rename(columns={'SSS': 'PIR_SSS'}, inplace=True)\n",
        "pirataFULL.rename(columns={'DYN': 'PIR_DYN'}, inplace=True)\n",
        "pirataFULL.rename(columns={'Prec': 'PIR_PREC'}, inplace=True)\n",
        "pirataFULL.rename(columns={'SST': 'PIR_SST'}, inplace=True)\n",
        "pirataFULL.rename(columns={'WSPD': 'PIR_WSPD'}, inplace=True)\n",
        "pirataFULL.rename(columns={'WDIR': 'PIR_WDIR'}, inplace=True)\n",
        "pirataFULL.rename(columns={'WDIR_CR': 'PIR_WDIRCR'}, inplace=True)"
      ],
      "metadata": {
        "id": "bXSUPtan9KH8"
      },
      "execution_count": null,
      "outputs": []
    },
    {
      "cell_type": "code",
      "source": [
        "pirataFULL.columns\n",
        "\n",
        "print(\"\\n\", pirataFULL.describe(), sep='\\n')"
      ],
      "metadata": {
        "id": "CDKAljqJABtW",
        "colab": {
          "base_uri": "https://localhost:8080/"
        },
        "outputId": "c409bd26-4551-4e03-9313-9902354dab91"
      },
      "execution_count": null,
      "outputs": [
        {
          "output_type": "stream",
          "name": "stdout",
          "text": [
            "\n",
            "\n",
            "           PIR_SSS      PIR_DYN     PIR_PREC      PIR_SST     PIR_WSPD  \\\n",
            "count  1826.000000  1826.000000  1826.000000  1826.000000  1826.000000   \n",
            "mean     37.104714   101.193409     0.075241    26.733721     4.856969   \n",
            "std       0.375120     3.090643     0.432240     1.476417     1.681027   \n",
            "min      36.342000    93.750000    -0.060000    23.980000     0.600000   \n",
            "25%      36.770250    98.820000    -0.010000    25.552500     3.600000   \n",
            "50%      37.251000   101.155000     0.000000    26.810000     4.800000   \n",
            "75%      37.403000   102.877500     0.000000    27.807500     6.000000   \n",
            "max      37.710000   111.120000     9.460000    30.180000     9.700000   \n",
            "\n",
            "          PIR_WDIR  \n",
            "count  1826.000000  \n",
            "mean    259.443661  \n",
            "std      59.034056  \n",
            "min       0.200000  \n",
            "25%     238.900000  \n",
            "50%     270.350000  \n",
            "75%     293.100000  \n",
            "max     359.400000  \n"
          ]
        }
      ]
    },
    {
      "cell_type": "code",
      "source": [],
      "metadata": {
        "id": "h651-su0A3qm"
      },
      "execution_count": null,
      "outputs": []
    }
  ]
}